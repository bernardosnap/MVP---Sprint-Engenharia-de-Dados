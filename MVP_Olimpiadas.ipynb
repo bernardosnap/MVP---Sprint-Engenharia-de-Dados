{
 "cells": [
  {
   "cell_type": "markdown",
   "metadata": {
    "application/vnd.databricks.v1+cell": {
     "cellMetadata": {
      "byteLimit": 2048000,
      "rowLimit": 10000
     },
     "inputWidgets": {},
     "nuid": "ab14c63e-bd59-4dcc-a8c2-5b1a5e8ed623",
     "showTitle": false,
     "title": ""
    }
   },
   "source": [
    "# Definição do Problema"
   ]
  },
  {
   "cell_type": "markdown",
   "metadata": {
    "application/vnd.databricks.v1+cell": {
     "cellMetadata": {
      "byteLimit": 2048000,
      "rowLimit": 10000
     },
     "inputWidgets": {},
     "nuid": "f0e9ccdd-9b17-40dc-af32-1c2884f2a544",
     "showTitle": false,
     "title": ""
    }
   },
   "source": [
    "**A Chama Olímpica: Desvendando o Esporte de Alto Nível**\n",
    "\n",
    "A cada 4 anos, o espírito olímpico toma conta do mundo, inspirando atletas, torcedores e nações. Com isso em mente, propõe-se uma análise de dados que busca responder algumas perguntas em relação aos Jogos Olímpicos de Verão, tais como:\n",
    "\n",
    "\n",
    "\n",
    "*   Qual a relação entre ser o país anfitrião e o número de medalhas conquistadas nas últimas 5 edições?\n",
    "*   Quais os países têm mais medalhas mesmo tendo uma população pequena e quais são os esportes que eles mais se destacam?\n",
    "*   Como se dá a distribuição de medalhas do Brasil?\n",
    "*   Algum país que está em franca evolução nas últimas 4 olimpíadas?\n",
    "*   Qual o maior detentetor de medalhas de ouro na história entre homens e entre mulheres?\n",
    "*   Quais os maiores medalhistas de ouro e em geral do Brasil?\n",
    "\n",
    "\n",
    "\n"
   ]
  },
  {
   "cell_type": "markdown",
   "metadata": {
    "application/vnd.databricks.v1+cell": {
     "cellMetadata": {
      "byteLimit": 2048000,
      "rowLimit": 10000
     },
     "inputWidgets": {},
     "nuid": "df259837-ef8a-4e79-ac0d-2c3811cbc021",
     "showTitle": false,
     "title": ""
    }
   },
   "source": [
    "**Hipóteses**\n",
    "\n",
    "Para os problemas em questão, algumas hipóteses são levantadas, dentre elas:\n",
    "\n",
    "\n",
    "\n",
    "*   O país anfitrião tende a ter um desempenho melhor nos Jogos Olímpicos, pois a organização local pode influenciar a performance dos atletas.\n",
    "*   Países com populações menores tendem a se especializar em esportes que requerem habilidades específicas, como a ginástica, e podem ter um desempenho mais alto em relação à sua população.\n",
    "*    Países que têm investido em infraestrutura e treinamento podem mostrar um crescimento significativo em suas medalhas conquistadas.\n",
    "*   Os maiores atletas da história são de países que possuem o maior número de medalhas na história.\n",
    "\n",
    "\n",
    "\n"
   ]
  },
  {
   "cell_type": "markdown",
   "metadata": {
    "application/vnd.databricks.v1+cell": {
     "cellMetadata": {
      "byteLimit": 2048000,
      "rowLimit": 10000
     },
     "inputWidgets": {},
     "nuid": "0274f255-ba20-481c-80c5-c8772f64b565",
     "showTitle": false,
     "title": ""
    }
   },
   "source": [
    "**Restrições e Condições para Seleção de Dados**\n",
    "\n",
    "A fim de garantir uma qualidade e confiabilidade da análise, algumas restrições e condições foram usadas para seleção dos dados:\n",
    "\n",
    "\n",
    "\n",
    "*   **Qualidade dos dados**: os dados utilizados são precisos e consistentes.\n",
    "*   **Diversidade dos datasets**: os datasets incluem informações de diferentes épocas.\n",
    "\n"
   ]
  },
  {
   "cell_type": "markdown",
   "metadata": {
    "application/vnd.databricks.v1+cell": {
     "cellMetadata": {
      "byteLimit": 2048000,
      "rowLimit": 10000
     },
     "inputWidgets": {},
     "nuid": "aecdba42-0507-41cc-8790-e25a2420f690",
     "showTitle": false,
     "title": ""
    }
   },
   "source": [
    "**Importação de bibliotecas**"
   ]
  },
  {
   "cell_type": "code",
   "execution_count": 0,
   "metadata": {
    "application/vnd.databricks.v1+cell": {
     "cellMetadata": {
      "byteLimit": 2048000,
      "rowLimit": 10000
     },
     "inputWidgets": {},
     "nuid": "07b3b045-04d6-4c46-8d6e-cf740564a54c",
     "showTitle": false,
     "title": ""
    }
   },
   "outputs": [
    {
     "output_type": "display_data",
     "data": {
      "application/vnd.databricks.v1+bamboolib_hint": "{\"pd.DataFrames\": [], \"version\": \"0.0.1\"}",
      "text/plain": []
     },
     "metadata": {},
     "output_type": "display_data"
    }
   ],
   "source": [
    "import warnings\n",
    "warnings.filterwarnings(\"ignore\")\n",
    "import pandas as pd\n",
    "import matplotlib.pyplot as plt\n",
    "import urllib.request\n",
    "from PIL import Image\n",
    "import numpy as np\n",
    "from pyspark.sql import SparkSession\n",
    "from pyspark.sql.functions import min, max, col"
   ]
  },
  {
   "cell_type": "markdown",
   "metadata": {
    "application/vnd.databricks.v1+cell": {
     "cellMetadata": {
      "byteLimit": 2048000,
      "rowLimit": 10000
     },
     "inputWidgets": {},
     "nuid": "147df27c-512c-4322-923e-dc853c4d0cd7",
     "showTitle": false,
     "title": ""
    }
   },
   "source": [
    "# Camada Bronze\n",
    "\n",
    "Todos os datasets utilizados no projeto foram retirados do Kaggle e salvos no formato de tabela dentro do databricks. Eles representam a camada bronze da arquitetura de dados, ou seja, os dados estão brutos.\n",
    "\n",
    "https://www.kaggle.com/datasets/piterfm/olympic-games-medals-19862018\n",
    "\n",
    "https://www.kaggle.com/datasets/ayushparwal2026/country-population-from-1960-to-2022"
   ]
  },
  {
   "cell_type": "code",
   "execution_count": 0,
   "metadata": {
    "application/vnd.databricks.v1+cell": {
     "cellMetadata": {
      "byteLimit": 2048000,
      "rowLimit": 10000
     },
     "inputWidgets": {},
     "nuid": "782119b2-7d51-4f4d-b4eb-a442ad41e483",
     "showTitle": false,
     "title": ""
    }
   },
   "outputs": [],
   "source": [
    "# Criar uma sessão do Spark\n",
    "spark = SparkSession.builder.appName(\"Olimpiadas\").getOrCreate()\n",
    "\n",
    "# Ler o CSV do DBFS\n",
    "atletas = spark.read.csv(\"dbfs:/FileStore/tables/athletes.csv\", header=True)\n",
    "sedes = spark.read.csv(\"dbfs:/FileStore/tables/olympic_hosts.csv\", header=True)\n",
    "medalhas = spark.read.csv(\"dbfs:/FileStore/tables/olympic_medals.csv\", header=True)\n",
    "populacao = spark.read.csv(\"dbfs:/FileStore/tables/population.csv\", header=True)\n",
    "\n",
    "# Converter para Pandas DataFrame, se necessário\n",
    "dt_atletas = atletas.toPandas()\n",
    "dt_sedes = sedes.toPandas()\n",
    "dt_medalhas = medalhas.toPandas()\n",
    "dt_populacao = populacao.toPandas()"
   ]
  },
  {
   "cell_type": "markdown",
   "metadata": {
    "application/vnd.databricks.v1+cell": {
     "cellMetadata": {
      "byteLimit": 2048000,
      "rowLimit": 10000
     },
     "inputWidgets": {},
     "nuid": "6a94ddd9-9b3f-49d7-9a6f-47b7fd2c1d13",
     "showTitle": false,
     "title": ""
    }
   },
   "source": [
    "**ATLETAS**"
   ]
  },
  {
   "cell_type": "code",
   "execution_count": 0,
   "metadata": {
    "application/vnd.databricks.v1+cell": {
     "cellMetadata": {
      "byteLimit": 2048000,
      "rowLimit": 10000
     },
     "inputWidgets": {},
     "nuid": "d725fb1b-4af6-4f4e-84da-a03a8ce01a65",
     "showTitle": false,
     "title": ""
    }
   },
   "outputs": [
    {
     "output_type": "display_data",
     "data": {
      "text/html": [
       "<div>\n",
       "<style scoped>\n",
       "    .dataframe tbody tr th:only-of-type {\n",
       "        vertical-align: middle;\n",
       "    }\n",
       "\n",
       "    .dataframe tbody tr th {\n",
       "        vertical-align: top;\n",
       "    }\n",
       "\n",
       "    .dataframe thead th {\n",
       "        text-align: right;\n",
       "    }\n",
       "</style>\n",
       "<table border=\"1\" class=\"dataframe\">\n",
       "  <thead>\n",
       "    <tr style=\"text-align: right;\">\n",
       "      <th></th>\n",
       "      <th>athlete_url</th>\n",
       "      <th>athlete_full_name</th>\n",
       "      <th>games_participations</th>\n",
       "      <th>first_game</th>\n",
       "      <th>athlete_year_birth</th>\n",
       "      <th>athlete_medals</th>\n",
       "    </tr>\n",
       "  </thead>\n",
       "  <tbody>\n",
       "    <tr>\n",
       "      <th>8676</th>\n",
       "      <td>https://olympics.com/en/athletes/aleksandr-iva...</td>\n",
       "      <td>Aleksandr IVANOV</td>\n",
       "      <td>1</td>\n",
       "      <td>Montreal 1976</td>\n",
       "      <td>1951.0</td>\n",
       "      <td>1</td>\n",
       "    </tr>\n",
       "    <tr>\n",
       "      <th>6250</th>\n",
       "      <td>https://olympics.com/en/athletes/kevin-jackson</td>\n",
       "      <td>Kevin JACKSON</td>\n",
       "      <td>1</td>\n",
       "      <td>Barcelona 1992</td>\n",
       "      <td>1964.0</td>\n",
       "      <td>1</td>\n",
       "    </tr>\n",
       "    <tr>\n",
       "      <th>15100</th>\n",
       "      <td>https://olympics.com/en/athletes/ronald-ludington</td>\n",
       "      <td>Ronald LUDINGTON</td>\n",
       "      <td>1</td>\n",
       "      <td>Squaw Valley 1960</td>\n",
       "      <td>1934.0</td>\n",
       "      <td>1</td>\n",
       "    </tr>\n",
       "    <tr>\n",
       "      <th>5348</th>\n",
       "      <td>https://olympics.com/en/athletes/nils-schumann</td>\n",
       "      <td>Nils SCHUMANN</td>\n",
       "      <td>1</td>\n",
       "      <td>Sydney 2000</td>\n",
       "      <td>1978.0</td>\n",
       "      <td>1</td>\n",
       "    </tr>\n",
       "    <tr>\n",
       "      <th>2187</th>\n",
       "      <td>https://olympics.com/en/athletes/marcel-nguyen</td>\n",
       "      <td>Marcel NGUYEN</td>\n",
       "      <td>3</td>\n",
       "      <td>Beijing 2008</td>\n",
       "      <td>1987.0</td>\n",
       "      <td>2</td>\n",
       "    </tr>\n",
       "    <tr>\n",
       "      <th>9137</th>\n",
       "      <td>https://olympics.com/en/athletes/craig-howard-...</td>\n",
       "      <td>Craig Howard LINCOLN</td>\n",
       "      <td>1</td>\n",
       "      <td>Munich 1972</td>\n",
       "      <td>1950.0</td>\n",
       "      <td>1</td>\n",
       "    </tr>\n",
       "    <tr>\n",
       "      <th>4690</th>\n",
       "      <td>https://olympics.com/en/athletes/alexandra-geo...</td>\n",
       "      <td>Alexandra Georgiana EREMIA</td>\n",
       "      <td>1</td>\n",
       "      <td>Athens 2004</td>\n",
       "      <td>1987.0</td>\n",
       "      <td>2</td>\n",
       "    </tr>\n",
       "    <tr>\n",
       "      <th>3329</th>\n",
       "      <td>https://olympics.com/en/athletes/hyeonju-choi</td>\n",
       "      <td>Hyeonju CHOI</td>\n",
       "      <td>1</td>\n",
       "      <td>London 2012</td>\n",
       "      <td>1984.0</td>\n",
       "      <td>1</td>\n",
       "    </tr>\n",
       "    <tr>\n",
       "      <th>7891</th>\n",
       "      <td>https://olympics.com/en/athletes/pavel-pavlov-1</td>\n",
       "      <td>Pavel PAVLOV</td>\n",
       "      <td>1</td>\n",
       "      <td>Moscow 1980</td>\n",
       "      <td>1953.0</td>\n",
       "      <td>1</td>\n",
       "    </tr>\n",
       "    <tr>\n",
       "      <th>9992</th>\n",
       "      <td>https://olympics.com/en/athletes/mariya-gusakova</td>\n",
       "      <td>Mariya GUSAKOVA</td>\n",
       "      <td>2</td>\n",
       "      <td>Squaw Valley 1960</td>\n",
       "      <td>1931.0</td>\n",
       "      <td>3</td>\n",
       "    </tr>\n",
       "  </tbody>\n",
       "</table>\n",
       "</div>"
      ]
     },
     "metadata": {
      "application/vnd.databricks.v1+output": {
       "addedWidgets": {},
       "arguments": {},
       "data": "<div>\n<style scoped>\n    .dataframe tbody tr th:only-of-type {\n        vertical-align: middle;\n    }\n\n    .dataframe tbody tr th {\n        vertical-align: top;\n    }\n\n    .dataframe thead th {\n        text-align: right;\n    }\n</style>\n<table border=\"1\" class=\"dataframe\">\n  <thead>\n    <tr style=\"text-align: right;\">\n      <th></th>\n      <th>athlete_url</th>\n      <th>athlete_full_name</th>\n      <th>games_participations</th>\n      <th>first_game</th>\n      <th>athlete_year_birth</th>\n      <th>athlete_medals</th>\n    </tr>\n  </thead>\n  <tbody>\n    <tr>\n      <th>8676</th>\n      <td>https://olympics.com/en/athletes/aleksandr-iva...</td>\n      <td>Aleksandr IVANOV</td>\n      <td>1</td>\n      <td>Montreal 1976</td>\n      <td>1951.0</td>\n      <td>1</td>\n    </tr>\n    <tr>\n      <th>6250</th>\n      <td>https://olympics.com/en/athletes/kevin-jackson</td>\n      <td>Kevin JACKSON</td>\n      <td>1</td>\n      <td>Barcelona 1992</td>\n      <td>1964.0</td>\n      <td>1</td>\n    </tr>\n    <tr>\n      <th>15100</th>\n      <td>https://olympics.com/en/athletes/ronald-ludington</td>\n      <td>Ronald LUDINGTON</td>\n      <td>1</td>\n      <td>Squaw Valley 1960</td>\n      <td>1934.0</td>\n      <td>1</td>\n    </tr>\n    <tr>\n      <th>5348</th>\n      <td>https://olympics.com/en/athletes/nils-schumann</td>\n      <td>Nils SCHUMANN</td>\n      <td>1</td>\n      <td>Sydney 2000</td>\n      <td>1978.0</td>\n      <td>1</td>\n    </tr>\n    <tr>\n      <th>2187</th>\n      <td>https://olympics.com/en/athletes/marcel-nguyen</td>\n      <td>Marcel NGUYEN</td>\n      <td>3</td>\n      <td>Beijing 2008</td>\n      <td>1987.0</td>\n      <td>2</td>\n    </tr>\n    <tr>\n      <th>9137</th>\n      <td>https://olympics.com/en/athletes/craig-howard-...</td>\n      <td>Craig Howard LINCOLN</td>\n      <td>1</td>\n      <td>Munich 1972</td>\n      <td>1950.0</td>\n      <td>1</td>\n    </tr>\n    <tr>\n      <th>4690</th>\n      <td>https://olympics.com/en/athletes/alexandra-geo...</td>\n      <td>Alexandra Georgiana EREMIA</td>\n      <td>1</td>\n      <td>Athens 2004</td>\n      <td>1987.0</td>\n      <td>2</td>\n    </tr>\n    <tr>\n      <th>3329</th>\n      <td>https://olympics.com/en/athletes/hyeonju-choi</td>\n      <td>Hyeonju CHOI</td>\n      <td>1</td>\n      <td>London 2012</td>\n      <td>1984.0</td>\n      <td>1</td>\n    </tr>\n    <tr>\n      <th>7891</th>\n      <td>https://olympics.com/en/athletes/pavel-pavlov-1</td>\n      <td>Pavel PAVLOV</td>\n      <td>1</td>\n      <td>Moscow 1980</td>\n      <td>1953.0</td>\n      <td>1</td>\n    </tr>\n    <tr>\n      <th>9992</th>\n      <td>https://olympics.com/en/athletes/mariya-gusakova</td>\n      <td>Mariya GUSAKOVA</td>\n      <td>2</td>\n      <td>Squaw Valley 1960</td>\n      <td>1931.0</td>\n      <td>3</td>\n    </tr>\n  </tbody>\n</table>\n</div>",
       "datasetInfos": [],
       "metadata": {},
       "removedWidgets": [],
       "textData": null,
       "type": "htmlSandbox"
      }
     },
     "output_type": "display_data"
    }
   ],
   "source": [
    "dt_atletas.sample(10)"
   ]
  },
  {
   "cell_type": "code",
   "execution_count": 0,
   "metadata": {
    "application/vnd.databricks.v1+cell": {
     "cellMetadata": {
      "byteLimit": 2048000,
      "rowLimit": 10000
     },
     "inputWidgets": {},
     "nuid": "412fb89c-c91d-4a52-ace9-ff4672113db4",
     "showTitle": false,
     "title": ""
    }
   },
   "outputs": [
    {
     "output_type": "stream",
     "name": "stdout",
     "output_type": "stream",
     "text": [
      "<class 'pandas.core.frame.DataFrame'>\nRangeIndex: 15352 entries, 0 to 15351\nData columns (total 6 columns):\n #   Column                Non-Null Count  Dtype \n---  ------                --------------  ----- \n 0   athlete_url           15352 non-null  object\n 1   athlete_full_name     15352 non-null  object\n 2   games_participations  15352 non-null  object\n 3   first_game            15352 non-null  object\n 4   athlete_year_birth    15087 non-null  object\n 5   athlete_medals        15352 non-null  object\ndtypes: object(6)\nmemory usage: 719.8+ KB\n"
     ]
    }
   ],
   "source": [
    "dt_atletas.info()"
   ]
  },
  {
   "cell_type": "markdown",
   "metadata": {
    "application/vnd.databricks.v1+cell": {
     "cellMetadata": {
      "byteLimit": 2048000,
      "rowLimit": 10000
     },
     "inputWidgets": {},
     "nuid": "3c819280-9fe5-4d4a-8cab-45f332d16451",
     "showTitle": false,
     "title": ""
    }
   },
   "source": [
    "**COLUNAS DO DATAFRAME dt_atletas**\n",
    "\n",
    "\n",
    "\n",
    "*   **athlete_url**: url do atleta no site do comitê olímpico internacional. \n",
    "*   **athlete_full_name**: nome completo do atleta. \n",
    "*   **games_participations**: número de participações em jogos olímpicos. \n",
    "*   **first_game**: primeira edição na qual o atleta participou. \n",
    "*   **athlete_year_birth**: ano de nascimento do atleta. \n",
    "*   **athlete_medals**: número de medalhas conquistadas pelo atleta. \n",
    "\n"
   ]
  },
  {
   "cell_type": "markdown",
   "metadata": {
    "application/vnd.databricks.v1+cell": {
     "cellMetadata": {
      "byteLimit": 2048000,
      "rowLimit": 10000
     },
     "inputWidgets": {},
     "nuid": "0bc8a148-228d-4036-ae26-fd9f892dbd63",
     "showTitle": false,
     "title": ""
    }
   },
   "source": [
    "**SEDES**"
   ]
  },
  {
   "cell_type": "code",
   "execution_count": 0,
   "metadata": {
    "application/vnd.databricks.v1+cell": {
     "cellMetadata": {
      "byteLimit": 2048000,
      "rowLimit": 10000
     },
     "inputWidgets": {},
     "nuid": "dcce596d-6c9e-4e64-ac88-50b31d0d588f",
     "showTitle": false,
     "title": ""
    }
   },
   "outputs": [
    {
     "output_type": "display_data",
     "data": {
      "text/html": [
       "<div>\n",
       "<style scoped>\n",
       "    .dataframe tbody tr th:only-of-type {\n",
       "        vertical-align: middle;\n",
       "    }\n",
       "\n",
       "    .dataframe tbody tr th {\n",
       "        vertical-align: top;\n",
       "    }\n",
       "\n",
       "    .dataframe thead th {\n",
       "        text-align: right;\n",
       "    }\n",
       "</style>\n",
       "<table border=\"1\" class=\"dataframe\">\n",
       "  <thead>\n",
       "    <tr style=\"text-align: right;\">\n",
       "      <th></th>\n",
       "      <th>game_slug</th>\n",
       "      <th>game_end_date</th>\n",
       "      <th>game_start_date</th>\n",
       "      <th>game_location</th>\n",
       "      <th>game_name</th>\n",
       "      <th>game_season</th>\n",
       "      <th>game_year</th>\n",
       "    </tr>\n",
       "  </thead>\n",
       "  <tbody>\n",
       "    <tr>\n",
       "      <th>12</th>\n",
       "      <td>nagano-1998</td>\n",
       "      <td>1998-02-22T11:00:00Z</td>\n",
       "      <td>1998-02-06T23:00:00Z</td>\n",
       "      <td>Japan</td>\n",
       "      <td>Nagano 1998</td>\n",
       "      <td>Winter</td>\n",
       "      <td>1998</td>\n",
       "    </tr>\n",
       "    <tr>\n",
       "      <th>0</th>\n",
       "      <td>beijing-2022</td>\n",
       "      <td>2022-02-20T12:00:00Z</td>\n",
       "      <td>2022-02-04T15:00:00Z</td>\n",
       "      <td>China</td>\n",
       "      <td>Beijing 2022</td>\n",
       "      <td>Winter</td>\n",
       "      <td>2022</td>\n",
       "    </tr>\n",
       "    <tr>\n",
       "      <th>29</th>\n",
       "      <td>tokyo-1964</td>\n",
       "      <td>1964-10-24T11:00:00Z</td>\n",
       "      <td>1964-10-09T23:00:00Z</td>\n",
       "      <td>Japan</td>\n",
       "      <td>Tokyo 1964</td>\n",
       "      <td>Summer</td>\n",
       "      <td>1964</td>\n",
       "    </tr>\n",
       "    <tr>\n",
       "      <th>41</th>\n",
       "      <td>los-angeles-1932</td>\n",
       "      <td>1932-08-14T19:00:00Z</td>\n",
       "      <td>1932-07-30T16:00:00Z</td>\n",
       "      <td>United States</td>\n",
       "      <td>Los Angeles 1932</td>\n",
       "      <td>Summer</td>\n",
       "      <td>1932</td>\n",
       "    </tr>\n",
       "    <tr>\n",
       "      <th>37</th>\n",
       "      <td>london-1948</td>\n",
       "      <td>1948-08-14T19:00:00Z</td>\n",
       "      <td>1948-07-29T07:00:00Z</td>\n",
       "      <td>Great Britain</td>\n",
       "      <td>London 1948</td>\n",
       "      <td>Summer</td>\n",
       "      <td>1948</td>\n",
       "    </tr>\n",
       "    <tr>\n",
       "      <th>17</th>\n",
       "      <td>seoul-1988</td>\n",
       "      <td>1988-10-02T10:00:00Z</td>\n",
       "      <td>1988-09-16T22:00:00Z</td>\n",
       "      <td>Republic of Korea</td>\n",
       "      <td>Seoul 1988</td>\n",
       "      <td>Summer</td>\n",
       "      <td>1988</td>\n",
       "    </tr>\n",
       "    <tr>\n",
       "      <th>32</th>\n",
       "      <td>squaw-valley-1960</td>\n",
       "      <td>1960-02-28T04:00:00Z</td>\n",
       "      <td>1960-02-18T16:00:00Z</td>\n",
       "      <td>United States</td>\n",
       "      <td>Squaw Valley 1960</td>\n",
       "      <td>Winter</td>\n",
       "      <td>1960</td>\n",
       "    </tr>\n",
       "    <tr>\n",
       "      <th>13</th>\n",
       "      <td>atlanta-1996</td>\n",
       "      <td>1996-08-05T21:00:00Z</td>\n",
       "      <td>1996-07-19T12:00:00Z</td>\n",
       "      <td>United States</td>\n",
       "      <td>Atlanta 1996</td>\n",
       "      <td>Summer</td>\n",
       "      <td>1996</td>\n",
       "    </tr>\n",
       "    <tr>\n",
       "      <th>15</th>\n",
       "      <td>barcelona-1992</td>\n",
       "      <td>1992-08-09T18:00:00Z</td>\n",
       "      <td>1992-07-25T06:00:00Z</td>\n",
       "      <td>Spain</td>\n",
       "      <td>Barcelona 1992</td>\n",
       "      <td>Summer</td>\n",
       "      <td>1992</td>\n",
       "    </tr>\n",
       "    <tr>\n",
       "      <th>28</th>\n",
       "      <td>grenoble-1968</td>\n",
       "      <td>1968-02-18T19:00:00Z</td>\n",
       "      <td>1968-02-06T07:00:00Z</td>\n",
       "      <td>France</td>\n",
       "      <td>Grenoble 1968</td>\n",
       "      <td>Winter</td>\n",
       "      <td>1968</td>\n",
       "    </tr>\n",
       "  </tbody>\n",
       "</table>\n",
       "</div>"
      ]
     },
     "metadata": {
      "application/vnd.databricks.v1+output": {
       "addedWidgets": {},
       "arguments": {},
       "data": "<div>\n<style scoped>\n    .dataframe tbody tr th:only-of-type {\n        vertical-align: middle;\n    }\n\n    .dataframe tbody tr th {\n        vertical-align: top;\n    }\n\n    .dataframe thead th {\n        text-align: right;\n    }\n</style>\n<table border=\"1\" class=\"dataframe\">\n  <thead>\n    <tr style=\"text-align: right;\">\n      <th></th>\n      <th>game_slug</th>\n      <th>game_end_date</th>\n      <th>game_start_date</th>\n      <th>game_location</th>\n      <th>game_name</th>\n      <th>game_season</th>\n      <th>game_year</th>\n    </tr>\n  </thead>\n  <tbody>\n    <tr>\n      <th>12</th>\n      <td>nagano-1998</td>\n      <td>1998-02-22T11:00:00Z</td>\n      <td>1998-02-06T23:00:00Z</td>\n      <td>Japan</td>\n      <td>Nagano 1998</td>\n      <td>Winter</td>\n      <td>1998</td>\n    </tr>\n    <tr>\n      <th>0</th>\n      <td>beijing-2022</td>\n      <td>2022-02-20T12:00:00Z</td>\n      <td>2022-02-04T15:00:00Z</td>\n      <td>China</td>\n      <td>Beijing 2022</td>\n      <td>Winter</td>\n      <td>2022</td>\n    </tr>\n    <tr>\n      <th>29</th>\n      <td>tokyo-1964</td>\n      <td>1964-10-24T11:00:00Z</td>\n      <td>1964-10-09T23:00:00Z</td>\n      <td>Japan</td>\n      <td>Tokyo 1964</td>\n      <td>Summer</td>\n      <td>1964</td>\n    </tr>\n    <tr>\n      <th>41</th>\n      <td>los-angeles-1932</td>\n      <td>1932-08-14T19:00:00Z</td>\n      <td>1932-07-30T16:00:00Z</td>\n      <td>United States</td>\n      <td>Los Angeles 1932</td>\n      <td>Summer</td>\n      <td>1932</td>\n    </tr>\n    <tr>\n      <th>37</th>\n      <td>london-1948</td>\n      <td>1948-08-14T19:00:00Z</td>\n      <td>1948-07-29T07:00:00Z</td>\n      <td>Great Britain</td>\n      <td>London 1948</td>\n      <td>Summer</td>\n      <td>1948</td>\n    </tr>\n    <tr>\n      <th>17</th>\n      <td>seoul-1988</td>\n      <td>1988-10-02T10:00:00Z</td>\n      <td>1988-09-16T22:00:00Z</td>\n      <td>Republic of Korea</td>\n      <td>Seoul 1988</td>\n      <td>Summer</td>\n      <td>1988</td>\n    </tr>\n    <tr>\n      <th>32</th>\n      <td>squaw-valley-1960</td>\n      <td>1960-02-28T04:00:00Z</td>\n      <td>1960-02-18T16:00:00Z</td>\n      <td>United States</td>\n      <td>Squaw Valley 1960</td>\n      <td>Winter</td>\n      <td>1960</td>\n    </tr>\n    <tr>\n      <th>13</th>\n      <td>atlanta-1996</td>\n      <td>1996-08-05T21:00:00Z</td>\n      <td>1996-07-19T12:00:00Z</td>\n      <td>United States</td>\n      <td>Atlanta 1996</td>\n      <td>Summer</td>\n      <td>1996</td>\n    </tr>\n    <tr>\n      <th>15</th>\n      <td>barcelona-1992</td>\n      <td>1992-08-09T18:00:00Z</td>\n      <td>1992-07-25T06:00:00Z</td>\n      <td>Spain</td>\n      <td>Barcelona 1992</td>\n      <td>Summer</td>\n      <td>1992</td>\n    </tr>\n    <tr>\n      <th>28</th>\n      <td>grenoble-1968</td>\n      <td>1968-02-18T19:00:00Z</td>\n      <td>1968-02-06T07:00:00Z</td>\n      <td>France</td>\n      <td>Grenoble 1968</td>\n      <td>Winter</td>\n      <td>1968</td>\n    </tr>\n  </tbody>\n</table>\n</div>",
       "datasetInfos": [],
       "metadata": {},
       "removedWidgets": [],
       "textData": null,
       "type": "htmlSandbox"
      }
     },
     "output_type": "display_data"
    }
   ],
   "source": [
    "dt_sedes.sample(10)"
   ]
  },
  {
   "cell_type": "code",
   "execution_count": 0,
   "metadata": {
    "application/vnd.databricks.v1+cell": {
     "cellMetadata": {
      "byteLimit": 2048000,
      "rowLimit": 10000
     },
     "inputWidgets": {},
     "nuid": "8fe03d1c-1eb8-4c48-8eb9-bb69da173bee",
     "showTitle": false,
     "title": ""
    }
   },
   "outputs": [
    {
     "output_type": "stream",
     "name": "stdout",
     "output_type": "stream",
     "text": [
      "<class 'pandas.core.frame.DataFrame'>\nRangeIndex: 53 entries, 0 to 52\nData columns (total 7 columns):\n #   Column           Non-Null Count  Dtype \n---  ------           --------------  ----- \n 0   game_slug        53 non-null     object\n 1   game_end_date    53 non-null     object\n 2   game_start_date  53 non-null     object\n 3   game_location    53 non-null     object\n 4   game_name        53 non-null     object\n 5   game_season      53 non-null     object\n 6   game_year        53 non-null     object\ndtypes: object(7)\nmemory usage: 3.0+ KB\n"
     ]
    }
   ],
   "source": [
    "dt_sedes.info()"
   ]
  },
  {
   "cell_type": "markdown",
   "metadata": {
    "application/vnd.databricks.v1+cell": {
     "cellMetadata": {
      "byteLimit": 2048000,
      "rowLimit": 10000
     },
     "inputWidgets": {},
     "nuid": "ea3bdc9d-229a-414f-9aec-397241b9f70c",
     "showTitle": false,
     "title": ""
    }
   },
   "source": [
    "**COLUNAS DO DATAFRAME dt_sedes**\n",
    "\n",
    "*   **game_slug**: código dos jogos. \n",
    "*   **game_end_date**: data da abertura dos jogos. \n",
    "*   **game_start_date**: data do encerramento dos jogos. \n",
    "*   **game_location**: país em que foi disputado a edição dos jogos. \n",
    "*   **game_name**: nome dos jogos.\n",
    "*   **game_season**: tipo dos jogos (de verão ou de inverno)\n",
    "*   **game_year**: ano em que foi disputado.\n",
    "\n"
   ]
  },
  {
   "cell_type": "markdown",
   "metadata": {
    "application/vnd.databricks.v1+cell": {
     "cellMetadata": {
      "byteLimit": 2048000,
      "rowLimit": 10000
     },
     "inputWidgets": {},
     "nuid": "9c7f7307-f823-41b6-a81f-2111ff9dbad9",
     "showTitle": false,
     "title": ""
    }
   },
   "source": [
    "**MEDALHAS**"
   ]
  },
  {
   "cell_type": "code",
   "execution_count": 0,
   "metadata": {
    "application/vnd.databricks.v1+cell": {
     "cellMetadata": {
      "byteLimit": 2048000,
      "rowLimit": 10000
     },
     "inputWidgets": {},
     "nuid": "17d858ca-7f0c-43d1-9170-a9edc2c386d5",
     "showTitle": false,
     "title": ""
    }
   },
   "outputs": [
    {
     "output_type": "display_data",
     "data": {
      "text/html": [
       "<div>\n",
       "<style scoped>\n",
       "    .dataframe tbody tr th:only-of-type {\n",
       "        vertical-align: middle;\n",
       "    }\n",
       "\n",
       "    .dataframe tbody tr th {\n",
       "        vertical-align: top;\n",
       "    }\n",
       "\n",
       "    .dataframe thead th {\n",
       "        text-align: right;\n",
       "    }\n",
       "</style>\n",
       "<table border=\"1\" class=\"dataframe\">\n",
       "  <thead>\n",
       "    <tr style=\"text-align: right;\">\n",
       "      <th></th>\n",
       "      <th>discipline_title</th>\n",
       "      <th>slug_game</th>\n",
       "      <th>event_title</th>\n",
       "      <th>event_gender</th>\n",
       "      <th>medal_type</th>\n",
       "      <th>participant_type</th>\n",
       "      <th>participant_title</th>\n",
       "      <th>athlete_url</th>\n",
       "      <th>athlete_full_name</th>\n",
       "      <th>country_name</th>\n",
       "      <th>country_code</th>\n",
       "      <th>country_3_letter_code</th>\n",
       "    </tr>\n",
       "  </thead>\n",
       "  <tbody>\n",
       "    <tr>\n",
       "      <th>19888</th>\n",
       "      <td>Boxing</td>\n",
       "      <td>antwerp-1920</td>\n",
       "      <td>6124  6668kg welterweight men</td>\n",
       "      <td>Men</td>\n",
       "      <td>BRONZE</td>\n",
       "      <td>Athlete</td>\n",
       "      <td>None</td>\n",
       "      <td>None</td>\n",
       "      <td>Fred Kolberg</td>\n",
       "      <td>United States of America</td>\n",
       "      <td>US</td>\n",
       "      <td>USA</td>\n",
       "    </tr>\n",
       "    <tr>\n",
       "      <th>782</th>\n",
       "      <td>Badminton</td>\n",
       "      <td>tokyo-2020</td>\n",
       "      <td>Women's Doubles</td>\n",
       "      <td>Women</td>\n",
       "      <td>BRONZE</td>\n",
       "      <td>GameTeam</td>\n",
       "      <td>KIM Soyeong/KONG Heeyong</td>\n",
       "      <td>https://olympics.com/en/athletes/soyeong-kim</td>\n",
       "      <td>Soyeong KIM</td>\n",
       "      <td>Republic of Korea</td>\n",
       "      <td>KR</td>\n",
       "      <td>KOR</td>\n",
       "    </tr>\n",
       "    <tr>\n",
       "      <th>17739</th>\n",
       "      <td>Rowing</td>\n",
       "      <td>london-1948</td>\n",
       "      <td>four-oared shell with coxswain men</td>\n",
       "      <td>Men</td>\n",
       "      <td>GOLD</td>\n",
       "      <td>GameTeam</td>\n",
       "      <td>United States team</td>\n",
       "      <td>None</td>\n",
       "      <td>None</td>\n",
       "      <td>United States of America</td>\n",
       "      <td>US</td>\n",
       "      <td>USA</td>\n",
       "    </tr>\n",
       "    <tr>\n",
       "      <th>12207</th>\n",
       "      <td>Boxing</td>\n",
       "      <td>los-angeles-1984</td>\n",
       "      <td>48-51kg flyweight men</td>\n",
       "      <td>Men</td>\n",
       "      <td>BRONZE</td>\n",
       "      <td>Athlete</td>\n",
       "      <td>None</td>\n",
       "      <td>https://olympics.com/en/athletes/ibrahim-bilali</td>\n",
       "      <td>Ibrahim BILALI</td>\n",
       "      <td>Kenya</td>\n",
       "      <td>KE</td>\n",
       "      <td>KEN</td>\n",
       "    </tr>\n",
       "    <tr>\n",
       "      <th>2788</th>\n",
       "      <td>Taekwondo</td>\n",
       "      <td>rio-2016</td>\n",
       "      <td>- 49 kg women</td>\n",
       "      <td>Women</td>\n",
       "      <td>SILVER</td>\n",
       "      <td>Athlete</td>\n",
       "      <td>None</td>\n",
       "      <td>https://olympics.com/en/athletes/tijana-bogdan...</td>\n",
       "      <td>Tijana BOGDANOVIC</td>\n",
       "      <td>Serbia</td>\n",
       "      <td>RS</td>\n",
       "      <td>SRB</td>\n",
       "    </tr>\n",
       "    <tr>\n",
       "      <th>392</th>\n",
       "      <td>Shooting</td>\n",
       "      <td>tokyo-2020</td>\n",
       "      <td>10m Air Rifle Mixed Team</td>\n",
       "      <td>Mixed</td>\n",
       "      <td>BRONZE</td>\n",
       "      <td>GameTeam</td>\n",
       "      <td>ROC 2</td>\n",
       "      <td>https://olympics.com/en/athletes/yulia-karimova</td>\n",
       "      <td>Yulia KARIMOVA</td>\n",
       "      <td>ROC</td>\n",
       "      <td>ROC</td>\n",
       "      <td>ROC</td>\n",
       "    </tr>\n",
       "    <tr>\n",
       "      <th>9028</th>\n",
       "      <td>Athletics</td>\n",
       "      <td>atlanta-1996</td>\n",
       "      <td>shot put men</td>\n",
       "      <td>Men</td>\n",
       "      <td>GOLD</td>\n",
       "      <td>Athlete</td>\n",
       "      <td>None</td>\n",
       "      <td>https://olympics.com/en/athletes/eric-randolph...</td>\n",
       "      <td>Eric Randolph BARNES</td>\n",
       "      <td>United States of America</td>\n",
       "      <td>US</td>\n",
       "      <td>USA</td>\n",
       "    </tr>\n",
       "    <tr>\n",
       "      <th>5917</th>\n",
       "      <td>Rowing</td>\n",
       "      <td>athens-2004</td>\n",
       "      <td>eight with coxswain 8 women</td>\n",
       "      <td>Women</td>\n",
       "      <td>BRONZE</td>\n",
       "      <td>GameTeam</td>\n",
       "      <td>Netherlands team</td>\n",
       "      <td>None</td>\n",
       "      <td>None</td>\n",
       "      <td>Netherlands</td>\n",
       "      <td>NL</td>\n",
       "      <td>NED</td>\n",
       "    </tr>\n",
       "    <tr>\n",
       "      <th>5797</th>\n",
       "      <td>Nordic Combined</td>\n",
       "      <td>turin-2006</td>\n",
       "      <td>Individual sprint men</td>\n",
       "      <td>Men</td>\n",
       "      <td>BRONZE</td>\n",
       "      <td>Athlete</td>\n",
       "      <td>None</td>\n",
       "      <td>https://olympics.com/en/athletes/georg-hettich</td>\n",
       "      <td>Georg HETTICH</td>\n",
       "      <td>Germany</td>\n",
       "      <td>DE</td>\n",
       "      <td>GER</td>\n",
       "    </tr>\n",
       "    <tr>\n",
       "      <th>2201</th>\n",
       "      <td>Weightlifting</td>\n",
       "      <td>rio-2016</td>\n",
       "      <td>62kg featherweight men</td>\n",
       "      <td>Men</td>\n",
       "      <td>GOLD</td>\n",
       "      <td>Athlete</td>\n",
       "      <td>None</td>\n",
       "      <td>https://olympics.com/en/athletes/oscar-figueroa</td>\n",
       "      <td>Oscar FIGUEROA</td>\n",
       "      <td>Colombia</td>\n",
       "      <td>CO</td>\n",
       "      <td>COL</td>\n",
       "    </tr>\n",
       "  </tbody>\n",
       "</table>\n",
       "</div>"
      ]
     },
     "metadata": {
      "application/vnd.databricks.v1+output": {
       "addedWidgets": {},
       "arguments": {},
       "data": "<div>\n<style scoped>\n    .dataframe tbody tr th:only-of-type {\n        vertical-align: middle;\n    }\n\n    .dataframe tbody tr th {\n        vertical-align: top;\n    }\n\n    .dataframe thead th {\n        text-align: right;\n    }\n</style>\n<table border=\"1\" class=\"dataframe\">\n  <thead>\n    <tr style=\"text-align: right;\">\n      <th></th>\n      <th>discipline_title</th>\n      <th>slug_game</th>\n      <th>event_title</th>\n      <th>event_gender</th>\n      <th>medal_type</th>\n      <th>participant_type</th>\n      <th>participant_title</th>\n      <th>athlete_url</th>\n      <th>athlete_full_name</th>\n      <th>country_name</th>\n      <th>country_code</th>\n      <th>country_3_letter_code</th>\n    </tr>\n  </thead>\n  <tbody>\n    <tr>\n      <th>19888</th>\n      <td>Boxing</td>\n      <td>antwerp-1920</td>\n      <td>6124  6668kg welterweight men</td>\n      <td>Men</td>\n      <td>BRONZE</td>\n      <td>Athlete</td>\n      <td>None</td>\n      <td>None</td>\n      <td>Fred Kolberg</td>\n      <td>United States of America</td>\n      <td>US</td>\n      <td>USA</td>\n    </tr>\n    <tr>\n      <th>782</th>\n      <td>Badminton</td>\n      <td>tokyo-2020</td>\n      <td>Women's Doubles</td>\n      <td>Women</td>\n      <td>BRONZE</td>\n      <td>GameTeam</td>\n      <td>KIM Soyeong/KONG Heeyong</td>\n      <td>https://olympics.com/en/athletes/soyeong-kim</td>\n      <td>Soyeong KIM</td>\n      <td>Republic of Korea</td>\n      <td>KR</td>\n      <td>KOR</td>\n    </tr>\n    <tr>\n      <th>17739</th>\n      <td>Rowing</td>\n      <td>london-1948</td>\n      <td>four-oared shell with coxswain men</td>\n      <td>Men</td>\n      <td>GOLD</td>\n      <td>GameTeam</td>\n      <td>United States team</td>\n      <td>None</td>\n      <td>None</td>\n      <td>United States of America</td>\n      <td>US</td>\n      <td>USA</td>\n    </tr>\n    <tr>\n      <th>12207</th>\n      <td>Boxing</td>\n      <td>los-angeles-1984</td>\n      <td>48-51kg flyweight men</td>\n      <td>Men</td>\n      <td>BRONZE</td>\n      <td>Athlete</td>\n      <td>None</td>\n      <td>https://olympics.com/en/athletes/ibrahim-bilali</td>\n      <td>Ibrahim BILALI</td>\n      <td>Kenya</td>\n      <td>KE</td>\n      <td>KEN</td>\n    </tr>\n    <tr>\n      <th>2788</th>\n      <td>Taekwondo</td>\n      <td>rio-2016</td>\n      <td>- 49 kg women</td>\n      <td>Women</td>\n      <td>SILVER</td>\n      <td>Athlete</td>\n      <td>None</td>\n      <td>https://olympics.com/en/athletes/tijana-bogdan...</td>\n      <td>Tijana BOGDANOVIC</td>\n      <td>Serbia</td>\n      <td>RS</td>\n      <td>SRB</td>\n    </tr>\n    <tr>\n      <th>392</th>\n      <td>Shooting</td>\n      <td>tokyo-2020</td>\n      <td>10m Air Rifle Mixed Team</td>\n      <td>Mixed</td>\n      <td>BRONZE</td>\n      <td>GameTeam</td>\n      <td>ROC 2</td>\n      <td>https://olympics.com/en/athletes/yulia-karimova</td>\n      <td>Yulia KARIMOVA</td>\n      <td>ROC</td>\n      <td>ROC</td>\n      <td>ROC</td>\n    </tr>\n    <tr>\n      <th>9028</th>\n      <td>Athletics</td>\n      <td>atlanta-1996</td>\n      <td>shot put men</td>\n      <td>Men</td>\n      <td>GOLD</td>\n      <td>Athlete</td>\n      <td>None</td>\n      <td>https://olympics.com/en/athletes/eric-randolph...</td>\n      <td>Eric Randolph BARNES</td>\n      <td>United States of America</td>\n      <td>US</td>\n      <td>USA</td>\n    </tr>\n    <tr>\n      <th>5917</th>\n      <td>Rowing</td>\n      <td>athens-2004</td>\n      <td>eight with coxswain 8 women</td>\n      <td>Women</td>\n      <td>BRONZE</td>\n      <td>GameTeam</td>\n      <td>Netherlands team</td>\n      <td>None</td>\n      <td>None</td>\n      <td>Netherlands</td>\n      <td>NL</td>\n      <td>NED</td>\n    </tr>\n    <tr>\n      <th>5797</th>\n      <td>Nordic Combined</td>\n      <td>turin-2006</td>\n      <td>Individual sprint men</td>\n      <td>Men</td>\n      <td>BRONZE</td>\n      <td>Athlete</td>\n      <td>None</td>\n      <td>https://olympics.com/en/athletes/georg-hettich</td>\n      <td>Georg HETTICH</td>\n      <td>Germany</td>\n      <td>DE</td>\n      <td>GER</td>\n    </tr>\n    <tr>\n      <th>2201</th>\n      <td>Weightlifting</td>\n      <td>rio-2016</td>\n      <td>62kg featherweight men</td>\n      <td>Men</td>\n      <td>GOLD</td>\n      <td>Athlete</td>\n      <td>None</td>\n      <td>https://olympics.com/en/athletes/oscar-figueroa</td>\n      <td>Oscar FIGUEROA</td>\n      <td>Colombia</td>\n      <td>CO</td>\n      <td>COL</td>\n    </tr>\n  </tbody>\n</table>\n</div>",
       "datasetInfos": [],
       "metadata": {},
       "removedWidgets": [],
       "textData": null,
       "type": "htmlSandbox"
      }
     },
     "output_type": "display_data"
    }
   ],
   "source": [
    "dt_medalhas.sample(10)"
   ]
  },
  {
   "cell_type": "code",
   "execution_count": 0,
   "metadata": {
    "application/vnd.databricks.v1+cell": {
     "cellMetadata": {
      "byteLimit": 2048000,
      "rowLimit": 10000
     },
     "inputWidgets": {},
     "nuid": "a8edcc9d-00a2-4f36-b680-87b80f101e53",
     "showTitle": false,
     "title": ""
    }
   },
   "outputs": [
    {
     "output_type": "stream",
     "name": "stdout",
     "output_type": "stream",
     "text": [
      "<class 'pandas.core.frame.DataFrame'>\nRangeIndex: 21697 entries, 0 to 21696\nData columns (total 12 columns):\n #   Column                 Non-Null Count  Dtype \n---  ------                 --------------  ----- \n 0   discipline_title       21697 non-null  object\n 1   slug_game              21697 non-null  object\n 2   event_title            21697 non-null  object\n 3   event_gender           21697 non-null  object\n 4   medal_type             21697 non-null  object\n 5   participant_type       21697 non-null  object\n 6   participant_title      6584 non-null   object\n 7   athlete_url            17027 non-null  object\n 8   athlete_full_name      18073 non-null  object\n 9   country_name           21697 non-null  object\n 10  country_code           20200 non-null  object\n 11  country_3_letter_code  21697 non-null  object\ndtypes: object(12)\nmemory usage: 2.0+ MB\n"
     ]
    }
   ],
   "source": [
    "dt_medalhas.info()"
   ]
  },
  {
   "cell_type": "markdown",
   "metadata": {
    "application/vnd.databricks.v1+cell": {
     "cellMetadata": {
      "byteLimit": 2048000,
      "rowLimit": 10000
     },
     "inputWidgets": {},
     "nuid": "385abac4-1b5a-4ce0-aa91-23ab1603a2fa",
     "showTitle": false,
     "title": ""
    }
   },
   "source": [
    "**COLUNAS DO DATAFRAME**\n",
    "\n",
    "\n",
    "\n",
    "*   **discipline_title**: esporte que distribuiu a medalha.\n",
    "*   **slug_game**: código dos jogos.\n",
    "*   **event_title**: título do evento\n",
    "*   **event_gender**: gênero do evento.\n",
    "*   **medal_type**: tipo da medalha (ouro, prata ou bronze).\n",
    "*   **participant_type**: esporte coletivo ou indidividual.\n",
    "*   **participant_title**: nome do time que conquistou a medalha.\n",
    "*   **athlete_url**: url do atleta no site do comitê olímpico internacional.\n",
    "*   **athlete_full_name**: nome completo do atleta.\n",
    "*   **country_name**: nome do país.\n",
    "*   **country_code**: código do país.\n",
    "*   **country_3_letter_code**: código do país com 3 letras."
   ]
  },
  {
   "cell_type": "markdown",
   "metadata": {
    "application/vnd.databricks.v1+cell": {
     "cellMetadata": {
      "byteLimit": 2048000,
      "rowLimit": 10000
     },
     "inputWidgets": {},
     "nuid": "8e44303d-606b-4109-8531-3326b0e20f9f",
     "showTitle": false,
     "title": ""
    }
   },
   "source": [
    "**POPULAÇÃO**"
   ]
  },
  {
   "cell_type": "code",
   "execution_count": 0,
   "metadata": {
    "application/vnd.databricks.v1+cell": {
     "cellMetadata": {
      "byteLimit": 2048000,
      "rowLimit": 10000
     },
     "inputWidgets": {},
     "nuid": "32b69149-f03c-4d1f-9026-239eae13362f",
     "showTitle": false,
     "title": ""
    }
   },
   "outputs": [
    {
     "output_type": "display_data",
     "data": {
      "text/html": [
       "<div>\n",
       "<style scoped>\n",
       "    .dataframe tbody tr th:only-of-type {\n",
       "        vertical-align: middle;\n",
       "    }\n",
       "\n",
       "    .dataframe tbody tr th {\n",
       "        vertical-align: top;\n",
       "    }\n",
       "\n",
       "    .dataframe thead th {\n",
       "        text-align: right;\n",
       "    }\n",
       "</style>\n",
       "<table border=\"1\" class=\"dataframe\">\n",
       "  <thead>\n",
       "    <tr style=\"text-align: right;\">\n",
       "      <th></th>\n",
       "      <th>Country Name</th>\n",
       "      <th>1960</th>\n",
       "      <th>1961</th>\n",
       "      <th>1962</th>\n",
       "      <th>1963</th>\n",
       "      <th>1964</th>\n",
       "      <th>1965</th>\n",
       "      <th>1966</th>\n",
       "      <th>1967</th>\n",
       "      <th>1968</th>\n",
       "      <th>...</th>\n",
       "      <th>2013</th>\n",
       "      <th>2014</th>\n",
       "      <th>2015</th>\n",
       "      <th>2016</th>\n",
       "      <th>2017</th>\n",
       "      <th>2018</th>\n",
       "      <th>2019</th>\n",
       "      <th>2020</th>\n",
       "      <th>2021</th>\n",
       "      <th>2022</th>\n",
       "    </tr>\n",
       "  </thead>\n",
       "  <tbody>\n",
       "    <tr>\n",
       "      <th>209</th>\n",
       "      <td>Solomon Islands</td>\n",
       "      <td>133440.0</td>\n",
       "      <td>136780.0</td>\n",
       "      <td>140254.0</td>\n",
       "      <td>143863.0</td>\n",
       "      <td>147609.0</td>\n",
       "      <td>151495.0</td>\n",
       "      <td>155514.0</td>\n",
       "      <td>159667.0</td>\n",
       "      <td>163973.0</td>\n",
       "      <td>...</td>\n",
       "      <td>582365.0</td>\n",
       "      <td>597375.0</td>\n",
       "      <td>612660.0</td>\n",
       "      <td>628102.0</td>\n",
       "      <td>643634.0</td>\n",
       "      <td>659249.0</td>\n",
       "      <td>674993.0</td>\n",
       "      <td>691191.0</td>\n",
       "      <td>707851.0</td>\n",
       "      <td>724273.0</td>\n",
       "    </tr>\n",
       "    <tr>\n",
       "      <th>45</th>\n",
       "      <td>Colombia</td>\n",
       "      <td>15687688.0</td>\n",
       "      <td>16182414.0</td>\n",
       "      <td>16691282.0</td>\n",
       "      <td>17210956.0</td>\n",
       "      <td>17739754.0</td>\n",
       "      <td>18275814.0</td>\n",
       "      <td>18811407.0</td>\n",
       "      <td>19343961.0</td>\n",
       "      <td>19872503.0</td>\n",
       "      <td>...</td>\n",
       "      <td>46237930.0</td>\n",
       "      <td>46677947.0</td>\n",
       "      <td>47119728.0</td>\n",
       "      <td>47625955.0</td>\n",
       "      <td>48351671.0</td>\n",
       "      <td>49276961.0</td>\n",
       "      <td>50187406.0</td>\n",
       "      <td>50930662.0</td>\n",
       "      <td>51516562.0</td>\n",
       "      <td>51874024.0</td>\n",
       "    </tr>\n",
       "    <tr>\n",
       "      <th>170</th>\n",
       "      <td>North America</td>\n",
       "      <td>198624756.0</td>\n",
       "      <td>202007500.0</td>\n",
       "      <td>205198600.0</td>\n",
       "      <td>208253700.0</td>\n",
       "      <td>211262900.0</td>\n",
       "      <td>214031100.0</td>\n",
       "      <td>216659000.0</td>\n",
       "      <td>219176000.0</td>\n",
       "      <td>221503000.0</td>\n",
       "      <td>...</td>\n",
       "      <td>351207902.0</td>\n",
       "      <td>353888902.0</td>\n",
       "      <td>356507139.0</td>\n",
       "      <td>359245796.0</td>\n",
       "      <td>361731237.0</td>\n",
       "      <td>363967201.0</td>\n",
       "      <td>365995094.0</td>\n",
       "      <td>369582571.0</td>\n",
       "      <td>370321816.0</td>\n",
       "      <td>372280991.0</td>\n",
       "    </tr>\n",
       "    <tr>\n",
       "      <th>130</th>\n",
       "      <td>Lebanon</td>\n",
       "      <td>1798092.0</td>\n",
       "      <td>1853295.0</td>\n",
       "      <td>1911959.0</td>\n",
       "      <td>1971511.0</td>\n",
       "      <td>2030440.0</td>\n",
       "      <td>2087445.0</td>\n",
       "      <td>2145646.0</td>\n",
       "      <td>2203202.0</td>\n",
       "      <td>2262291.0</td>\n",
       "      <td>...</td>\n",
       "      <td>5678851.0</td>\n",
       "      <td>6274342.0</td>\n",
       "      <td>6398940.0</td>\n",
       "      <td>6258619.0</td>\n",
       "      <td>6109252.0</td>\n",
       "      <td>5950839.0</td>\n",
       "      <td>5781907.0</td>\n",
       "      <td>5662923.0</td>\n",
       "      <td>5592631.0</td>\n",
       "      <td>5489739.0</td>\n",
       "    </tr>\n",
       "    <tr>\n",
       "      <th>134</th>\n",
       "      <td>Latin America &amp; Caribbean</td>\n",
       "      <td>219142626.0</td>\n",
       "      <td>225304612.0</td>\n",
       "      <td>231638540.0</td>\n",
       "      <td>238127927.0</td>\n",
       "      <td>244742056.0</td>\n",
       "      <td>251458185.0</td>\n",
       "      <td>258225265.0</td>\n",
       "      <td>265030167.0</td>\n",
       "      <td>271885703.0</td>\n",
       "      <td>...</td>\n",
       "      <td>608642242.0</td>\n",
       "      <td>615046755.0</td>\n",
       "      <td>621390109.0</td>\n",
       "      <td>627668470.0</td>\n",
       "      <td>633797190.0</td>\n",
       "      <td>639628226.0</td>\n",
       "      <td>645295804.0</td>\n",
       "      <td>650534986.0</td>\n",
       "      <td>654980630.0</td>\n",
       "      <td>659310564.0</td>\n",
       "    </tr>\n",
       "    <tr>\n",
       "      <th>5</th>\n",
       "      <td>Albania</td>\n",
       "      <td>1608800.0</td>\n",
       "      <td>1659800.0</td>\n",
       "      <td>1711319.0</td>\n",
       "      <td>1762621.0</td>\n",
       "      <td>1814135.0</td>\n",
       "      <td>1864791.0</td>\n",
       "      <td>1914573.0</td>\n",
       "      <td>1965598.0</td>\n",
       "      <td>2022272.0</td>\n",
       "      <td>...</td>\n",
       "      <td>2895092.0</td>\n",
       "      <td>2889104.0</td>\n",
       "      <td>2880703.0</td>\n",
       "      <td>2876101.0</td>\n",
       "      <td>2873457.0</td>\n",
       "      <td>2866376.0</td>\n",
       "      <td>2854191.0</td>\n",
       "      <td>2837849.0</td>\n",
       "      <td>2811666.0</td>\n",
       "      <td>2777689.0</td>\n",
       "    </tr>\n",
       "    <tr>\n",
       "      <th>153</th>\n",
       "      <td>Middle East &amp; North Africa</td>\n",
       "      <td>104958259.0</td>\n",
       "      <td>107670788.0</td>\n",
       "      <td>110538003.0</td>\n",
       "      <td>113518054.0</td>\n",
       "      <td>116624655.0</td>\n",
       "      <td>119831991.0</td>\n",
       "      <td>123155200.0</td>\n",
       "      <td>126678043.0</td>\n",
       "      <td>130258116.0</td>\n",
       "      <td>...</td>\n",
       "      <td>422790409.0</td>\n",
       "      <td>431664579.0</td>\n",
       "      <td>440506473.0</td>\n",
       "      <td>448917409.0</td>\n",
       "      <td>456885486.0</td>\n",
       "      <td>465073490.0</td>\n",
       "      <td>473201775.0</td>\n",
       "      <td>479966649.0</td>\n",
       "      <td>486174763.0</td>\n",
       "      <td>493279469.0</td>\n",
       "    </tr>\n",
       "    <tr>\n",
       "      <th>76</th>\n",
       "      <td>Fiji</td>\n",
       "      <td>401841.0</td>\n",
       "      <td>414534.0</td>\n",
       "      <td>427695.0</td>\n",
       "      <td>441385.0</td>\n",
       "      <td>455214.0</td>\n",
       "      <td>469010.0</td>\n",
       "      <td>482358.0</td>\n",
       "      <td>494632.0</td>\n",
       "      <td>505979.0</td>\n",
       "      <td>...</td>\n",
       "      <td>913453.0</td>\n",
       "      <td>915560.0</td>\n",
       "      <td>917200.0</td>\n",
       "      <td>918371.0</td>\n",
       "      <td>919019.0</td>\n",
       "      <td>918996.0</td>\n",
       "      <td>918465.0</td>\n",
       "      <td>920422.0</td>\n",
       "      <td>924610.0</td>\n",
       "      <td>929766.0</td>\n",
       "    </tr>\n",
       "    <tr>\n",
       "      <th>157</th>\n",
       "      <td>North Macedonia</td>\n",
       "      <td>1462368.0</td>\n",
       "      <td>1481112.0</td>\n",
       "      <td>1497338.0</td>\n",
       "      <td>1511854.0</td>\n",
       "      <td>1529507.0</td>\n",
       "      <td>1547982.0</td>\n",
       "      <td>1567707.0</td>\n",
       "      <td>1588649.0</td>\n",
       "      <td>1610537.0</td>\n",
       "      <td>...</td>\n",
       "      <td>2064032.0</td>\n",
       "      <td>2067471.0</td>\n",
       "      <td>2070226.0</td>\n",
       "      <td>2072490.0</td>\n",
       "      <td>2074502.0</td>\n",
       "      <td>2076217.0</td>\n",
       "      <td>2076694.0</td>\n",
       "      <td>2072531.0</td>\n",
       "      <td>2065092.0</td>\n",
       "      <td>2057679.0</td>\n",
       "    </tr>\n",
       "    <tr>\n",
       "      <th>230</th>\n",
       "      <td>East Asia &amp; Pacific (IDA &amp; IBRD countries)</td>\n",
       "      <td>884811163.0</td>\n",
       "      <td>884080493.0</td>\n",
       "      <td>895683380.0</td>\n",
       "      <td>918644019.0</td>\n",
       "      <td>941205716.0</td>\n",
       "      <td>964393486.0</td>\n",
       "      <td>990895866.0</td>\n",
       "      <td>1016638561.0</td>\n",
       "      <td>1043384828.0</td>\n",
       "      <td>...</td>\n",
       "      <td>1993077336.0</td>\n",
       "      <td>2009149689.0</td>\n",
       "      <td>2024511016.0</td>\n",
       "      <td>2039794828.0</td>\n",
       "      <td>2055414680.0</td>\n",
       "      <td>2068898629.0</td>\n",
       "      <td>2080648616.0</td>\n",
       "      <td>2090523535.0</td>\n",
       "      <td>2097669023.0</td>\n",
       "      <td>2103055378.0</td>\n",
       "    </tr>\n",
       "  </tbody>\n",
       "</table>\n",
       "<p>10 rows × 64 columns</p>\n",
       "</div>"
      ]
     },
     "metadata": {
      "application/vnd.databricks.v1+output": {
       "addedWidgets": {},
       "arguments": {},
       "data": "<div>\n<style scoped>\n    .dataframe tbody tr th:only-of-type {\n        vertical-align: middle;\n    }\n\n    .dataframe tbody tr th {\n        vertical-align: top;\n    }\n\n    .dataframe thead th {\n        text-align: right;\n    }\n</style>\n<table border=\"1\" class=\"dataframe\">\n  <thead>\n    <tr style=\"text-align: right;\">\n      <th></th>\n      <th>Country Name</th>\n      <th>1960</th>\n      <th>1961</th>\n      <th>1962</th>\n      <th>1963</th>\n      <th>1964</th>\n      <th>1965</th>\n      <th>1966</th>\n      <th>1967</th>\n      <th>1968</th>\n      <th>...</th>\n      <th>2013</th>\n      <th>2014</th>\n      <th>2015</th>\n      <th>2016</th>\n      <th>2017</th>\n      <th>2018</th>\n      <th>2019</th>\n      <th>2020</th>\n      <th>2021</th>\n      <th>2022</th>\n    </tr>\n  </thead>\n  <tbody>\n    <tr>\n      <th>209</th>\n      <td>Solomon Islands</td>\n      <td>133440.0</td>\n      <td>136780.0</td>\n      <td>140254.0</td>\n      <td>143863.0</td>\n      <td>147609.0</td>\n      <td>151495.0</td>\n      <td>155514.0</td>\n      <td>159667.0</td>\n      <td>163973.0</td>\n      <td>...</td>\n      <td>582365.0</td>\n      <td>597375.0</td>\n      <td>612660.0</td>\n      <td>628102.0</td>\n      <td>643634.0</td>\n      <td>659249.0</td>\n      <td>674993.0</td>\n      <td>691191.0</td>\n      <td>707851.0</td>\n      <td>724273.0</td>\n    </tr>\n    <tr>\n      <th>45</th>\n      <td>Colombia</td>\n      <td>15687688.0</td>\n      <td>16182414.0</td>\n      <td>16691282.0</td>\n      <td>17210956.0</td>\n      <td>17739754.0</td>\n      <td>18275814.0</td>\n      <td>18811407.0</td>\n      <td>19343961.0</td>\n      <td>19872503.0</td>\n      <td>...</td>\n      <td>46237930.0</td>\n      <td>46677947.0</td>\n      <td>47119728.0</td>\n      <td>47625955.0</td>\n      <td>48351671.0</td>\n      <td>49276961.0</td>\n      <td>50187406.0</td>\n      <td>50930662.0</td>\n      <td>51516562.0</td>\n      <td>51874024.0</td>\n    </tr>\n    <tr>\n      <th>170</th>\n      <td>North America</td>\n      <td>198624756.0</td>\n      <td>202007500.0</td>\n      <td>205198600.0</td>\n      <td>208253700.0</td>\n      <td>211262900.0</td>\n      <td>214031100.0</td>\n      <td>216659000.0</td>\n      <td>219176000.0</td>\n      <td>221503000.0</td>\n      <td>...</td>\n      <td>351207902.0</td>\n      <td>353888902.0</td>\n      <td>356507139.0</td>\n      <td>359245796.0</td>\n      <td>361731237.0</td>\n      <td>363967201.0</td>\n      <td>365995094.0</td>\n      <td>369582571.0</td>\n      <td>370321816.0</td>\n      <td>372280991.0</td>\n    </tr>\n    <tr>\n      <th>130</th>\n      <td>Lebanon</td>\n      <td>1798092.0</td>\n      <td>1853295.0</td>\n      <td>1911959.0</td>\n      <td>1971511.0</td>\n      <td>2030440.0</td>\n      <td>2087445.0</td>\n      <td>2145646.0</td>\n      <td>2203202.0</td>\n      <td>2262291.0</td>\n      <td>...</td>\n      <td>5678851.0</td>\n      <td>6274342.0</td>\n      <td>6398940.0</td>\n      <td>6258619.0</td>\n      <td>6109252.0</td>\n      <td>5950839.0</td>\n      <td>5781907.0</td>\n      <td>5662923.0</td>\n      <td>5592631.0</td>\n      <td>5489739.0</td>\n    </tr>\n    <tr>\n      <th>134</th>\n      <td>Latin America &amp; Caribbean</td>\n      <td>219142626.0</td>\n      <td>225304612.0</td>\n      <td>231638540.0</td>\n      <td>238127927.0</td>\n      <td>244742056.0</td>\n      <td>251458185.0</td>\n      <td>258225265.0</td>\n      <td>265030167.0</td>\n      <td>271885703.0</td>\n      <td>...</td>\n      <td>608642242.0</td>\n      <td>615046755.0</td>\n      <td>621390109.0</td>\n      <td>627668470.0</td>\n      <td>633797190.0</td>\n      <td>639628226.0</td>\n      <td>645295804.0</td>\n      <td>650534986.0</td>\n      <td>654980630.0</td>\n      <td>659310564.0</td>\n    </tr>\n    <tr>\n      <th>5</th>\n      <td>Albania</td>\n      <td>1608800.0</td>\n      <td>1659800.0</td>\n      <td>1711319.0</td>\n      <td>1762621.0</td>\n      <td>1814135.0</td>\n      <td>1864791.0</td>\n      <td>1914573.0</td>\n      <td>1965598.0</td>\n      <td>2022272.0</td>\n      <td>...</td>\n      <td>2895092.0</td>\n      <td>2889104.0</td>\n      <td>2880703.0</td>\n      <td>2876101.0</td>\n      <td>2873457.0</td>\n      <td>2866376.0</td>\n      <td>2854191.0</td>\n      <td>2837849.0</td>\n      <td>2811666.0</td>\n      <td>2777689.0</td>\n    </tr>\n    <tr>\n      <th>153</th>\n      <td>Middle East &amp; North Africa</td>\n      <td>104958259.0</td>\n      <td>107670788.0</td>\n      <td>110538003.0</td>\n      <td>113518054.0</td>\n      <td>116624655.0</td>\n      <td>119831991.0</td>\n      <td>123155200.0</td>\n      <td>126678043.0</td>\n      <td>130258116.0</td>\n      <td>...</td>\n      <td>422790409.0</td>\n      <td>431664579.0</td>\n      <td>440506473.0</td>\n      <td>448917409.0</td>\n      <td>456885486.0</td>\n      <td>465073490.0</td>\n      <td>473201775.0</td>\n      <td>479966649.0</td>\n      <td>486174763.0</td>\n      <td>493279469.0</td>\n    </tr>\n    <tr>\n      <th>76</th>\n      <td>Fiji</td>\n      <td>401841.0</td>\n      <td>414534.0</td>\n      <td>427695.0</td>\n      <td>441385.0</td>\n      <td>455214.0</td>\n      <td>469010.0</td>\n      <td>482358.0</td>\n      <td>494632.0</td>\n      <td>505979.0</td>\n      <td>...</td>\n      <td>913453.0</td>\n      <td>915560.0</td>\n      <td>917200.0</td>\n      <td>918371.0</td>\n      <td>919019.0</td>\n      <td>918996.0</td>\n      <td>918465.0</td>\n      <td>920422.0</td>\n      <td>924610.0</td>\n      <td>929766.0</td>\n    </tr>\n    <tr>\n      <th>157</th>\n      <td>North Macedonia</td>\n      <td>1462368.0</td>\n      <td>1481112.0</td>\n      <td>1497338.0</td>\n      <td>1511854.0</td>\n      <td>1529507.0</td>\n      <td>1547982.0</td>\n      <td>1567707.0</td>\n      <td>1588649.0</td>\n      <td>1610537.0</td>\n      <td>...</td>\n      <td>2064032.0</td>\n      <td>2067471.0</td>\n      <td>2070226.0</td>\n      <td>2072490.0</td>\n      <td>2074502.0</td>\n      <td>2076217.0</td>\n      <td>2076694.0</td>\n      <td>2072531.0</td>\n      <td>2065092.0</td>\n      <td>2057679.0</td>\n    </tr>\n    <tr>\n      <th>230</th>\n      <td>East Asia &amp; Pacific (IDA &amp; IBRD countries)</td>\n      <td>884811163.0</td>\n      <td>884080493.0</td>\n      <td>895683380.0</td>\n      <td>918644019.0</td>\n      <td>941205716.0</td>\n      <td>964393486.0</td>\n      <td>990895866.0</td>\n      <td>1016638561.0</td>\n      <td>1043384828.0</td>\n      <td>...</td>\n      <td>1993077336.0</td>\n      <td>2009149689.0</td>\n      <td>2024511016.0</td>\n      <td>2039794828.0</td>\n      <td>2055414680.0</td>\n      <td>2068898629.0</td>\n      <td>2080648616.0</td>\n      <td>2090523535.0</td>\n      <td>2097669023.0</td>\n      <td>2103055378.0</td>\n    </tr>\n  </tbody>\n</table>\n<p>10 rows × 64 columns</p>\n</div>",
       "datasetInfos": [],
       "metadata": {},
       "removedWidgets": [],
       "textData": null,
       "type": "htmlSandbox"
      }
     },
     "output_type": "display_data"
    }
   ],
   "source": [
    "dt_populacao.sample(10)"
   ]
  },
  {
   "cell_type": "markdown",
   "metadata": {
    "application/vnd.databricks.v1+cell": {
     "cellMetadata": {
      "byteLimit": 2048000,
      "rowLimit": 10000
     },
     "inputWidgets": {},
     "nuid": "81e59cc3-5513-4883-a253-16742a06065f",
     "showTitle": false,
     "title": ""
    }
   },
   "source": [
    "**COLUNAS DO DATAFRAME**\n",
    "\n",
    "\n",
    "\n",
    "*   **Country Name**: nome do país.\n",
    "*   **anos**: população do país referente ao ano."
   ]
  },
  {
   "cell_type": "markdown",
   "metadata": {
    "application/vnd.databricks.v1+cell": {
     "cellMetadata": {
      "byteLimit": 2048000,
      "rowLimit": 10000
     },
     "inputWidgets": {},
     "nuid": "cd33b50d-25a4-4596-8be2-b39573905c4a",
     "showTitle": false,
     "title": ""
    }
   },
   "source": [
    "# Camada Silver"
   ]
  },
  {
   "cell_type": "markdown",
   "metadata": {
    "application/vnd.databricks.v1+cell": {
     "cellMetadata": {
      "byteLimit": 2048000,
      "rowLimit": 10000
     },
     "inputWidgets": {},
     "nuid": "0acb69bd-3821-4427-98a6-26b2f1d56ed2",
     "showTitle": false,
     "title": ""
    }
   },
   "source": [
    "\n",
    "Aqui, iniciamos a camada de limpeza e transformação dos dados brutos, removendo erros, duplicações e outras inconsistências."
   ]
  },
  {
   "cell_type": "markdown",
   "metadata": {
    "application/vnd.databricks.v1+cell": {
     "cellMetadata": {
      "byteLimit": 2048000,
      "rowLimit": 10000
     },
     "inputWidgets": {},
     "nuid": "d204b2d2-7462-478f-a199-1076f4decf13",
     "showTitle": false,
     "title": ""
    }
   },
   "source": [
    "Vamos entender como se dispõem as colunas dos dataframes, de modo a identificar as chaves para o nosso esquema."
   ]
  },
  {
   "cell_type": "code",
   "execution_count": 0,
   "metadata": {
    "application/vnd.databricks.v1+cell": {
     "cellMetadata": {
      "byteLimit": 2048000,
      "rowLimit": 10000
     },
     "inputWidgets": {},
     "nuid": "27d4ab1d-f8a0-4e42-9665-bb75c6aeb369",
     "showTitle": false,
     "title": ""
    }
   },
   "outputs": [
    {
     "output_type": "stream",
     "name": "stdout",
     "output_type": "stream",
     "text": [
      "dt_atletas: ['athlete_url', 'athlete_full_name', 'games_participations', 'first_game', 'athlete_year_birth', 'athlete_medals']\ndt_sedes: ['game_slug', 'game_end_date', 'game_start_date', 'game_location', 'game_name', 'game_season', 'game_year']\ndt_medalhas: ['discipline_title', 'slug_game', 'event_title', 'event_gender', 'medal_type', 'participant_type', 'participant_title', 'athlete_url', 'athlete_full_name', 'country_name', 'country_code', 'country_3_letter_code']\ndt_populacao: ['Country Name', '1960', '1961', '1962', '1963', '1964', '1965', '1966', '1967', '1968', '1969', '1970', '1971', '1972', '1973', '1974', '1975', '1976', '1977', '1978', '1979', '1980', '1981', '1982', '1983', '1984', '1985', '1986', '1987', '1988', '1989', '1990', '1991', '1992', '1993', '1994', '1995', '1996', '1997', '1998', '1999', '2000', '2001', '2002', '2003', '2004', '2005', '2006', '2007', '2008', '2009', '2010', '2011', '2012', '2013', '2014', '2015', '2016', '2017', '2018', '2019', '2020', '2021', '2022']\n"
     ]
    }
   ],
   "source": [
    "# Colunas de cada dataframe\n",
    "print(f\"dt_atletas: {dt_atletas.columns.to_list()}\")\n",
    "print(f\"dt_sedes: {dt_sedes.columns.to_list()}\")\n",
    "print(f\"dt_medalhas: {dt_medalhas.columns.to_list()}\")\n",
    "print(f\"dt_populacao: {dt_populacao.columns.to_list()}\")"
   ]
  },
  {
   "cell_type": "markdown",
   "metadata": {
    "application/vnd.databricks.v1+cell": {
     "cellMetadata": {
      "byteLimit": 2048000,
      "rowLimit": 10000
     },
     "inputWidgets": {},
     "nuid": "9c521268-346c-44cb-aa28-af1dbc2ffc7b",
     "showTitle": false,
     "title": ""
    }
   },
   "source": [
    "Primeiramente, iremos remover linhas duplicadas de todos os dataframes envolvidos na análise."
   ]
  },
  {
   "cell_type": "code",
   "execution_count": 0,
   "metadata": {
    "application/vnd.databricks.v1+cell": {
     "cellMetadata": {
      "byteLimit": 2048000,
      "rowLimit": 10000
     },
     "inputWidgets": {},
     "nuid": "2a9978a4-3a9a-4f11-be2d-1820873f81cd",
     "showTitle": false,
     "title": ""
    }
   },
   "outputs": [],
   "source": [
    "# Remover duplicatas dos DataFrames\n",
    "dt_atletas = dt_atletas.drop_duplicates()\n",
    "dt_sedes = dt_sedes.drop_duplicates()\n",
    "dt_medalhas = dt_medalhas.drop_duplicates()\n",
    "dt_populacao = dt_populacao.drop_duplicates() "
   ]
  },
  {
   "cell_type": "markdown",
   "metadata": {
    "application/vnd.databricks.v1+cell": {
     "cellMetadata": {
      "byteLimit": 2048000,
      "rowLimit": 10000
     },
     "inputWidgets": {},
     "nuid": "58e5f281-fbcb-4467-8658-2598b111518b",
     "showTitle": false,
     "title": ""
    }
   },
   "source": [
    "De forma a facilitar a análise dos dados, iremos excluir as linhas de atletas que não receberam medalhas. "
   ]
  },
  {
   "cell_type": "code",
   "execution_count": 0,
   "metadata": {
    "application/vnd.databricks.v1+cell": {
     "cellMetadata": {
      "byteLimit": 2048000,
      "rowLimit": 10000
     },
     "inputWidgets": {},
     "nuid": "f43e6cf4-8aeb-4ba6-9e92-43c86e47a46a",
     "showTitle": false,
     "title": ""
    }
   },
   "outputs": [
    {
     "output_type": "display_data",
     "data": {
      "text/html": [
       "<div>\n",
       "<style scoped>\n",
       "    .dataframe tbody tr th:only-of-type {\n",
       "        vertical-align: middle;\n",
       "    }\n",
       "\n",
       "    .dataframe tbody tr th {\n",
       "        vertical-align: top;\n",
       "    }\n",
       "\n",
       "    .dataframe thead th {\n",
       "        text-align: right;\n",
       "    }\n",
       "</style>\n",
       "<table border=\"1\" class=\"dataframe\">\n",
       "  <thead>\n",
       "    <tr style=\"text-align: right;\">\n",
       "      <th></th>\n",
       "      <th>athlete_url</th>\n",
       "      <th>athlete_full_name</th>\n",
       "      <th>games_participations</th>\n",
       "      <th>first_game</th>\n",
       "      <th>athlete_year_birth</th>\n",
       "      <th>athlete_medals</th>\n",
       "    </tr>\n",
       "  </thead>\n",
       "  <tbody>\n",
       "    <tr>\n",
       "      <th>3792</th>\n",
       "      <td>https://olympics.com/en/athletes/ryoko-tani</td>\n",
       "      <td>Ryoko TANI</td>\n",
       "      <td>5</td>\n",
       "      <td>Barcelona 1992</td>\n",
       "      <td>1975.0</td>\n",
       "      <td>5</td>\n",
       "    </tr>\n",
       "    <tr>\n",
       "      <th>1556</th>\n",
       "      <td>https://olympics.com/en/athletes/zofia-klepacka</td>\n",
       "      <td>Zofia KLEPACKA</td>\n",
       "      <td>4</td>\n",
       "      <td>Athens 2004</td>\n",
       "      <td>1986.0</td>\n",
       "      <td>1</td>\n",
       "    </tr>\n",
       "    <tr>\n",
       "      <th>13331</th>\n",
       "      <td>https://olympics.com/en/athletes/albertson-van...</td>\n",
       "      <td>Albertson VAN ZO POST</td>\n",
       "      <td>2</td>\n",
       "      <td>St. Louis 1904</td>\n",
       "      <td>1865.0</td>\n",
       "      <td>5</td>\n",
       "    </tr>\n",
       "    <tr>\n",
       "      <th>3038</th>\n",
       "      <td>https://olympics.com/en/athletes/alan-khugaev</td>\n",
       "      <td>Alan KHUGAEV</td>\n",
       "      <td>1</td>\n",
       "      <td>London 2012</td>\n",
       "      <td>1989.0</td>\n",
       "      <td>1</td>\n",
       "    </tr>\n",
       "    <tr>\n",
       "      <th>14407</th>\n",
       "      <td>https://olympics.com/en/athletes/jose-luis-bal...</td>\n",
       "      <td>Jose Luis BALLESTER TULTESA</td>\n",
       "      <td>3</td>\n",
       "      <td>Barcelona 1992</td>\n",
       "      <td>1968.0</td>\n",
       "      <td>1</td>\n",
       "    </tr>\n",
       "    <tr>\n",
       "      <th>1504</th>\n",
       "      <td>https://olympics.com/en/athletes/evgeny-rylov</td>\n",
       "      <td>Evgeny RYLOV</td>\n",
       "      <td>2</td>\n",
       "      <td>Rio 2016</td>\n",
       "      <td>1996.0</td>\n",
       "      <td>4</td>\n",
       "    </tr>\n",
       "    <tr>\n",
       "      <th>4224</th>\n",
       "      <td>https://olympics.com/en/athletes/sasha-cohen</td>\n",
       "      <td>Sasha COHEN</td>\n",
       "      <td>2</td>\n",
       "      <td>Salt Lake City 2002</td>\n",
       "      <td>1984.0</td>\n",
       "      <td>1</td>\n",
       "    </tr>\n",
       "    <tr>\n",
       "      <th>4537</th>\n",
       "      <td>https://olympics.com/en/athletes/sandra-voelker</td>\n",
       "      <td>Sandra VOELKER</td>\n",
       "      <td>4</td>\n",
       "      <td>Barcelona 1992</td>\n",
       "      <td>1974.0</td>\n",
       "      <td>3</td>\n",
       "    </tr>\n",
       "    <tr>\n",
       "      <th>3461</th>\n",
       "      <td>https://olympics.com/en/athletes/roddy-darragon</td>\n",
       "      <td>Roddy DARRAGON</td>\n",
       "      <td>2</td>\n",
       "      <td>Turin 2006</td>\n",
       "      <td>1983.0</td>\n",
       "      <td>1</td>\n",
       "    </tr>\n",
       "    <tr>\n",
       "      <th>2344</th>\n",
       "      <td>https://olympics.com/en/athletes/bo-qiu</td>\n",
       "      <td>Bo QIU</td>\n",
       "      <td>2</td>\n",
       "      <td>London 2012</td>\n",
       "      <td>1993.0</td>\n",
       "      <td>1</td>\n",
       "    </tr>\n",
       "  </tbody>\n",
       "</table>\n",
       "</div>"
      ]
     },
     "metadata": {
      "application/vnd.databricks.v1+output": {
       "addedWidgets": {},
       "arguments": {},
       "data": "<div>\n<style scoped>\n    .dataframe tbody tr th:only-of-type {\n        vertical-align: middle;\n    }\n\n    .dataframe tbody tr th {\n        vertical-align: top;\n    }\n\n    .dataframe thead th {\n        text-align: right;\n    }\n</style>\n<table border=\"1\" class=\"dataframe\">\n  <thead>\n    <tr style=\"text-align: right;\">\n      <th></th>\n      <th>athlete_url</th>\n      <th>athlete_full_name</th>\n      <th>games_participations</th>\n      <th>first_game</th>\n      <th>athlete_year_birth</th>\n      <th>athlete_medals</th>\n    </tr>\n  </thead>\n  <tbody>\n    <tr>\n      <th>3792</th>\n      <td>https://olympics.com/en/athletes/ryoko-tani</td>\n      <td>Ryoko TANI</td>\n      <td>5</td>\n      <td>Barcelona 1992</td>\n      <td>1975.0</td>\n      <td>5</td>\n    </tr>\n    <tr>\n      <th>1556</th>\n      <td>https://olympics.com/en/athletes/zofia-klepacka</td>\n      <td>Zofia KLEPACKA</td>\n      <td>4</td>\n      <td>Athens 2004</td>\n      <td>1986.0</td>\n      <td>1</td>\n    </tr>\n    <tr>\n      <th>13331</th>\n      <td>https://olympics.com/en/athletes/albertson-van...</td>\n      <td>Albertson VAN ZO POST</td>\n      <td>2</td>\n      <td>St. Louis 1904</td>\n      <td>1865.0</td>\n      <td>5</td>\n    </tr>\n    <tr>\n      <th>3038</th>\n      <td>https://olympics.com/en/athletes/alan-khugaev</td>\n      <td>Alan KHUGAEV</td>\n      <td>1</td>\n      <td>London 2012</td>\n      <td>1989.0</td>\n      <td>1</td>\n    </tr>\n    <tr>\n      <th>14407</th>\n      <td>https://olympics.com/en/athletes/jose-luis-bal...</td>\n      <td>Jose Luis BALLESTER TULTESA</td>\n      <td>3</td>\n      <td>Barcelona 1992</td>\n      <td>1968.0</td>\n      <td>1</td>\n    </tr>\n    <tr>\n      <th>1504</th>\n      <td>https://olympics.com/en/athletes/evgeny-rylov</td>\n      <td>Evgeny RYLOV</td>\n      <td>2</td>\n      <td>Rio 2016</td>\n      <td>1996.0</td>\n      <td>4</td>\n    </tr>\n    <tr>\n      <th>4224</th>\n      <td>https://olympics.com/en/athletes/sasha-cohen</td>\n      <td>Sasha COHEN</td>\n      <td>2</td>\n      <td>Salt Lake City 2002</td>\n      <td>1984.0</td>\n      <td>1</td>\n    </tr>\n    <tr>\n      <th>4537</th>\n      <td>https://olympics.com/en/athletes/sandra-voelker</td>\n      <td>Sandra VOELKER</td>\n      <td>4</td>\n      <td>Barcelona 1992</td>\n      <td>1974.0</td>\n      <td>3</td>\n    </tr>\n    <tr>\n      <th>3461</th>\n      <td>https://olympics.com/en/athletes/roddy-darragon</td>\n      <td>Roddy DARRAGON</td>\n      <td>2</td>\n      <td>Turin 2006</td>\n      <td>1983.0</td>\n      <td>1</td>\n    </tr>\n    <tr>\n      <th>2344</th>\n      <td>https://olympics.com/en/athletes/bo-qiu</td>\n      <td>Bo QIU</td>\n      <td>2</td>\n      <td>London 2012</td>\n      <td>1993.0</td>\n      <td>1</td>\n    </tr>\n  </tbody>\n</table>\n</div>",
       "datasetInfos": [],
       "metadata": {},
       "removedWidgets": [],
       "textData": null,
       "type": "htmlSandbox"
      }
     },
     "output_type": "display_data"
    }
   ],
   "source": [
    "#Retira atletas sem medalha\n",
    "dt_atletas = dt_atletas.dropna(subset=['athlete_medals'])\n",
    "\n",
    "dt_atletas.sample(10)"
   ]
  },
  {
   "cell_type": "markdown",
   "metadata": {
    "application/vnd.databricks.v1+cell": {
     "cellMetadata": {
      "byteLimit": 2048000,
      "rowLimit": 10000
     },
     "inputWidgets": {},
     "nuid": "7160ee35-4a6a-4728-962f-37d5a05ac7af",
     "showTitle": false,
     "title": ""
    }
   },
   "source": [
    "As colunas 'athlete_url' e 'game_slug'/'slug_game' são possíveis chaves primárias para o nosso banco relacional. Por isso, devemos dropar todas as linhas que possuem valor nulo nos respectivos campos. Além disso, podemos dropar as colunas 'country_code' e 'country_3_letter_code', visto que não são relevantes para a análise das perguntas feitas no início do trabalho."
   ]
  },
  {
   "cell_type": "code",
   "execution_count": 0,
   "metadata": {
    "application/vnd.databricks.v1+cell": {
     "cellMetadata": {
      "byteLimit": 2048000,
      "rowLimit": 10000
     },
     "inputWidgets": {},
     "nuid": "1a951ede-f20b-4a05-9a9f-8c460edad388",
     "showTitle": false,
     "title": ""
    }
   },
   "outputs": [],
   "source": [
    "# Dropando linhas com 'athlete_url' vazios\n",
    "dt_medalhas = dt_medalhas.dropna(subset=['athlete_url'])\n",
    "\n",
    "# Dropando linhas com 'game_slug'/'slug_game' vazios\n",
    "dt_sedes = dt_sedes.dropna(subset=['game_slug'])\n",
    "dt_medalhas = dt_medalhas.dropna(subset=['slug_game'])\n",
    "\n",
    "# Deletando as colunas desnecessárias\n",
    "dt_medalhas = dt_medalhas.drop(columns=['country_code','country_3_letter_code'])"
   ]
  },
  {
   "cell_type": "markdown",
   "metadata": {
    "application/vnd.databricks.v1+cell": {
     "cellMetadata": {
      "byteLimit": 2048000,
      "rowLimit": 10000
     },
     "inputWidgets": {},
     "nuid": "3efd19d7-d9c5-4741-97fa-9e1bb2c26403",
     "showTitle": false,
     "title": ""
    }
   },
   "source": [
    "Conforme citado no início do notebook, iremos tratar apenas resultados dos jogos olímpicos de verão. Portanto, as sedes de 'inverno' serão prontamente descartadas, bem como, as datas de início e fim de cada evento."
   ]
  },
  {
   "cell_type": "code",
   "execution_count": 0,
   "metadata": {
    "application/vnd.databricks.v1+cell": {
     "cellMetadata": {
      "byteLimit": 2048000,
      "rowLimit": 10000
     },
     "inputWidgets": {},
     "nuid": "0b871e2f-c58b-4983-89db-32b4fa1c6d0e",
     "showTitle": false,
     "title": ""
    }
   },
   "outputs": [
    {
     "output_type": "display_data",
     "data": {
      "text/html": [
       "<div>\n",
       "<style scoped>\n",
       "    .dataframe tbody tr th:only-of-type {\n",
       "        vertical-align: middle;\n",
       "    }\n",
       "\n",
       "    .dataframe tbody tr th {\n",
       "        vertical-align: top;\n",
       "    }\n",
       "\n",
       "    .dataframe thead th {\n",
       "        text-align: right;\n",
       "    }\n",
       "</style>\n",
       "<table border=\"1\" class=\"dataframe\">\n",
       "  <thead>\n",
       "    <tr style=\"text-align: right;\">\n",
       "      <th></th>\n",
       "      <th>game_slug</th>\n",
       "      <th>game_location</th>\n",
       "      <th>game_name</th>\n",
       "      <th>game_year</th>\n",
       "    </tr>\n",
       "  </thead>\n",
       "  <tbody>\n",
       "    <tr>\n",
       "      <th>1</th>\n",
       "      <td>tokyo-2020</td>\n",
       "      <td>Japan</td>\n",
       "      <td>Tokyo 2020</td>\n",
       "      <td>2020</td>\n",
       "    </tr>\n",
       "    <tr>\n",
       "      <th>3</th>\n",
       "      <td>rio-2016</td>\n",
       "      <td>Brazil</td>\n",
       "      <td>Rio 2016</td>\n",
       "      <td>2016</td>\n",
       "    </tr>\n",
       "    <tr>\n",
       "      <th>5</th>\n",
       "      <td>london-2012</td>\n",
       "      <td>Great Britain</td>\n",
       "      <td>London 2012</td>\n",
       "      <td>2012</td>\n",
       "    </tr>\n",
       "    <tr>\n",
       "      <th>7</th>\n",
       "      <td>beijing-2008</td>\n",
       "      <td>China</td>\n",
       "      <td>Beijing 2008</td>\n",
       "      <td>2008</td>\n",
       "    </tr>\n",
       "    <tr>\n",
       "      <th>9</th>\n",
       "      <td>athens-2004</td>\n",
       "      <td>Greece</td>\n",
       "      <td>Athens 2004</td>\n",
       "      <td>2004</td>\n",
       "    </tr>\n",
       "    <tr>\n",
       "      <th>11</th>\n",
       "      <td>sydney-2000</td>\n",
       "      <td>Australia</td>\n",
       "      <td>Sydney 2000</td>\n",
       "      <td>2000</td>\n",
       "    </tr>\n",
       "    <tr>\n",
       "      <th>13</th>\n",
       "      <td>atlanta-1996</td>\n",
       "      <td>United States</td>\n",
       "      <td>Atlanta 1996</td>\n",
       "      <td>1996</td>\n",
       "    </tr>\n",
       "    <tr>\n",
       "      <th>15</th>\n",
       "      <td>barcelona-1992</td>\n",
       "      <td>Spain</td>\n",
       "      <td>Barcelona 1992</td>\n",
       "      <td>1992</td>\n",
       "    </tr>\n",
       "    <tr>\n",
       "      <th>17</th>\n",
       "      <td>seoul-1988</td>\n",
       "      <td>Republic of Korea</td>\n",
       "      <td>Seoul 1988</td>\n",
       "      <td>1988</td>\n",
       "    </tr>\n",
       "    <tr>\n",
       "      <th>19</th>\n",
       "      <td>los-angeles-1984</td>\n",
       "      <td>United States</td>\n",
       "      <td>Los Angeles 1984</td>\n",
       "      <td>1984</td>\n",
       "    </tr>\n",
       "    <tr>\n",
       "      <th>21</th>\n",
       "      <td>moscow-1980</td>\n",
       "      <td>USSR</td>\n",
       "      <td>Moscow 1980</td>\n",
       "      <td>1980</td>\n",
       "    </tr>\n",
       "    <tr>\n",
       "      <th>23</th>\n",
       "      <td>montreal-1976</td>\n",
       "      <td>Canada</td>\n",
       "      <td>Montreal 1976</td>\n",
       "      <td>1976</td>\n",
       "    </tr>\n",
       "    <tr>\n",
       "      <th>25</th>\n",
       "      <td>munich-1972</td>\n",
       "      <td>Federal Republic of Germany</td>\n",
       "      <td>Munich 1972</td>\n",
       "      <td>1972</td>\n",
       "    </tr>\n",
       "    <tr>\n",
       "      <th>27</th>\n",
       "      <td>mexico-city-1968</td>\n",
       "      <td>Mexico</td>\n",
       "      <td>Mexico City 1968</td>\n",
       "      <td>1968</td>\n",
       "    </tr>\n",
       "    <tr>\n",
       "      <th>29</th>\n",
       "      <td>tokyo-1964</td>\n",
       "      <td>Japan</td>\n",
       "      <td>Tokyo 1964</td>\n",
       "      <td>1964</td>\n",
       "    </tr>\n",
       "    <tr>\n",
       "      <th>31</th>\n",
       "      <td>rome-1960</td>\n",
       "      <td>Italy</td>\n",
       "      <td>Rome 1960</td>\n",
       "      <td>1960</td>\n",
       "    </tr>\n",
       "    <tr>\n",
       "      <th>33</th>\n",
       "      <td>melbourne-1956</td>\n",
       "      <td>Australia, Sweden</td>\n",
       "      <td>Melbourne 1956</td>\n",
       "      <td>1956</td>\n",
       "    </tr>\n",
       "    <tr>\n",
       "      <th>35</th>\n",
       "      <td>helsinki-1952</td>\n",
       "      <td>Finland</td>\n",
       "      <td>Helsinki 1952</td>\n",
       "      <td>1952</td>\n",
       "    </tr>\n",
       "    <tr>\n",
       "      <th>37</th>\n",
       "      <td>london-1948</td>\n",
       "      <td>Great Britain</td>\n",
       "      <td>London 1948</td>\n",
       "      <td>1948</td>\n",
       "    </tr>\n",
       "    <tr>\n",
       "      <th>39</th>\n",
       "      <td>berlin-1936</td>\n",
       "      <td>Germany</td>\n",
       "      <td>Berlin 1936</td>\n",
       "      <td>1936</td>\n",
       "    </tr>\n",
       "    <tr>\n",
       "      <th>41</th>\n",
       "      <td>los-angeles-1932</td>\n",
       "      <td>United States</td>\n",
       "      <td>Los Angeles 1932</td>\n",
       "      <td>1932</td>\n",
       "    </tr>\n",
       "    <tr>\n",
       "      <th>43</th>\n",
       "      <td>amsterdam-1928</td>\n",
       "      <td>Netherlands</td>\n",
       "      <td>Amsterdam 1928</td>\n",
       "      <td>1928</td>\n",
       "    </tr>\n",
       "    <tr>\n",
       "      <th>45</th>\n",
       "      <td>paris-1924</td>\n",
       "      <td>France</td>\n",
       "      <td>Paris 1924</td>\n",
       "      <td>1924</td>\n",
       "    </tr>\n",
       "    <tr>\n",
       "      <th>47</th>\n",
       "      <td>antwerp-1920</td>\n",
       "      <td>Belgium</td>\n",
       "      <td>Antwerp 1920</td>\n",
       "      <td>1920</td>\n",
       "    </tr>\n",
       "    <tr>\n",
       "      <th>48</th>\n",
       "      <td>stockholm-1912</td>\n",
       "      <td>Sweden</td>\n",
       "      <td>Stockholm 1912</td>\n",
       "      <td>1912</td>\n",
       "    </tr>\n",
       "    <tr>\n",
       "      <th>49</th>\n",
       "      <td>london-1908</td>\n",
       "      <td>Great Britain</td>\n",
       "      <td>London 1908</td>\n",
       "      <td>1908</td>\n",
       "    </tr>\n",
       "    <tr>\n",
       "      <th>50</th>\n",
       "      <td>st-louis-1904</td>\n",
       "      <td>United States</td>\n",
       "      <td>St. Louis 1904</td>\n",
       "      <td>1904</td>\n",
       "    </tr>\n",
       "    <tr>\n",
       "      <th>51</th>\n",
       "      <td>paris-1900</td>\n",
       "      <td>France</td>\n",
       "      <td>Paris 1900</td>\n",
       "      <td>1900</td>\n",
       "    </tr>\n",
       "    <tr>\n",
       "      <th>52</th>\n",
       "      <td>athens-1896</td>\n",
       "      <td>Greece</td>\n",
       "      <td>Athens 1896</td>\n",
       "      <td>1896</td>\n",
       "    </tr>\n",
       "  </tbody>\n",
       "</table>\n",
       "</div>"
      ]
     },
     "metadata": {
      "application/vnd.databricks.v1+output": {
       "addedWidgets": {},
       "arguments": {},
       "data": "<div>\n<style scoped>\n    .dataframe tbody tr th:only-of-type {\n        vertical-align: middle;\n    }\n\n    .dataframe tbody tr th {\n        vertical-align: top;\n    }\n\n    .dataframe thead th {\n        text-align: right;\n    }\n</style>\n<table border=\"1\" class=\"dataframe\">\n  <thead>\n    <tr style=\"text-align: right;\">\n      <th></th>\n      <th>game_slug</th>\n      <th>game_location</th>\n      <th>game_name</th>\n      <th>game_year</th>\n    </tr>\n  </thead>\n  <tbody>\n    <tr>\n      <th>1</th>\n      <td>tokyo-2020</td>\n      <td>Japan</td>\n      <td>Tokyo 2020</td>\n      <td>2020</td>\n    </tr>\n    <tr>\n      <th>3</th>\n      <td>rio-2016</td>\n      <td>Brazil</td>\n      <td>Rio 2016</td>\n      <td>2016</td>\n    </tr>\n    <tr>\n      <th>5</th>\n      <td>london-2012</td>\n      <td>Great Britain</td>\n      <td>London 2012</td>\n      <td>2012</td>\n    </tr>\n    <tr>\n      <th>7</th>\n      <td>beijing-2008</td>\n      <td>China</td>\n      <td>Beijing 2008</td>\n      <td>2008</td>\n    </tr>\n    <tr>\n      <th>9</th>\n      <td>athens-2004</td>\n      <td>Greece</td>\n      <td>Athens 2004</td>\n      <td>2004</td>\n    </tr>\n    <tr>\n      <th>11</th>\n      <td>sydney-2000</td>\n      <td>Australia</td>\n      <td>Sydney 2000</td>\n      <td>2000</td>\n    </tr>\n    <tr>\n      <th>13</th>\n      <td>atlanta-1996</td>\n      <td>United States</td>\n      <td>Atlanta 1996</td>\n      <td>1996</td>\n    </tr>\n    <tr>\n      <th>15</th>\n      <td>barcelona-1992</td>\n      <td>Spain</td>\n      <td>Barcelona 1992</td>\n      <td>1992</td>\n    </tr>\n    <tr>\n      <th>17</th>\n      <td>seoul-1988</td>\n      <td>Republic of Korea</td>\n      <td>Seoul 1988</td>\n      <td>1988</td>\n    </tr>\n    <tr>\n      <th>19</th>\n      <td>los-angeles-1984</td>\n      <td>United States</td>\n      <td>Los Angeles 1984</td>\n      <td>1984</td>\n    </tr>\n    <tr>\n      <th>21</th>\n      <td>moscow-1980</td>\n      <td>USSR</td>\n      <td>Moscow 1980</td>\n      <td>1980</td>\n    </tr>\n    <tr>\n      <th>23</th>\n      <td>montreal-1976</td>\n      <td>Canada</td>\n      <td>Montreal 1976</td>\n      <td>1976</td>\n    </tr>\n    <tr>\n      <th>25</th>\n      <td>munich-1972</td>\n      <td>Federal Republic of Germany</td>\n      <td>Munich 1972</td>\n      <td>1972</td>\n    </tr>\n    <tr>\n      <th>27</th>\n      <td>mexico-city-1968</td>\n      <td>Mexico</td>\n      <td>Mexico City 1968</td>\n      <td>1968</td>\n    </tr>\n    <tr>\n      <th>29</th>\n      <td>tokyo-1964</td>\n      <td>Japan</td>\n      <td>Tokyo 1964</td>\n      <td>1964</td>\n    </tr>\n    <tr>\n      <th>31</th>\n      <td>rome-1960</td>\n      <td>Italy</td>\n      <td>Rome 1960</td>\n      <td>1960</td>\n    </tr>\n    <tr>\n      <th>33</th>\n      <td>melbourne-1956</td>\n      <td>Australia, Sweden</td>\n      <td>Melbourne 1956</td>\n      <td>1956</td>\n    </tr>\n    <tr>\n      <th>35</th>\n      <td>helsinki-1952</td>\n      <td>Finland</td>\n      <td>Helsinki 1952</td>\n      <td>1952</td>\n    </tr>\n    <tr>\n      <th>37</th>\n      <td>london-1948</td>\n      <td>Great Britain</td>\n      <td>London 1948</td>\n      <td>1948</td>\n    </tr>\n    <tr>\n      <th>39</th>\n      <td>berlin-1936</td>\n      <td>Germany</td>\n      <td>Berlin 1936</td>\n      <td>1936</td>\n    </tr>\n    <tr>\n      <th>41</th>\n      <td>los-angeles-1932</td>\n      <td>United States</td>\n      <td>Los Angeles 1932</td>\n      <td>1932</td>\n    </tr>\n    <tr>\n      <th>43</th>\n      <td>amsterdam-1928</td>\n      <td>Netherlands</td>\n      <td>Amsterdam 1928</td>\n      <td>1928</td>\n    </tr>\n    <tr>\n      <th>45</th>\n      <td>paris-1924</td>\n      <td>France</td>\n      <td>Paris 1924</td>\n      <td>1924</td>\n    </tr>\n    <tr>\n      <th>47</th>\n      <td>antwerp-1920</td>\n      <td>Belgium</td>\n      <td>Antwerp 1920</td>\n      <td>1920</td>\n    </tr>\n    <tr>\n      <th>48</th>\n      <td>stockholm-1912</td>\n      <td>Sweden</td>\n      <td>Stockholm 1912</td>\n      <td>1912</td>\n    </tr>\n    <tr>\n      <th>49</th>\n      <td>london-1908</td>\n      <td>Great Britain</td>\n      <td>London 1908</td>\n      <td>1908</td>\n    </tr>\n    <tr>\n      <th>50</th>\n      <td>st-louis-1904</td>\n      <td>United States</td>\n      <td>St. Louis 1904</td>\n      <td>1904</td>\n    </tr>\n    <tr>\n      <th>51</th>\n      <td>paris-1900</td>\n      <td>France</td>\n      <td>Paris 1900</td>\n      <td>1900</td>\n    </tr>\n    <tr>\n      <th>52</th>\n      <td>athens-1896</td>\n      <td>Greece</td>\n      <td>Athens 1896</td>\n      <td>1896</td>\n    </tr>\n  </tbody>\n</table>\n</div>",
       "datasetInfos": [],
       "metadata": {},
       "removedWidgets": [],
       "textData": null,
       "type": "htmlSandbox"
      }
     },
     "output_type": "display_data"
    }
   ],
   "source": [
    "# Removendo linhas com 'Winter' em 'game_season' \n",
    "dt_sedes = dt_sedes.drop(dt_sedes[dt_sedes['game_season'] == 'Winter'].index)\n",
    "\n",
    "# Removendo as colunas 'game_season', 'game_end_date', 'game_start_date'\n",
    "dt_sedes = dt_sedes.drop(columns=['game_season', 'game_end_date', 'game_start_date'])\n",
    "dt_sedes"
   ]
  },
  {
   "cell_type": "markdown",
   "metadata": {
    "application/vnd.databricks.v1+cell": {
     "cellMetadata": {
      "byteLimit": 2048000,
      "rowLimit": 10000
     },
     "inputWidgets": {},
     "nuid": "fd9fa7a8-840b-4262-beb8-5fe925013f55",
     "showTitle": false,
     "title": ""
    }
   },
   "source": [
    "A fim de padronizar as colunas, renomeamos as colunas 'game_slug' para 'slug_game' e 'game_location' para 'country_name' em dt_sedes e 'Country Name' para 'country_name' em dt_populacao."
   ]
  },
  {
   "cell_type": "code",
   "execution_count": 0,
   "metadata": {
    "application/vnd.databricks.v1+cell": {
     "cellMetadata": {
      "byteLimit": 2048000,
      "rowLimit": 10000
     },
     "inputWidgets": {},
     "nuid": "e62f7e46-b2e7-49e9-a311-822b91813552",
     "showTitle": false,
     "title": ""
    }
   },
   "outputs": [],
   "source": [
    "# Renomeando a coluna 'game_slug' para 'slug_game'\n",
    "dt_sedes = dt_sedes.rename(columns={'game_slug': 'slug_game'})\n",
    "dt_sedes = dt_sedes.rename(columns={'game_location': 'country_name'})\n",
    "\n",
    "# Renomeando a coluna 'Country Name' para 'country_name'\n",
    "dt_populacao = dt_populacao.rename(columns={'Country Name': 'country_name'})"
   ]
  },
  {
   "cell_type": "markdown",
   "metadata": {
    "application/vnd.databricks.v1+cell": {
     "cellMetadata": {
      "byteLimit": 2048000,
      "rowLimit": 10000
     },
     "inputWidgets": {},
     "nuid": "7416507d-08aa-442a-af23-c4b3287d4cfb",
     "showTitle": false,
     "title": ""
    }
   },
   "source": [
    "Já que trataremos apenas os jogos olímpicos de verão, temos que fazer um breve processo de identificação e exclusão das linhas que se referem aos jogos de inverno em 'dt_sedes' e 'dt_medalhas'."
   ]
  },
  {
   "cell_type": "code",
   "execution_count": 0,
   "metadata": {
    "application/vnd.databricks.v1+cell": {
     "cellMetadata": {
      "byteLimit": 2048000,
      "rowLimit": 10000
     },
     "inputWidgets": {},
     "nuid": "489b9563-4519-43a8-ab8a-30664e5343d6",
     "showTitle": false,
     "title": ""
    }
   },
   "outputs": [
    {
     "output_type": "stream",
     "name": "stdout",
     "output_type": "stream",
     "text": [
      "Valores em dt_sedes: ['tokyo-2020' 'rio-2016' 'london-2012' 'beijing-2008' 'athens-2004'\n 'sydney-2000' 'atlanta-1996' 'barcelona-1992' 'seoul-1988'\n 'los-angeles-1984' 'moscow-1980' 'montreal-1976' 'munich-1972'\n 'mexico-city-1968' 'tokyo-1964' 'rome-1960' 'melbourne-1956'\n 'helsinki-1952' 'london-1948' 'berlin-1936' 'los-angeles-1932'\n 'amsterdam-1928' 'paris-1924' 'antwerp-1920' 'stockholm-1912'\n 'london-1908' 'st-louis-1904' 'paris-1900' 'athens-1896']\n\n\nValores em dt_medalhas: ['beijing-2022' 'tokyo-2020' 'pyeongchang-2018' 'rio-2016' 'sochi-2014'\n 'london-2012' 'vancouver-2010' 'beijing-2008' 'turin-2006' 'athens-2004'\n 'salt-lake-city-2002' 'sydney-2000' 'nagano-1998' 'atlanta-1996'\n 'lillehammer-1994' 'barcelona-1992' 'albertville-1992' 'seoul-1988'\n 'calgary-1988' 'los-angeles-1984' 'sarajevo-1984' 'moscow-1980'\n 'lake-placid-1980' 'montreal-1976' 'innsbruck-1976' 'munich-1972'\n 'sapporo-1972' 'mexico-city-1968' 'grenoble-1968' 'tokyo-1964'\n 'innsbruck-1964' 'rome-1960' 'squaw-valley-1960' 'melbourne-1956'\n 'cortina-d-ampezzo-1956' 'helsinki-1952' 'oslo-1952' 'london-1948'\n 'st-moritz-1948' 'berlin-1936' 'garmisch-partenkirchen-1936'\n 'los-angeles-1932' 'lake-placid-1932' 'amsterdam-1928' 'st-moritz-1928'\n 'paris-1924' 'chamonix-1924' 'antwerp-1920' 'stockholm-1912'\n 'london-1908' 'st-louis-1904' 'paris-1900' 'athens-1896']\n"
     ]
    }
   ],
   "source": [
    "# Estudando quais foram as edições dos jogos\n",
    "valores_sedes = dt_sedes['slug_game'].unique()\n",
    "valores_medalhas = dt_medalhas['slug_game'].unique()\n",
    "\n",
    "print(f\"Valores em dt_sedes: {valores_sedes}\")\n",
    "print(\"\\n\")\n",
    "print(f\"Valores em dt_medalhas: {valores_medalhas}\")"
   ]
  },
  {
   "cell_type": "markdown",
   "metadata": {
    "application/vnd.databricks.v1+cell": {
     "cellMetadata": {
      "byteLimit": 2048000,
      "rowLimit": 10000
     },
     "inputWidgets": {},
     "nuid": "63cd9b03-2ae8-4c24-82b1-7b4627ce1db4",
     "showTitle": false,
     "title": ""
    }
   },
   "source": [
    "Primeiramente, filtramos o dataframe de atletas com base no array com o nome das sedes presentes em 'dt_sedes'."
   ]
  },
  {
   "cell_type": "code",
   "execution_count": 0,
   "metadata": {
    "application/vnd.databricks.v1+cell": {
     "cellMetadata": {
      "byteLimit": 2048000,
      "rowLimit": 10000
     },
     "inputWidgets": {},
     "nuid": "718d6ce1-1078-4800-ab0b-366070aed419",
     "showTitle": false,
     "title": ""
    }
   },
   "outputs": [
    {
     "output_type": "display_data",
     "data": {
      "text/html": [
       "<div>\n",
       "<style scoped>\n",
       "    .dataframe tbody tr th:only-of-type {\n",
       "        vertical-align: middle;\n",
       "    }\n",
       "\n",
       "    .dataframe tbody tr th {\n",
       "        vertical-align: top;\n",
       "    }\n",
       "\n",
       "    .dataframe thead th {\n",
       "        text-align: right;\n",
       "    }\n",
       "</style>\n",
       "<table border=\"1\" class=\"dataframe\">\n",
       "  <thead>\n",
       "    <tr style=\"text-align: right;\">\n",
       "      <th></th>\n",
       "      <th>athlete_url</th>\n",
       "      <th>athlete_full_name</th>\n",
       "      <th>games_participations</th>\n",
       "      <th>first_game</th>\n",
       "      <th>athlete_year_birth</th>\n",
       "      <th>athlete_medals</th>\n",
       "    </tr>\n",
       "  </thead>\n",
       "  <tbody>\n",
       "    <tr>\n",
       "      <th>7601</th>\n",
       "      <td>https://olympics.com/en/athletes/in-tak-you</td>\n",
       "      <td>In-Tak YOU</td>\n",
       "      <td>1</td>\n",
       "      <td>Los Angeles 1984</td>\n",
       "      <td>1958.0</td>\n",
       "      <td>1</td>\n",
       "    </tr>\n",
       "    <tr>\n",
       "      <th>14319</th>\n",
       "      <td>https://olympics.com/en/athletes/michal-stanis...</td>\n",
       "      <td>Michal STANISZEWSKI</td>\n",
       "      <td>3</td>\n",
       "      <td>Barcelona 1992</td>\n",
       "      <td>1973.0</td>\n",
       "      <td>1</td>\n",
       "    </tr>\n",
       "    <tr>\n",
       "      <th>2808</th>\n",
       "      <td>https://olympics.com/en/athletes/david-davies-1</td>\n",
       "      <td>David DAVIES</td>\n",
       "      <td>3</td>\n",
       "      <td>Athens 2004</td>\n",
       "      <td>1985.0</td>\n",
       "      <td>2</td>\n",
       "    </tr>\n",
       "    <tr>\n",
       "      <th>13998</th>\n",
       "      <td>https://olympics.com/en/athletes/kseniya-sydor...</td>\n",
       "      <td>Kseniya SYDORENKO</td>\n",
       "      <td>4</td>\n",
       "      <td>Beijing 2008</td>\n",
       "      <td>1986.0</td>\n",
       "      <td>1</td>\n",
       "    </tr>\n",
       "    <tr>\n",
       "      <th>3939</th>\n",
       "      <td>https://olympics.com/en/athletes/fernando-gonz...</td>\n",
       "      <td>Fernando GONZALEZ</td>\n",
       "      <td>2</td>\n",
       "      <td>Athens 2004</td>\n",
       "      <td>1980.0</td>\n",
       "      <td>3</td>\n",
       "    </tr>\n",
       "    <tr>\n",
       "      <th>9077</th>\n",
       "      <td>https://olympics.com/en/athletes/anatoli-novikov</td>\n",
       "      <td>Anatoli NOVIKOV</td>\n",
       "      <td>1</td>\n",
       "      <td>Munich 1972</td>\n",
       "      <td>1947.0</td>\n",
       "      <td>1</td>\n",
       "    </tr>\n",
       "    <tr>\n",
       "      <th>5064</th>\n",
       "      <td>https://olympics.com/en/athletes/cuihua-jiang</td>\n",
       "      <td>Cuihua JIANG</td>\n",
       "      <td>1</td>\n",
       "      <td>Sydney 2000</td>\n",
       "      <td>1975.0</td>\n",
       "      <td>1</td>\n",
       "    </tr>\n",
       "    <tr>\n",
       "      <th>4270</th>\n",
       "      <td>https://olympics.com/en/athletes/ivo-yanakiev</td>\n",
       "      <td>Ivo YANAKIEV</td>\n",
       "      <td>3</td>\n",
       "      <td>Sydney 2000</td>\n",
       "      <td>1975.0</td>\n",
       "      <td>1</td>\n",
       "    </tr>\n",
       "    <tr>\n",
       "      <th>13956</th>\n",
       "      <td>https://olympics.com/en/athletes/andrea-hlavac...</td>\n",
       "      <td>Andrea HLAVACKOVA</td>\n",
       "      <td>2</td>\n",
       "      <td>London 2012</td>\n",
       "      <td>1986.0</td>\n",
       "      <td>1</td>\n",
       "    </tr>\n",
       "    <tr>\n",
       "      <th>3659</th>\n",
       "      <td>https://olympics.com/en/athletes/taras-danko</td>\n",
       "      <td>Taras DANKO</td>\n",
       "      <td>2</td>\n",
       "      <td>Athens 2004</td>\n",
       "      <td>1980.0</td>\n",
       "      <td>1</td>\n",
       "    </tr>\n",
       "  </tbody>\n",
       "</table>\n",
       "</div>"
      ]
     },
     "metadata": {
      "application/vnd.databricks.v1+output": {
       "addedWidgets": {},
       "arguments": {},
       "data": "<div>\n<style scoped>\n    .dataframe tbody tr th:only-of-type {\n        vertical-align: middle;\n    }\n\n    .dataframe tbody tr th {\n        vertical-align: top;\n    }\n\n    .dataframe thead th {\n        text-align: right;\n    }\n</style>\n<table border=\"1\" class=\"dataframe\">\n  <thead>\n    <tr style=\"text-align: right;\">\n      <th></th>\n      <th>athlete_url</th>\n      <th>athlete_full_name</th>\n      <th>games_participations</th>\n      <th>first_game</th>\n      <th>athlete_year_birth</th>\n      <th>athlete_medals</th>\n    </tr>\n  </thead>\n  <tbody>\n    <tr>\n      <th>7601</th>\n      <td>https://olympics.com/en/athletes/in-tak-you</td>\n      <td>In-Tak YOU</td>\n      <td>1</td>\n      <td>Los Angeles 1984</td>\n      <td>1958.0</td>\n      <td>1</td>\n    </tr>\n    <tr>\n      <th>14319</th>\n      <td>https://olympics.com/en/athletes/michal-stanis...</td>\n      <td>Michal STANISZEWSKI</td>\n      <td>3</td>\n      <td>Barcelona 1992</td>\n      <td>1973.0</td>\n      <td>1</td>\n    </tr>\n    <tr>\n      <th>2808</th>\n      <td>https://olympics.com/en/athletes/david-davies-1</td>\n      <td>David DAVIES</td>\n      <td>3</td>\n      <td>Athens 2004</td>\n      <td>1985.0</td>\n      <td>2</td>\n    </tr>\n    <tr>\n      <th>13998</th>\n      <td>https://olympics.com/en/athletes/kseniya-sydor...</td>\n      <td>Kseniya SYDORENKO</td>\n      <td>4</td>\n      <td>Beijing 2008</td>\n      <td>1986.0</td>\n      <td>1</td>\n    </tr>\n    <tr>\n      <th>3939</th>\n      <td>https://olympics.com/en/athletes/fernando-gonz...</td>\n      <td>Fernando GONZALEZ</td>\n      <td>2</td>\n      <td>Athens 2004</td>\n      <td>1980.0</td>\n      <td>3</td>\n    </tr>\n    <tr>\n      <th>9077</th>\n      <td>https://olympics.com/en/athletes/anatoli-novikov</td>\n      <td>Anatoli NOVIKOV</td>\n      <td>1</td>\n      <td>Munich 1972</td>\n      <td>1947.0</td>\n      <td>1</td>\n    </tr>\n    <tr>\n      <th>5064</th>\n      <td>https://olympics.com/en/athletes/cuihua-jiang</td>\n      <td>Cuihua JIANG</td>\n      <td>1</td>\n      <td>Sydney 2000</td>\n      <td>1975.0</td>\n      <td>1</td>\n    </tr>\n    <tr>\n      <th>4270</th>\n      <td>https://olympics.com/en/athletes/ivo-yanakiev</td>\n      <td>Ivo YANAKIEV</td>\n      <td>3</td>\n      <td>Sydney 2000</td>\n      <td>1975.0</td>\n      <td>1</td>\n    </tr>\n    <tr>\n      <th>13956</th>\n      <td>https://olympics.com/en/athletes/andrea-hlavac...</td>\n      <td>Andrea HLAVACKOVA</td>\n      <td>2</td>\n      <td>London 2012</td>\n      <td>1986.0</td>\n      <td>1</td>\n    </tr>\n    <tr>\n      <th>3659</th>\n      <td>https://olympics.com/en/athletes/taras-danko</td>\n      <td>Taras DANKO</td>\n      <td>2</td>\n      <td>Athens 2004</td>\n      <td>1980.0</td>\n      <td>1</td>\n    </tr>\n  </tbody>\n</table>\n</div>",
       "datasetInfos": [],
       "metadata": {},
       "removedWidgets": [],
       "textData": null,
       "type": "htmlSandbox"
      }
     },
     "output_type": "display_data"
    }
   ],
   "source": [
    "# Converter 'game_name' em dt_sedes para minúsculas e obter valores únicos\n",
    "game_names = dt_sedes['game_name'].str.lower().unique()\n",
    "\n",
    "# Filtrar dt_atletas com base em 'first_game' presente em game_names\n",
    "dt_atletas = dt_atletas[dt_atletas['first_game'].str.lower().isin(game_names)]\n",
    "dt_atletas.sample(10)"
   ]
  },
  {
   "cell_type": "markdown",
   "metadata": {
    "application/vnd.databricks.v1+cell": {
     "cellMetadata": {
      "byteLimit": 2048000,
      "rowLimit": 10000
     },
     "inputWidgets": {},
     "nuid": "e246cb1f-bb81-4f64-80a9-af1054cb3ef9",
     "showTitle": false,
     "title": ""
    }
   },
   "source": [
    "Em seguida, utilizamos de ideia semelhante para filtrar as medalhas com base em 'slug_game' presente nos dataframes 'dt_medalhas' e 'dt_sedes'."
   ]
  },
  {
   "cell_type": "code",
   "execution_count": 0,
   "metadata": {
    "application/vnd.databricks.v1+cell": {
     "cellMetadata": {
      "byteLimit": 2048000,
      "rowLimit": 10000
     },
     "inputWidgets": {},
     "nuid": "d53834aa-c59e-42e4-a6b0-58e0594a3e2b",
     "showTitle": false,
     "title": ""
    }
   },
   "outputs": [
    {
     "output_type": "display_data",
     "data": {
      "text/html": [
       "<div>\n",
       "<style scoped>\n",
       "    .dataframe tbody tr th:only-of-type {\n",
       "        vertical-align: middle;\n",
       "    }\n",
       "\n",
       "    .dataframe tbody tr th {\n",
       "        vertical-align: top;\n",
       "    }\n",
       "\n",
       "    .dataframe thead th {\n",
       "        text-align: right;\n",
       "    }\n",
       "</style>\n",
       "<table border=\"1\" class=\"dataframe\">\n",
       "  <thead>\n",
       "    <tr style=\"text-align: right;\">\n",
       "      <th></th>\n",
       "      <th>discipline_title</th>\n",
       "      <th>slug_game</th>\n",
       "      <th>event_title</th>\n",
       "      <th>event_gender</th>\n",
       "      <th>medal_type</th>\n",
       "      <th>participant_type</th>\n",
       "      <th>participant_title</th>\n",
       "      <th>athlete_url</th>\n",
       "      <th>athlete_full_name</th>\n",
       "      <th>country_name</th>\n",
       "    </tr>\n",
       "  </thead>\n",
       "  <tbody>\n",
       "    <tr>\n",
       "      <th>16352</th>\n",
       "      <td>Wrestling</td>\n",
       "      <td>rome-1960</td>\n",
       "      <td>Bantamweight, Freestyle (≤57 kilograms) Men</td>\n",
       "      <td>Men</td>\n",
       "      <td>SILVER</td>\n",
       "      <td>Athlete</td>\n",
       "      <td>None</td>\n",
       "      <td>https://olympics.com/en/athletes/nedjet-zalev</td>\n",
       "      <td>Nedjet ZALEV</td>\n",
       "      <td>Bulgaria</td>\n",
       "    </tr>\n",
       "    <tr>\n",
       "      <th>14798</th>\n",
       "      <td>Shooting</td>\n",
       "      <td>mexico-city-1968</td>\n",
       "      <td>25m rapid fire pistol 60 shots men</td>\n",
       "      <td>Open</td>\n",
       "      <td>BRONZE</td>\n",
       "      <td>Athlete</td>\n",
       "      <td>None</td>\n",
       "      <td>https://olympics.com/en/athletes/renart-suleim...</td>\n",
       "      <td>Renart SULEIMANOV</td>\n",
       "      <td>Soviet Union</td>\n",
       "    </tr>\n",
       "    <tr>\n",
       "      <th>14936</th>\n",
       "      <td>Swimming</td>\n",
       "      <td>mexico-city-1968</td>\n",
       "      <td>100m breaststroke women</td>\n",
       "      <td>Women</td>\n",
       "      <td>BRONZE</td>\n",
       "      <td>Athlete</td>\n",
       "      <td>None</td>\n",
       "      <td>https://olympics.com/en/athletes/sharon-lynn-w...</td>\n",
       "      <td>Sharon Lynn WICHMAN</td>\n",
       "      <td>United States of America</td>\n",
       "    </tr>\n",
       "    <tr>\n",
       "      <th>13678</th>\n",
       "      <td>Rowing</td>\n",
       "      <td>montreal-1976</td>\n",
       "      <td>pair without coxswain 2 men</td>\n",
       "      <td>Men</td>\n",
       "      <td>BRONZE</td>\n",
       "      <td>GameTeam</td>\n",
       "      <td>West Germany team</td>\n",
       "      <td>https://olympics.com/en/athletes/thomas-strauss</td>\n",
       "      <td>Thomas STRAUSS</td>\n",
       "      <td>Federal Republic of Germany</td>\n",
       "    </tr>\n",
       "    <tr>\n",
       "      <th>15155</th>\n",
       "      <td>Athletics</td>\n",
       "      <td>mexico-city-1968</td>\n",
       "      <td>800m men</td>\n",
       "      <td>Men</td>\n",
       "      <td>GOLD</td>\n",
       "      <td>Athlete</td>\n",
       "      <td>None</td>\n",
       "      <td>https://olympics.com/en/athletes/ralph-doubell</td>\n",
       "      <td>Ralph DOUBELL</td>\n",
       "      <td>Australia</td>\n",
       "    </tr>\n",
       "    <tr>\n",
       "      <th>2226</th>\n",
       "      <td>Weightlifting</td>\n",
       "      <td>rio-2016</td>\n",
       "      <td>48kg women</td>\n",
       "      <td>Women</td>\n",
       "      <td>SILVER</td>\n",
       "      <td>Athlete</td>\n",
       "      <td>None</td>\n",
       "      <td>https://olympics.com/en/athletes/sri-wahyuni-a...</td>\n",
       "      <td>Sri Wahyuni AGUSTIANI</td>\n",
       "      <td>Indonesia</td>\n",
       "    </tr>\n",
       "    <tr>\n",
       "      <th>6387</th>\n",
       "      <td>Weightlifting</td>\n",
       "      <td>athens-2004</td>\n",
       "      <td>85kg men</td>\n",
       "      <td>Men</td>\n",
       "      <td>GOLD</td>\n",
       "      <td>Athlete</td>\n",
       "      <td>None</td>\n",
       "      <td>https://olympics.com/en/athletes/george-asanidze</td>\n",
       "      <td>George ASANIDZE</td>\n",
       "      <td>Georgia</td>\n",
       "    </tr>\n",
       "    <tr>\n",
       "      <th>5609</th>\n",
       "      <td>Gymnastics Artistic</td>\n",
       "      <td>beijing-2008</td>\n",
       "      <td>individual all-round women</td>\n",
       "      <td>Women</td>\n",
       "      <td>GOLD</td>\n",
       "      <td>Athlete</td>\n",
       "      <td>None</td>\n",
       "      <td>https://olympics.com/en/athletes/anastasia-liukin</td>\n",
       "      <td>Anastasia LIUKIN</td>\n",
       "      <td>United States of America</td>\n",
       "    </tr>\n",
       "    <tr>\n",
       "      <th>6184</th>\n",
       "      <td>Wrestling</td>\n",
       "      <td>athens-2004</td>\n",
       "      <td>Welterweight, Freestyle (≤66 kilograms) Men</td>\n",
       "      <td>Men</td>\n",
       "      <td>BRONZE</td>\n",
       "      <td>Athlete</td>\n",
       "      <td>None</td>\n",
       "      <td>https://olympics.com/en/athletes/makhach-murta...</td>\n",
       "      <td>Makhach MURTAZALIEV</td>\n",
       "      <td>Russian Federation</td>\n",
       "    </tr>\n",
       "    <tr>\n",
       "      <th>18438</th>\n",
       "      <td>Modern Pentathlon</td>\n",
       "      <td>berlin-1936</td>\n",
       "      <td>Individual competition men</td>\n",
       "      <td>Men</td>\n",
       "      <td>SILVER</td>\n",
       "      <td>Athlete</td>\n",
       "      <td>None</td>\n",
       "      <td>https://olympics.com/en/athletes/charles-fredr...</td>\n",
       "      <td>Charles Fredrick LEONARD</td>\n",
       "      <td>United States of America</td>\n",
       "    </tr>\n",
       "  </tbody>\n",
       "</table>\n",
       "</div>"
      ]
     },
     "metadata": {
      "application/vnd.databricks.v1+output": {
       "addedWidgets": {},
       "arguments": {},
       "data": "<div>\n<style scoped>\n    .dataframe tbody tr th:only-of-type {\n        vertical-align: middle;\n    }\n\n    .dataframe tbody tr th {\n        vertical-align: top;\n    }\n\n    .dataframe thead th {\n        text-align: right;\n    }\n</style>\n<table border=\"1\" class=\"dataframe\">\n  <thead>\n    <tr style=\"text-align: right;\">\n      <th></th>\n      <th>discipline_title</th>\n      <th>slug_game</th>\n      <th>event_title</th>\n      <th>event_gender</th>\n      <th>medal_type</th>\n      <th>participant_type</th>\n      <th>participant_title</th>\n      <th>athlete_url</th>\n      <th>athlete_full_name</th>\n      <th>country_name</th>\n    </tr>\n  </thead>\n  <tbody>\n    <tr>\n      <th>16352</th>\n      <td>Wrestling</td>\n      <td>rome-1960</td>\n      <td>Bantamweight, Freestyle (≤57 kilograms) Men</td>\n      <td>Men</td>\n      <td>SILVER</td>\n      <td>Athlete</td>\n      <td>None</td>\n      <td>https://olympics.com/en/athletes/nedjet-zalev</td>\n      <td>Nedjet ZALEV</td>\n      <td>Bulgaria</td>\n    </tr>\n    <tr>\n      <th>14798</th>\n      <td>Shooting</td>\n      <td>mexico-city-1968</td>\n      <td>25m rapid fire pistol 60 shots men</td>\n      <td>Open</td>\n      <td>BRONZE</td>\n      <td>Athlete</td>\n      <td>None</td>\n      <td>https://olympics.com/en/athletes/renart-suleim...</td>\n      <td>Renart SULEIMANOV</td>\n      <td>Soviet Union</td>\n    </tr>\n    <tr>\n      <th>14936</th>\n      <td>Swimming</td>\n      <td>mexico-city-1968</td>\n      <td>100m breaststroke women</td>\n      <td>Women</td>\n      <td>BRONZE</td>\n      <td>Athlete</td>\n      <td>None</td>\n      <td>https://olympics.com/en/athletes/sharon-lynn-w...</td>\n      <td>Sharon Lynn WICHMAN</td>\n      <td>United States of America</td>\n    </tr>\n    <tr>\n      <th>13678</th>\n      <td>Rowing</td>\n      <td>montreal-1976</td>\n      <td>pair without coxswain 2 men</td>\n      <td>Men</td>\n      <td>BRONZE</td>\n      <td>GameTeam</td>\n      <td>West Germany team</td>\n      <td>https://olympics.com/en/athletes/thomas-strauss</td>\n      <td>Thomas STRAUSS</td>\n      <td>Federal Republic of Germany</td>\n    </tr>\n    <tr>\n      <th>15155</th>\n      <td>Athletics</td>\n      <td>mexico-city-1968</td>\n      <td>800m men</td>\n      <td>Men</td>\n      <td>GOLD</td>\n      <td>Athlete</td>\n      <td>None</td>\n      <td>https://olympics.com/en/athletes/ralph-doubell</td>\n      <td>Ralph DOUBELL</td>\n      <td>Australia</td>\n    </tr>\n    <tr>\n      <th>2226</th>\n      <td>Weightlifting</td>\n      <td>rio-2016</td>\n      <td>48kg women</td>\n      <td>Women</td>\n      <td>SILVER</td>\n      <td>Athlete</td>\n      <td>None</td>\n      <td>https://olympics.com/en/athletes/sri-wahyuni-a...</td>\n      <td>Sri Wahyuni AGUSTIANI</td>\n      <td>Indonesia</td>\n    </tr>\n    <tr>\n      <th>6387</th>\n      <td>Weightlifting</td>\n      <td>athens-2004</td>\n      <td>85kg men</td>\n      <td>Men</td>\n      <td>GOLD</td>\n      <td>Athlete</td>\n      <td>None</td>\n      <td>https://olympics.com/en/athletes/george-asanidze</td>\n      <td>George ASANIDZE</td>\n      <td>Georgia</td>\n    </tr>\n    <tr>\n      <th>5609</th>\n      <td>Gymnastics Artistic</td>\n      <td>beijing-2008</td>\n      <td>individual all-round women</td>\n      <td>Women</td>\n      <td>GOLD</td>\n      <td>Athlete</td>\n      <td>None</td>\n      <td>https://olympics.com/en/athletes/anastasia-liukin</td>\n      <td>Anastasia LIUKIN</td>\n      <td>United States of America</td>\n    </tr>\n    <tr>\n      <th>6184</th>\n      <td>Wrestling</td>\n      <td>athens-2004</td>\n      <td>Welterweight, Freestyle (≤66 kilograms) Men</td>\n      <td>Men</td>\n      <td>BRONZE</td>\n      <td>Athlete</td>\n      <td>None</td>\n      <td>https://olympics.com/en/athletes/makhach-murta...</td>\n      <td>Makhach MURTAZALIEV</td>\n      <td>Russian Federation</td>\n    </tr>\n    <tr>\n      <th>18438</th>\n      <td>Modern Pentathlon</td>\n      <td>berlin-1936</td>\n      <td>Individual competition men</td>\n      <td>Men</td>\n      <td>SILVER</td>\n      <td>Athlete</td>\n      <td>None</td>\n      <td>https://olympics.com/en/athletes/charles-fredr...</td>\n      <td>Charles Fredrick LEONARD</td>\n      <td>United States of America</td>\n    </tr>\n  </tbody>\n</table>\n</div>",
       "datasetInfos": [],
       "metadata": {},
       "removedWidgets": [],
       "textData": null,
       "type": "htmlSandbox"
      }
     },
     "output_type": "display_data"
    }
   ],
   "source": [
    "# Filtrar dt_medalhas com base em 'slug_game' presente em dt_sedes['slug_game'].unique()\n",
    "dt_medalhas = dt_medalhas[dt_medalhas['slug_game'].str.lower().isin(dt_sedes['slug_game'].unique())]\n",
    "dt_medalhas.sample(10)"
   ]
  },
  {
   "cell_type": "markdown",
   "metadata": {
    "application/vnd.databricks.v1+cell": {
     "cellMetadata": {
      "byteLimit": 2048000,
      "rowLimit": 10000
     },
     "inputWidgets": {},
     "nuid": "f47d95d8-f10a-4324-b29a-60a3881a698b",
     "showTitle": false,
     "title": ""
    }
   },
   "source": [
    "Temos também que filtrar as colunas de 'dt_populacao', de modo que apenas os anos referentes aos anos olímpicos permaneçam no dataframe."
   ]
  },
  {
   "cell_type": "code",
   "execution_count": 0,
   "metadata": {
    "application/vnd.databricks.v1+cell": {
     "cellMetadata": {
      "byteLimit": 2048000,
      "rowLimit": 10000
     },
     "inputWidgets": {},
     "nuid": "a2ade2b1-d3b6-43ec-bc53-bf1a5386de0d",
     "showTitle": false,
     "title": ""
    }
   },
   "outputs": [],
   "source": [
    "#Extrair os valores únicos da coluna 'game_year' e armazená-los em um set\n",
    "anos_jogos = set(dt_sedes['game_year'].astype(int))\n",
    "\n",
    "#Filtrar as colunas de 'dt_populacao'\n",
    "colunas_mantidas = [col for col in dt_populacao.columns if col == 'country_name' or (col.isdigit() and int(col) in anos_jogos)]\n",
    "\n",
    "#Atualizar o DataFrame com as colunas filtradas\n",
    "dt_populacao = dt_populacao[colunas_mantidas]"
   ]
  },
  {
   "cell_type": "markdown",
   "metadata": {
    "application/vnd.databricks.v1+cell": {
     "cellMetadata": {
      "byteLimit": 2048000,
      "rowLimit": 10000
     },
     "inputWidgets": {},
     "nuid": "dbeea1f0-27af-4421-9b91-3fb6119f76fc",
     "showTitle": false,
     "title": ""
    }
   },
   "source": [
    "**Visualização dos dataframes após série de modificações**"
   ]
  },
  {
   "cell_type": "markdown",
   "metadata": {
    "application/vnd.databricks.v1+cell": {
     "cellMetadata": {
      "byteLimit": 2048000,
      "rowLimit": 10000
     },
     "inputWidgets": {},
     "nuid": "ccfdc01e-914f-4154-bcbf-83502877847f",
     "showTitle": false,
     "title": ""
    }
   },
   "source": [
    "De modo a facilitar as próximas análises, iremos declarar qual o tipo correto de cada coluna."
   ]
  },
  {
   "cell_type": "code",
   "execution_count": 0,
   "metadata": {
    "application/vnd.databricks.v1+cell": {
     "cellMetadata": {
      "byteLimit": 2048000,
      "rowLimit": 10000
     },
     "inputWidgets": {},
     "nuid": "8debc70f-9733-4de7-ac76-3134d004b106",
     "showTitle": false,
     "title": ""
    }
   },
   "outputs": [
    {
     "output_type": "stream",
     "name": "stdout",
     "output_type": "stream",
     "text": [
      "<class 'pandas.core.frame.DataFrame'>\nInt64Index: 12816 entries, 258 to 15349\nData columns (total 6 columns):\n #   Column                Non-Null Count  Dtype \n---  ------                --------------  ----- \n 0   athlete_url           12816 non-null  object\n 1   athlete_full_name     12816 non-null  object\n 2   games_participations  12816 non-null  object\n 3   first_game            12816 non-null  object\n 4   athlete_year_birth    12565 non-null  object\n 5   athlete_medals        12816 non-null  object\ndtypes: object(6)\nmemory usage: 700.9+ KB\n"
     ]
    }
   ],
   "source": [
    "dt_atletas.info()"
   ]
  },
  {
   "cell_type": "code",
   "execution_count": 0,
   "metadata": {
    "application/vnd.databricks.v1+cell": {
     "cellMetadata": {
      "byteLimit": 2048000,
      "rowLimit": 10000
     },
     "inputWidgets": {},
     "nuid": "bff95ded-3723-4995-a140-2eec60d50697",
     "showTitle": false,
     "title": ""
    }
   },
   "outputs": [
    {
     "output_type": "stream",
     "name": "stdout",
     "output_type": "stream",
     "text": [
      "<class 'pandas.core.frame.DataFrame'>\nInt64Index: 12816 entries, 258 to 15349\nData columns (total 6 columns):\n #   Column                Non-Null Count  Dtype  \n---  ------                --------------  -----  \n 0   athlete_url           12816 non-null  object \n 1   athlete_full_name     12816 non-null  object \n 2   games_participations  12816 non-null  int64  \n 3   first_game            12816 non-null  object \n 4   athlete_year_birth    12565 non-null  float64\n 5   athlete_medals        12816 non-null  int64  \ndtypes: float64(1), int64(2), object(3)\nmemory usage: 700.9+ KB\n"
     ]
    }
   ],
   "source": [
    "dt_atletas['games_participations'] = dt_atletas['games_participations'].astype(int)\n",
    "dt_atletas['athlete_year_birth'] = dt_atletas['athlete_year_birth'].astype(float)\n",
    "dt_atletas['athlete_medals'] = dt_atletas['athlete_medals'].astype(int)\n",
    "\n",
    "dt_atletas.info()"
   ]
  },
  {
   "cell_type": "code",
   "execution_count": 0,
   "metadata": {
    "application/vnd.databricks.v1+cell": {
     "cellMetadata": {
      "byteLimit": 2048000,
      "rowLimit": 10000
     },
     "inputWidgets": {},
     "nuid": "ba96b2dd-9aa7-4a12-b8af-d2575029b529",
     "showTitle": false,
     "title": ""
    }
   },
   "outputs": [
    {
     "output_type": "stream",
     "name": "stdout",
     "output_type": "stream",
     "text": [
      "<class 'pandas.core.frame.DataFrame'>\nInt64Index: 13935 entries, 355 to 21696\nData columns (total 10 columns):\n #   Column             Non-Null Count  Dtype \n---  ------             --------------  ----- \n 0   discipline_title   13935 non-null  object\n 1   slug_game          13935 non-null  object\n 2   event_title        13935 non-null  object\n 3   event_gender       13935 non-null  object\n 4   medal_type         13935 non-null  object\n 5   participant_type   13935 non-null  object\n 6   participant_title  2263 non-null   object\n 7   athlete_url        13935 non-null  object\n 8   athlete_full_name  13935 non-null  object\n 9   country_name       13935 non-null  object\ndtypes: object(10)\nmemory usage: 1.2+ MB\n"
     ]
    }
   ],
   "source": [
    "dt_medalhas.info()"
   ]
  },
  {
   "cell_type": "code",
   "execution_count": 0,
   "metadata": {
    "application/vnd.databricks.v1+cell": {
     "cellMetadata": {
      "byteLimit": 2048000,
      "rowLimit": 10000
     },
     "inputWidgets": {},
     "nuid": "f1c367ff-650d-43e5-b114-8b641a1a155d",
     "showTitle": false,
     "title": ""
    }
   },
   "outputs": [
    {
     "output_type": "stream",
     "name": "stdout",
     "output_type": "stream",
     "text": [
      "<class 'pandas.core.frame.DataFrame'>\nInt64Index: 29 entries, 1 to 52\nData columns (total 4 columns):\n #   Column        Non-Null Count  Dtype \n---  ------        --------------  ----- \n 0   slug_game     29 non-null     object\n 1   country_name  29 non-null     object\n 2   game_name     29 non-null     object\n 3   game_year     29 non-null     object\ndtypes: object(4)\nmemory usage: 1.1+ KB\n"
     ]
    }
   ],
   "source": [
    "dt_sedes.info()"
   ]
  },
  {
   "cell_type": "code",
   "execution_count": 0,
   "metadata": {
    "application/vnd.databricks.v1+cell": {
     "cellMetadata": {
      "byteLimit": 2048000,
      "rowLimit": 10000
     },
     "inputWidgets": {},
     "nuid": "b7921e61-66b5-45df-b01a-161cb000971b",
     "showTitle": false,
     "title": ""
    }
   },
   "outputs": [
    {
     "output_type": "stream",
     "name": "stdout",
     "output_type": "stream",
     "text": [
      "<class 'pandas.core.frame.DataFrame'>\nInt64Index: 29 entries, 1 to 52\nData columns (total 4 columns):\n #   Column        Non-Null Count  Dtype \n---  ------        --------------  ----- \n 0   slug_game     29 non-null     object\n 1   country_name  29 non-null     object\n 2   game_name     29 non-null     object\n 3   game_year     29 non-null     int64 \ndtypes: int64(1), object(3)\nmemory usage: 1.1+ KB\n"
     ]
    }
   ],
   "source": [
    "dt_sedes['game_year'] = dt_sedes['game_year'].astype(int)\n",
    "\n",
    "dt_sedes.info()"
   ]
  },
  {
   "cell_type": "code",
   "execution_count": 0,
   "metadata": {
    "application/vnd.databricks.v1+cell": {
     "cellMetadata": {
      "byteLimit": 2048000,
      "rowLimit": 10000
     },
     "inputWidgets": {},
     "nuid": "33c311e6-6a76-4f09-ae85-e2ab1fc200bf",
     "showTitle": false,
     "title": ""
    }
   },
   "outputs": [
    {
     "output_type": "stream",
     "name": "stdout",
     "output_type": "stream",
     "text": [
      "<class 'pandas.core.frame.DataFrame'>\nInt64Index: 266 entries, 0 to 265\nData columns (total 17 columns):\n #   Column        Non-Null Count  Dtype \n---  ------        --------------  ----- \n 0   country_name  266 non-null    object\n 1   1960          266 non-null    object\n 2   1964          266 non-null    object\n 3   1968          266 non-null    object\n 4   1972          266 non-null    object\n 5   1976          266 non-null    object\n 6   1980          266 non-null    object\n 7   1984          266 non-null    object\n 8   1988          266 non-null    object\n 9   1992          266 non-null    object\n 10  1996          266 non-null    object\n 11  2000          266 non-null    object\n 12  2004          266 non-null    object\n 13  2008          266 non-null    object\n 14  2012          266 non-null    object\n 15  2016          266 non-null    object\n 16  2020          266 non-null    object\ndtypes: object(17)\nmemory usage: 37.4+ KB\n"
     ]
    }
   ],
   "source": [
    "dt_populacao.info()"
   ]
  },
  {
   "cell_type": "code",
   "execution_count": 0,
   "metadata": {
    "application/vnd.databricks.v1+cell": {
     "cellMetadata": {
      "byteLimit": 2048000,
      "rowLimit": 10000
     },
     "inputWidgets": {},
     "nuid": "b7f5da76-f92a-4ab6-a13e-2f426e2b2b04",
     "showTitle": false,
     "title": ""
    }
   },
   "outputs": [
    {
     "output_type": "stream",
     "name": "stdout",
     "output_type": "stream",
     "text": [
      "<class 'pandas.core.frame.DataFrame'>\nInt64Index: 266 entries, 0 to 265\nData columns (total 17 columns):\n #   Column        Non-Null Count  Dtype  \n---  ------        --------------  -----  \n 0   country_name  266 non-null    object \n 1   ano_1960      266 non-null    float64\n 2   ano_1964      266 non-null    float64\n 3   ano_1968      266 non-null    float64\n 4   ano_1972      266 non-null    float64\n 5   ano_1976      266 non-null    float64\n 6   ano_1980      266 non-null    float64\n 7   ano_1984      266 non-null    float64\n 8   ano_1988      266 non-null    float64\n 9   ano_1992      266 non-null    float64\n 10  ano_1996      266 non-null    float64\n 11  ano_2000      266 non-null    float64\n 12  ano_2004      266 non-null    float64\n 13  ano_2008      266 non-null    float64\n 14  ano_2012      266 non-null    float64\n 15  ano_2016      266 non-null    float64\n 16  ano_2020      266 non-null    float64\ndtypes: float64(16), object(1)\nmemory usage: 37.4+ KB\n"
     ]
    }
   ],
   "source": [
    "dt_populacao['1960'] = dt_populacao['1960'].astype(float)\n",
    "dt_populacao['1964'] = dt_populacao['1964'].astype(float)\n",
    "dt_populacao['1968'] = dt_populacao['1968'].astype(float)\n",
    "dt_populacao['1972'] = dt_populacao['1972'].astype(float)\n",
    "dt_populacao['1976'] = dt_populacao['1976'].astype(float)\n",
    "dt_populacao['1980'] = dt_populacao['1980'].astype(float)\n",
    "dt_populacao['1984'] = dt_populacao['1984'].astype(float)\n",
    "dt_populacao['1988'] = dt_populacao['1988'].astype(float)\n",
    "dt_populacao['1992'] = dt_populacao['1992'].astype(float)\n",
    "dt_populacao['1996'] = dt_populacao['1996'].astype(float)\n",
    "dt_populacao['2000'] = dt_populacao['2000'].astype(float)\n",
    "dt_populacao['2004'] = dt_populacao['2004'].astype(float)\n",
    "dt_populacao['2008'] = dt_populacao['2008'].astype(float)\n",
    "dt_populacao['2012'] = dt_populacao['2012'].astype(float)\n",
    "dt_populacao['2016'] = dt_populacao['2016'].astype(float)\n",
    "dt_populacao['2020'] = dt_populacao['2020'].astype(float)\n",
    "\n",
    "# Renomeando todas as colunas do DataFrame com prefixo 'ano_' a fim de facilitar na hora das consultas\n",
    "novos_nomes = {col: f\"ano_{col}\" for col in dt_populacao.columns}\n",
    "dt_populacao = dt_populacao.rename(columns=novos_nomes)\n",
    "dt_populacao = dt_populacao.rename(columns={'ano_country_name': 'country_name'})\n",
    "\n",
    "dt_populacao.info()"
   ]
  },
  {
   "cell_type": "code",
   "execution_count": 0,
   "metadata": {
    "application/vnd.databricks.v1+cell": {
     "cellMetadata": {
      "byteLimit": 2048000,
      "rowLimit": 10000
     },
     "inputWidgets": {},
     "nuid": "81571eb6-6081-4856-8057-f4cf7a6579cd",
     "showTitle": false,
     "title": ""
    }
   },
   "outputs": [
    {
     "output_type": "stream",
     "name": "stdout",
     "output_type": "stream",
     "text": [
      "dt_atletas: ['athlete_url', 'athlete_full_name', 'games_participations', 'first_game', 'athlete_year_birth', 'athlete_medals']\ndt_sedes: ['slug_game', 'country_name', 'game_name', 'game_year']\ndt_medalhas: ['discipline_title', 'slug_game', 'event_title', 'event_gender', 'medal_type', 'participant_type', 'participant_title', 'athlete_url', 'athlete_full_name', 'country_name']\ndt_populacao: ['country_name', 'ano_1960', 'ano_1964', 'ano_1968', 'ano_1972', 'ano_1976', 'ano_1980', 'ano_1984', 'ano_1988', 'ano_1992', 'ano_1996', 'ano_2000', 'ano_2004', 'ano_2008', 'ano_2012', 'ano_2016', 'ano_2020']\n"
     ]
    }
   ],
   "source": [
    "print(f\"dt_atletas: {dt_atletas.columns.to_list()}\")\n",
    "print(f\"dt_sedes: {dt_sedes.columns.to_list()}\")\n",
    "print(f\"dt_medalhas: {dt_medalhas.columns.to_list()}\")\n",
    "print(f\"dt_populacao: {dt_populacao.columns.to_list()}\")"
   ]
  },
  {
   "cell_type": "markdown",
   "metadata": {
    "application/vnd.databricks.v1+cell": {
     "cellMetadata": {
      "byteLimit": 2048000,
      "rowLimit": 10000
     },
     "inputWidgets": {},
     "nuid": "1f763331-39a9-4974-bd16-55fef3a0ff74",
     "showTitle": false,
     "title": ""
    }
   },
   "source": [
    "**Modelagem**"
   ]
  },
  {
   "cell_type": "markdown",
   "metadata": {
    "application/vnd.databricks.v1+cell": {
     "cellMetadata": {
      "byteLimit": 2048000,
      "rowLimit": 10000
     },
     "inputWidgets": {},
     "nuid": "e040e5c8-aa7c-49a7-babd-ce2bd753879e",
     "showTitle": false,
     "title": ""
    }
   },
   "source": [
    "Após analisar os dataframes acima, propõe-se um modelo de dados em Esquema Estrela, permitindo análises e consultas complexas. O esquema citado prevê um **Tabela de Fatos (Fact Table)**, que nesse caso, será 'dt_medalhas', pois ela contém informações mais detalhadas sobre as medalhas conquistadas pelos atletas e, além disso, algumas **Tabelas de Dimensão (Dimension Tables)**, que serão: 'dt_atletas', 'dt_sedes' e 'dt_populacao'."
   ]
  },
  {
   "cell_type": "markdown",
   "metadata": {
    "application/vnd.databricks.v1+cell": {
     "cellMetadata": {
      "byteLimit": 2048000,
      "rowLimit": 10000
     },
     "inputWidgets": {},
     "nuid": "3bef0bb2-384f-4e6f-985f-9548449959b2",
     "showTitle": false,
     "title": ""
    }
   },
   "source": [
    "A fim de definir um chave primária para a tabela de fatos, devemos criar uma coluna 'medal_id' a ser formada por inteiros."
   ]
  },
  {
   "cell_type": "code",
   "execution_count": 0,
   "metadata": {
    "application/vnd.databricks.v1+cell": {
     "cellMetadata": {
      "byteLimit": 2048000,
      "rowLimit": 10000
     },
     "inputWidgets": {},
     "nuid": "3fbccd06-0c78-41e0-96bd-6fae290a6994",
     "showTitle": false,
     "title": ""
    }
   },
   "outputs": [
    {
     "output_type": "display_data",
     "data": {
      "text/html": [
       "<div>\n",
       "<style scoped>\n",
       "    .dataframe tbody tr th:only-of-type {\n",
       "        vertical-align: middle;\n",
       "    }\n",
       "\n",
       "    .dataframe tbody tr th {\n",
       "        vertical-align: top;\n",
       "    }\n",
       "\n",
       "    .dataframe thead th {\n",
       "        text-align: right;\n",
       "    }\n",
       "</style>\n",
       "<table border=\"1\" class=\"dataframe\">\n",
       "  <thead>\n",
       "    <tr style=\"text-align: right;\">\n",
       "      <th></th>\n",
       "      <th>medal_id</th>\n",
       "      <th>discipline_title</th>\n",
       "      <th>slug_game</th>\n",
       "      <th>event_title</th>\n",
       "      <th>event_gender</th>\n",
       "      <th>medal_type</th>\n",
       "      <th>participant_type</th>\n",
       "      <th>participant_title</th>\n",
       "      <th>athlete_url</th>\n",
       "      <th>athlete_full_name</th>\n",
       "      <th>country_name</th>\n",
       "    </tr>\n",
       "  </thead>\n",
       "  <tbody>\n",
       "    <tr>\n",
       "      <th>19344</th>\n",
       "      <td>12469</td>\n",
       "      <td>Wrestling</td>\n",
       "      <td>amsterdam-1928</td>\n",
       "      <td>Bantamweight, Freestyle (≤56 kilograms) Men</td>\n",
       "      <td>Men</td>\n",
       "      <td>BRONZE</td>\n",
       "      <td>Athlete</td>\n",
       "      <td>None</td>\n",
       "      <td>https://olympics.com/en/athletes/james-trifunov</td>\n",
       "      <td>James TRIFUNOV</td>\n",
       "      <td>Canada</td>\n",
       "    </tr>\n",
       "    <tr>\n",
       "      <th>2153</th>\n",
       "      <td>1226</td>\n",
       "      <td>Athletics</td>\n",
       "      <td>rio-2016</td>\n",
       "      <td>200m women</td>\n",
       "      <td>Women</td>\n",
       "      <td>GOLD</td>\n",
       "      <td>Athlete</td>\n",
       "      <td>None</td>\n",
       "      <td>https://olympics.com/en/athletes/elaine-thompson</td>\n",
       "      <td>Elaine THOMPSON-HERAH</td>\n",
       "      <td>Jamaica</td>\n",
       "    </tr>\n",
       "    <tr>\n",
       "      <th>15386</th>\n",
       "      <td>9844</td>\n",
       "      <td>Sailing</td>\n",
       "      <td>tokyo-1964</td>\n",
       "      <td>flying dutchman mixed</td>\n",
       "      <td>Open</td>\n",
       "      <td>SILVER</td>\n",
       "      <td>GameTeam</td>\n",
       "      <td>Lady C</td>\n",
       "      <td>https://olympics.com/en/athletes/franklyn-keit...</td>\n",
       "      <td>Franklyn Keith MUSTO</td>\n",
       "      <td>Great Britain</td>\n",
       "    </tr>\n",
       "    <tr>\n",
       "      <th>1537</th>\n",
       "      <td>1001</td>\n",
       "      <td>Beach Volleyball</td>\n",
       "      <td>tokyo-2020</td>\n",
       "      <td>Men</td>\n",
       "      <td>Men</td>\n",
       "      <td>GOLD</td>\n",
       "      <td>GameTeam</td>\n",
       "      <td>Mol A./Sorum C.</td>\n",
       "      <td>https://olympics.com/en/athletes/anders-bernts...</td>\n",
       "      <td>Anders Berntsen MOL</td>\n",
       "      <td>Norway</td>\n",
       "    </tr>\n",
       "    <tr>\n",
       "      <th>4278</th>\n",
       "      <td>2746</td>\n",
       "      <td>Taekwondo</td>\n",
       "      <td>london-2012</td>\n",
       "      <td>58 - 68 kg men</td>\n",
       "      <td>Men</td>\n",
       "      <td>BRONZE</td>\n",
       "      <td>Athlete</td>\n",
       "      <td>None</td>\n",
       "      <td>https://olympics.com/en/athletes/terrence-jenn...</td>\n",
       "      <td>Terrence JENNINGS</td>\n",
       "      <td>United States of America</td>\n",
       "    </tr>\n",
       "    <tr>\n",
       "      <th>1428</th>\n",
       "      <td>925</td>\n",
       "      <td>Rowing</td>\n",
       "      <td>tokyo-2020</td>\n",
       "      <td>Lightweight Women's Double Sculls</td>\n",
       "      <td>Women</td>\n",
       "      <td>GOLD</td>\n",
       "      <td>GameTeam</td>\n",
       "      <td>Italy</td>\n",
       "      <td>https://olympics.com/en/athletes/federica-cesa...</td>\n",
       "      <td>Federica CESARINI</td>\n",
       "      <td>Italy</td>\n",
       "    </tr>\n",
       "    <tr>\n",
       "      <th>15761</th>\n",
       "      <td>10129</td>\n",
       "      <td>Athletics</td>\n",
       "      <td>tokyo-1964</td>\n",
       "      <td>800m women</td>\n",
       "      <td>Women</td>\n",
       "      <td>BRONZE</td>\n",
       "      <td>Athlete</td>\n",
       "      <td>None</td>\n",
       "      <td>https://olympics.com/en/athletes/ann-marise-ch...</td>\n",
       "      <td>Ann Marise CHAMBERLAIN</td>\n",
       "      <td>New Zealand</td>\n",
       "    </tr>\n",
       "    <tr>\n",
       "      <th>11267</th>\n",
       "      <td>7216</td>\n",
       "      <td>Shooting</td>\n",
       "      <td>seoul-1988</td>\n",
       "      <td>10m air rifle 60 shots men</td>\n",
       "      <td>Men</td>\n",
       "      <td>GOLD</td>\n",
       "      <td>Athlete</td>\n",
       "      <td>None</td>\n",
       "      <td>https://olympics.com/en/athletes/goran-maksimovic</td>\n",
       "      <td>Goran MAKSIMOVIC</td>\n",
       "      <td>Yugoslavia</td>\n",
       "    </tr>\n",
       "    <tr>\n",
       "      <th>4778</th>\n",
       "      <td>2910</td>\n",
       "      <td>Boxing</td>\n",
       "      <td>beijing-2008</td>\n",
       "      <td>51-54kg bantamweight men</td>\n",
       "      <td>Men</td>\n",
       "      <td>BRONZE</td>\n",
       "      <td>Athlete</td>\n",
       "      <td>None</td>\n",
       "      <td>https://olympics.com/en/athletes/bruno-julie</td>\n",
       "      <td>Bruno JULIE</td>\n",
       "      <td>Mauritius</td>\n",
       "    </tr>\n",
       "    <tr>\n",
       "      <th>14813</th>\n",
       "      <td>9503</td>\n",
       "      <td>Shooting</td>\n",
       "      <td>mexico-city-1968</td>\n",
       "      <td>300m free rifle 3 positions 3 men</td>\n",
       "      <td>Open</td>\n",
       "      <td>BRONZE</td>\n",
       "      <td>Athlete</td>\n",
       "      <td>None</td>\n",
       "      <td>https://olympics.com/en/athletes/kurt-muller-1</td>\n",
       "      <td>Kurt MÜLLER</td>\n",
       "      <td>Switzerland</td>\n",
       "    </tr>\n",
       "  </tbody>\n",
       "</table>\n",
       "</div>"
      ]
     },
     "metadata": {
      "application/vnd.databricks.v1+output": {
       "addedWidgets": {},
       "arguments": {},
       "data": "<div>\n<style scoped>\n    .dataframe tbody tr th:only-of-type {\n        vertical-align: middle;\n    }\n\n    .dataframe tbody tr th {\n        vertical-align: top;\n    }\n\n    .dataframe thead th {\n        text-align: right;\n    }\n</style>\n<table border=\"1\" class=\"dataframe\">\n  <thead>\n    <tr style=\"text-align: right;\">\n      <th></th>\n      <th>medal_id</th>\n      <th>discipline_title</th>\n      <th>slug_game</th>\n      <th>event_title</th>\n      <th>event_gender</th>\n      <th>medal_type</th>\n      <th>participant_type</th>\n      <th>participant_title</th>\n      <th>athlete_url</th>\n      <th>athlete_full_name</th>\n      <th>country_name</th>\n    </tr>\n  </thead>\n  <tbody>\n    <tr>\n      <th>19344</th>\n      <td>12469</td>\n      <td>Wrestling</td>\n      <td>amsterdam-1928</td>\n      <td>Bantamweight, Freestyle (≤56 kilograms) Men</td>\n      <td>Men</td>\n      <td>BRONZE</td>\n      <td>Athlete</td>\n      <td>None</td>\n      <td>https://olympics.com/en/athletes/james-trifunov</td>\n      <td>James TRIFUNOV</td>\n      <td>Canada</td>\n    </tr>\n    <tr>\n      <th>2153</th>\n      <td>1226</td>\n      <td>Athletics</td>\n      <td>rio-2016</td>\n      <td>200m women</td>\n      <td>Women</td>\n      <td>GOLD</td>\n      <td>Athlete</td>\n      <td>None</td>\n      <td>https://olympics.com/en/athletes/elaine-thompson</td>\n      <td>Elaine THOMPSON-HERAH</td>\n      <td>Jamaica</td>\n    </tr>\n    <tr>\n      <th>15386</th>\n      <td>9844</td>\n      <td>Sailing</td>\n      <td>tokyo-1964</td>\n      <td>flying dutchman mixed</td>\n      <td>Open</td>\n      <td>SILVER</td>\n      <td>GameTeam</td>\n      <td>Lady C</td>\n      <td>https://olympics.com/en/athletes/franklyn-keit...</td>\n      <td>Franklyn Keith MUSTO</td>\n      <td>Great Britain</td>\n    </tr>\n    <tr>\n      <th>1537</th>\n      <td>1001</td>\n      <td>Beach Volleyball</td>\n      <td>tokyo-2020</td>\n      <td>Men</td>\n      <td>Men</td>\n      <td>GOLD</td>\n      <td>GameTeam</td>\n      <td>Mol A./Sorum C.</td>\n      <td>https://olympics.com/en/athletes/anders-bernts...</td>\n      <td>Anders Berntsen MOL</td>\n      <td>Norway</td>\n    </tr>\n    <tr>\n      <th>4278</th>\n      <td>2746</td>\n      <td>Taekwondo</td>\n      <td>london-2012</td>\n      <td>58 - 68 kg men</td>\n      <td>Men</td>\n      <td>BRONZE</td>\n      <td>Athlete</td>\n      <td>None</td>\n      <td>https://olympics.com/en/athletes/terrence-jenn...</td>\n      <td>Terrence JENNINGS</td>\n      <td>United States of America</td>\n    </tr>\n    <tr>\n      <th>1428</th>\n      <td>925</td>\n      <td>Rowing</td>\n      <td>tokyo-2020</td>\n      <td>Lightweight Women's Double Sculls</td>\n      <td>Women</td>\n      <td>GOLD</td>\n      <td>GameTeam</td>\n      <td>Italy</td>\n      <td>https://olympics.com/en/athletes/federica-cesa...</td>\n      <td>Federica CESARINI</td>\n      <td>Italy</td>\n    </tr>\n    <tr>\n      <th>15761</th>\n      <td>10129</td>\n      <td>Athletics</td>\n      <td>tokyo-1964</td>\n      <td>800m women</td>\n      <td>Women</td>\n      <td>BRONZE</td>\n      <td>Athlete</td>\n      <td>None</td>\n      <td>https://olympics.com/en/athletes/ann-marise-ch...</td>\n      <td>Ann Marise CHAMBERLAIN</td>\n      <td>New Zealand</td>\n    </tr>\n    <tr>\n      <th>11267</th>\n      <td>7216</td>\n      <td>Shooting</td>\n      <td>seoul-1988</td>\n      <td>10m air rifle 60 shots men</td>\n      <td>Men</td>\n      <td>GOLD</td>\n      <td>Athlete</td>\n      <td>None</td>\n      <td>https://olympics.com/en/athletes/goran-maksimovic</td>\n      <td>Goran MAKSIMOVIC</td>\n      <td>Yugoslavia</td>\n    </tr>\n    <tr>\n      <th>4778</th>\n      <td>2910</td>\n      <td>Boxing</td>\n      <td>beijing-2008</td>\n      <td>51-54kg bantamweight men</td>\n      <td>Men</td>\n      <td>BRONZE</td>\n      <td>Athlete</td>\n      <td>None</td>\n      <td>https://olympics.com/en/athletes/bruno-julie</td>\n      <td>Bruno JULIE</td>\n      <td>Mauritius</td>\n    </tr>\n    <tr>\n      <th>14813</th>\n      <td>9503</td>\n      <td>Shooting</td>\n      <td>mexico-city-1968</td>\n      <td>300m free rifle 3 positions 3 men</td>\n      <td>Open</td>\n      <td>BRONZE</td>\n      <td>Athlete</td>\n      <td>None</td>\n      <td>https://olympics.com/en/athletes/kurt-muller-1</td>\n      <td>Kurt MÜLLER</td>\n      <td>Switzerland</td>\n    </tr>\n  </tbody>\n</table>\n</div>",
       "datasetInfos": [],
       "metadata": {},
       "removedWidgets": [],
       "textData": null,
       "type": "htmlSandbox"
      }
     },
     "output_type": "display_data"
    }
   ],
   "source": [
    "dt_medalhas.insert(0, 'medal_id', range(1, 1+len(dt_medalhas)))\n",
    "dt_medalhas.sample(10)"
   ]
  },
  {
   "cell_type": "markdown",
   "metadata": {
    "application/vnd.databricks.v1+cell": {
     "cellMetadata": {},
     "inputWidgets": {},
     "nuid": "0609cab2-7516-47d7-9357-4b4664dd2350",
     "showTitle": false,
     "title": ""
    }
   },
   "source": [
    "# Camada Gold"
   ]
  },
  {
   "cell_type": "markdown",
   "metadata": {
    "application/vnd.databricks.v1+cell": {
     "cellMetadata": {},
     "inputWidgets": {},
     "nuid": "66fcc44f-c171-4856-bc5c-663c6c31505d",
     "showTitle": false,
     "title": ""
    }
   },
   "source": [
    "A partir deste momento, os dados já estão altamente refinados, prontos para análise e relatórios."
   ]
  },
  {
   "cell_type": "markdown",
   "metadata": {
    "application/vnd.databricks.v1+cell": {
     "cellMetadata": {
      "byteLimit": 2048000,
      "rowLimit": 10000
     },
     "inputWidgets": {},
     "nuid": "f986833b-88ad-4bf4-9909-5b06af95e693",
     "showTitle": false,
     "title": ""
    }
   },
   "source": [
    "Com o auxílio da ferramenta dbdiagram.io (https://dbdiagram.io/home), montamos o esquema, explicitando as relações entre as tabelas, suas chaves primárias e estrangeiras, bem como o tipo presente em cada um dos campos (texto, inteiro, varchar)."
   ]
  },
  {
   "cell_type": "code",
   "execution_count": 0,
   "metadata": {
    "application/vnd.databricks.v1+cell": {
     "cellMetadata": {
      "byteLimit": 2048000,
      "rowLimit": 10000
     },
     "inputWidgets": {},
     "nuid": "d24ccd5c-2abf-4bb7-a1a1-bd06d42184b2",
     "showTitle": false,
     "title": ""
    }
   },
   "outputs": [
    {
     "output_type": "display_data",
     "data": {
      "image/png": "[encoded data removed]"
     },
     "metadata": {
      "application/vnd.databricks.v1+output": {
       "addedWidgets": {},
       "arguments": {},
       "data": "data:image/png;base64,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\n",
       "datasetInfos": [],
       "metadata": {},
       "removedWidgets": [],
       "type": "image"
      }
     },
     "output_type": "display_data"
    }
   ],
   "source": [
    "# Definição da URL da imagem corrigida\n",
    "url = \"https://github.com/bernardosnap/MVP---Sprint-Engenharia-de-Dados/blob/main/mvp_olimpiadas.png?raw=true\"\n",
    "\n",
    "# Abre a URL, lê o conteúdo da imagem e converte para um array numpy\n",
    "response = urllib.request.urlopen(url)\n",
    "img_array = np.array(Image.open(response))\n",
    "\n",
    "# Define o tamanho da figura\n",
    "plt.figure(figsize=(16, 14))\n",
    "\n",
    "# Exibe a imagem usando matplotlib\n",
    "plt.imshow(img_array)\n",
    "plt.axis('off')\n",
    "plt.show()\n"
   ]
  },
  {
   "cell_type": "markdown",
   "metadata": {
    "application/vnd.databricks.v1+cell": {
     "cellMetadata": {
      "byteLimit": 2048000,
      "rowLimit": 10000
     },
     "inputWidgets": {},
     "nuid": "a069b51f-9a47-4c17-be1d-8b819b4a709a",
     "showTitle": false,
     "title": ""
    }
   },
   "source": [
    "**RESUMO DAS CHAVES**\n",
    "\n",
    "**Tabela _fato_medalhas_:**\n",
    "\n",
    "Chave Primária (PK):\n",
    "*     medal_id\n",
    "\n",
    "Chaves Estrangeiras (FK):\n",
    "*     slug_game referencia dim_sedes.slug_game\n",
    "*     country_name referencia dim_sedes.country_name\n",
    "*     athlete_url referencia dim_atletas.athlete_url\n",
    "*     country_name referencia dim_populacao.country_name\n",
    "\n",
    "**Tabela _dim_atletas_:**\n",
    "\n",
    "Chave Primária (PK):\n",
    "*     athlete_url\n",
    "\n",
    "**Tabela _dim_sedes_:**\n",
    "\n",
    "Chave Primária (PK):\n",
    "*     slug_game\n",
    "\n",
    "**Tabela _dim_populacao_:**\n",
    "\n",
    "Chave Primária (PK):\n",
    "*     country_name\n",
    "\n"
   ]
  },
  {
   "cell_type": "code",
   "execution_count": 0,
   "metadata": {
    "application/vnd.databricks.v1+cell": {
     "cellMetadata": {
      "byteLimit": 2048000,
      "rowLimit": 10000
     },
     "inputWidgets": {},
     "nuid": "1a83b31e-5222-4e3f-9a95-d08b1419d5b7",
     "showTitle": false,
     "title": ""
    }
   },
   "outputs": [],
   "source": [
    "fato_medalhas = spark.createDataFrame(dt_medalhas)\n",
    "dim_atletas = spark.createDataFrame(dt_atletas)\n",
    "dim_sedes = spark.createDataFrame(dt_sedes)\n",
    "dim_populacao = spark.createDataFrame(dt_populacao)"
   ]
  },
  {
   "cell_type": "markdown",
   "metadata": {
    "application/vnd.databricks.v1+cell": {
     "cellMetadata": {
      "byteLimit": 2048000,
      "rowLimit": 10000
     },
     "inputWidgets": {},
     "nuid": "047168d7-6adc-4060-b5f8-09e570a1b433",
     "showTitle": false,
     "title": ""
    }
   },
   "source": [
    "Por fim, faremos uma outra descrição dos dados, explicitando os valores mínimos e máximos esperados para dados numéricos, e possíveis categorias para dados categóricos."
   ]
  },
  {
   "cell_type": "markdown",
   "metadata": {
    "application/vnd.databricks.v1+cell": {
     "cellMetadata": {
      "byteLimit": 2048000,
      "rowLimit": 10000
     },
     "inputWidgets": {},
     "nuid": "2cfadb5d-0a1e-4e25-9bee-a43f708fef36",
     "showTitle": false,
     "title": ""
    }
   },
   "source": [
    "**ATLETAS**"
   ]
  },
  {
   "cell_type": "code",
   "execution_count": 0,
   "metadata": {
    "application/vnd.databricks.v1+cell": {
     "cellMetadata": {
      "byteLimit": 2048000,
      "rowLimit": 10000
     },
     "inputWidgets": {},
     "nuid": "cd2e6447-b966-4b09-a94c-c6c5dae3b1b4",
     "showTitle": false,
     "title": ""
    }
   },
   "outputs": [
    {
     "output_type": "stream",
     "name": "stdout",
     "output_type": "stream",
     "text": [
      "+------------------------+------------------------+----------------------+----------------------+------------------+------------------+\n|min_games_participations|max_games_participations|min_athlete_year_birth|max_athlete_year_birth|min_athlete_medals|max_athlete_medals|\n+------------------------+------------------------+----------------------+----------------------+------------------+------------------+\n|                       1|                      10|                1836.0|                2008.0|                 1|                18|\n+------------------------+------------------------+----------------------+----------------------+------------------+------------------+\n\n"
     ]
    }
   ],
   "source": [
    "dim_atletas.agg(\n",
    "    min(\"games_participations\").alias(\"min_games_participations\"),  # mínimo de participações em jogos\n",
    "    max(\"games_participations\").alias(\"max_games_participations\"),  # máximo de participações em jogos\n",
    "    min(\"athlete_year_birth\").alias(\"min_athlete_year_birth\"),      # mínimo de ano de nascimento      \n",
    "    max(\"athlete_year_birth\").alias(\"max_athlete_year_birth\"),      # máximo de ano de nascimento\n",
    "    min(\"athlete_medals\").alias(\"min_athlete_medals\"),              # mínimo de medalhas do atleta\n",
    "    max(\"athlete_medals\").alias(\"max_athlete_medals\"),              # máximo de medalhas do atleta\n",
    ").show()"
   ]
  },
  {
   "cell_type": "markdown",
   "metadata": {
    "application/vnd.databricks.v1+cell": {
     "cellMetadata": {
      "byteLimit": 2048000,
      "rowLimit": 10000
     },
     "inputWidgets": {},
     "nuid": "eba77bbb-e8b4-47de-9415-c1aa22dc18b8",
     "showTitle": false,
     "title": ""
    }
   },
   "source": [
    "**SEDES**"
   ]
  },
  {
   "cell_type": "code",
   "execution_count": 0,
   "metadata": {
    "application/vnd.databricks.v1+cell": {
     "cellMetadata": {
      "byteLimit": 2048000,
      "rowLimit": 10000
     },
     "inputWidgets": {},
     "nuid": "83b6061a-b294-4fea-aa56-ce26c2fe1d4a",
     "showTitle": false,
     "title": ""
    }
   },
   "outputs": [
    {
     "output_type": "stream",
     "name": "stdout",
     "output_type": "stream",
     "text": [
      "+-------------+-------------+\n|min_game_year|max_game_year|\n+-------------+-------------+\n|         1896|         2020|\n+-------------+-------------+\n\n"
     ]
    }
   ],
   "source": [
    "dim_sedes.agg(\n",
    "    min(\"game_year\").alias(\"min_game_year\"),    # primeiro jogos\n",
    "    max(\"game_year\").alias(\"max_game_year\"),    # último jogos\n",
    ").show()"
   ]
  },
  {
   "cell_type": "markdown",
   "metadata": {
    "application/vnd.databricks.v1+cell": {
     "cellMetadata": {
      "byteLimit": 2048000,
      "rowLimit": 10000
     },
     "inputWidgets": {},
     "nuid": "b8e75910-aedf-4c01-9d8e-61c1e1b7a791",
     "showTitle": false,
     "title": ""
    }
   },
   "source": [
    "**MEDALHAS**"
   ]
  },
  {
   "cell_type": "code",
   "execution_count": 0,
   "metadata": {
    "application/vnd.databricks.v1+cell": {
     "cellMetadata": {
      "byteLimit": 2048000,
      "rowLimit": 10000
     },
     "inputWidgets": {},
     "nuid": "63d0547e-1237-431a-9ed6-6f70baf8d9da",
     "showTitle": false,
     "title": ""
    }
   },
   "outputs": [
    {
     "output_type": "stream",
     "name": "stdout",
     "output_type": "stream",
     "text": [
      "+------------+\n|event_gender|\n+------------+\n|        Open|\n|       Mixed|\n|         Men|\n|       Women|\n+------------+\n\n+----------+\n|medal_type|\n+----------+\n|    SILVER|\n|      GOLD|\n|    BRONZE|\n+----------+\n\n+----------------+\n|participant_type|\n+----------------+\n|         Athlete|\n|        GameTeam|\n+----------------+\n\n"
     ]
    }
   ],
   "source": [
    "fato_medalhas.select(\"event_gender\").distinct().show()      # tipos de gênero na competição\n",
    "fato_medalhas.select(\"medal_type\").distinct().show()        # tipos de medalhas\n",
    "fato_medalhas.select(\"participant_type\").distinct().show()  # tipos de esporte"
   ]
  },
  {
   "cell_type": "markdown",
   "metadata": {
    "application/vnd.databricks.v1+cell": {
     "cellMetadata": {
      "byteLimit": 2048000,
      "rowLimit": 10000
     },
     "inputWidgets": {},
     "nuid": "7acb634a-0782-429e-9e1f-8f82e39766b2",
     "showTitle": false,
     "title": ""
    }
   },
   "source": [
    "**POPULAÇÃO**"
   ]
  },
  {
   "cell_type": "code",
   "execution_count": 0,
   "metadata": {
    "application/vnd.databricks.v1+cell": {
     "cellMetadata": {
      "byteLimit": 2048000,
      "rowLimit": 10000
     },
     "inputWidgets": {},
     "nuid": "6a2e81f9-65e0-4411-9cbd-6cd144129b04",
     "showTitle": false,
     "title": ""
    }
   },
   "outputs": [
    {
     "output_type": "stream",
     "name": "stdout",
     "output_type": "stream",
     "text": [
      "+------------+-------------+------------+-------------+------------+-------------+------------+-------------+\n|min_ano_1960| max_ano_1960|min_ano_1964| max_ano_1964|min_ano_1968| max_ano_1968|min_ano_1972| max_ano_1972|\n+------------+-------------+------------+-------------+------------+-------------+------------+-------------+\n|      2646.0|3.031474234E9|      3811.0|3.260441925E9|      5354.0|3.540164023E9|      5891.0|3.843607574E9|\n+------------+-------------+------------+-------------+------------+-------------+------------+-------------+\n\n+------------+-------------+------------+-------------+------------+-------------+------------+-------------+\n|min_ano_1976| max_ano_1976|min_ano_1980| max_ano_1980|min_ano_1984| max_ano_1984|min_ano_1988| max_ano_1988|\n+------------+-------------+------------+-------------+------------+-------------+------------+-------------+\n|      6668.0|4.143091942E9|      7598.0|4.442348279E9|      8125.0|4.766640881E9|      8844.0|5.113387878E9|\n+------------+-------------+------------+-------------+------------+-------------+------------+-------------+\n\n+------------+-------------+------------+-------------+------------+-------------+------------+-------------+\n|min_ano_1992| max_ano_1992|min_ano_1996| max_ano_1996|min_ano_2000| max_ano_2000|min_ano_2004| max_ano_2004|\n+------------+-------------+------------+-------------+------------+-------------+------------+-------------+\n|      9466.0|5.470164577E9|      9611.0|5.811580202E9|      9638.0|6.144321462E9|      9791.0|6.470924346E9|\n+------------+-------------+------------+-------------+------------+-------------+------------+-------------+\n\n+------------+-------------+------------+-------------+------------+-------------+------------+-------------+\n|min_ano_2008| max_ano_2008|min_ano_2012| max_ano_2012|min_ano_2016| max_ano_2016|min_ano_2020| max_ano_2020|\n+------------+-------------+------------+-------------+------------+-------------+------------+-------------+\n|     10243.0|6.801440971E9|     10444.0|7.141386257E9|     10852.0|7.490415449E9|     11069.0|7.820205606E9|\n+------------+-------------+------------+-------------+------------+-------------+------------+-------------+\n\n"
     ]
    }
   ],
   "source": [
    "dim_populacao.agg(\n",
    "    min(\"ano_1960\").alias(\"min_ano_1960\"),  # mínimo de população em 1960\n",
    "    max(\"ano_1960\").alias(\"max_ano_1960\"),  # máximo de população em 1960\n",
    "    min(\"ano_1964\").alias(\"min_ano_1964\"),  # mínimo de população em 1964\n",
    "    max(\"ano_1964\").alias(\"max_ano_1964\"),  # máximo de população em 1964\n",
    "    min(\"ano_1968\").alias(\"min_ano_1968\"),  # mínimo de população em 1968\n",
    "    max(\"ano_1968\").alias(\"max_ano_1968\"),  # máximo de população em 1968\n",
    "    min(\"ano_1972\").alias(\"min_ano_1972\"),  # mínimo de população em 1972\n",
    "    max(\"ano_1972\").alias(\"max_ano_1972\"),  # máximo de população em 1972\n",
    ").show()\n",
    "\n",
    "dim_populacao.agg(\n",
    "    min(\"ano_1976\").alias(\"min_ano_1976\"),  # mínimo de população em 1976\n",
    "    max(\"ano_1976\").alias(\"max_ano_1976\"),  # máximo de população em 1976\n",
    "    min(\"ano_1980\").alias(\"min_ano_1980\"),  # mínimo de população em 1980\n",
    "    max(\"ano_1980\").alias(\"max_ano_1980\"),  # máximo de população em 1980\n",
    "    min(\"ano_1984\").alias(\"min_ano_1984\"),  # mínimo de população em 1984\n",
    "    max(\"ano_1984\").alias(\"max_ano_1984\"),  # máximo de população em 1984\n",
    "    min(\"ano_1988\").alias(\"min_ano_1988\"),  # mínimo de população em 1988\n",
    "    max(\"ano_1988\").alias(\"max_ano_1988\"),  # máximo de população em 1988\n",
    ").show()\n",
    "\n",
    "\n",
    "dim_populacao.agg(\n",
    "    min(\"ano_1992\").alias(\"min_ano_1992\"),  # mínimo de população em 1992\n",
    "    max(\"ano_1992\").alias(\"max_ano_1992\"),  # máximo de população em 1992\n",
    "    min(\"ano_1996\").alias(\"min_ano_1996\"),  # mínimo de população em 1996\n",
    "    max(\"ano_1996\").alias(\"max_ano_1996\"),  # máximo de população em 1996\n",
    "    min(\"ano_2000\").alias(\"min_ano_2000\"),  # mínimo de população em 2000\n",
    "    max(\"ano_2000\").alias(\"max_ano_2000\"),  # máximo de população em 2000\n",
    "    min(\"ano_2004\").alias(\"min_ano_2004\"),  # mínimo de população em 2004\n",
    "    max(\"ano_2004\").alias(\"max_ano_2004\"),  # máximo de população em 2004\n",
    ").show()\n",
    "\n",
    "\n",
    "dim_populacao.agg(\n",
    "    min(\"ano_2008\").alias(\"min_ano_2008\"),  # mínimo de população em 2008\n",
    "    max(\"ano_2008\").alias(\"max_ano_2008\"),  # máximo de população em 2008\n",
    "    min(\"ano_2012\").alias(\"min_ano_2012\"),  # mínimo de população em 2012\n",
    "    max(\"ano_2012\").alias(\"max_ano_2012\"),  # máximo de população em 2012\n",
    "    min(\"ano_2016\").alias(\"min_ano_2016\"),  # mínimo de população em 2016\n",
    "    max(\"ano_2016\").alias(\"max_ano_2016\"),  # máximo de população em 2016\n",
    "    min(\"ano_2020\").alias(\"min_ano_2020\"),  # mínimo de população em 2020\n",
    "    max(\"ano_2020\").alias(\"max_ano_2020\"),  # máximo de população em 2020\n",
    ").show()\n",
    "\n"
   ]
  },
  {
   "cell_type": "markdown",
   "metadata": {
    "application/vnd.databricks.v1+cell": {
     "cellMetadata": {
      "byteLimit": 2048000,
      "rowLimit": 10000
     },
     "inputWidgets": {},
     "nuid": "545f666e-df7d-4c08-9596-8add7224864a",
     "showTitle": false,
     "title": ""
    }
   },
   "source": [
    "# Consultas"
   ]
  },
  {
   "cell_type": "markdown",
   "metadata": {
    "application/vnd.databricks.v1+cell": {
     "cellMetadata": {
      "byteLimit": 2048000,
      "rowLimit": 10000
     },
     "inputWidgets": {},
     "nuid": "a3201847-8b68-4bc7-ab26-b6466c6f3f15",
     "showTitle": false,
     "title": ""
    }
   },
   "source": [
    "Primeiramente, para executar as consultas, registraremos os dataframes como tabelas temporárias."
   ]
  },
  {
   "cell_type": "code",
   "execution_count": 0,
   "metadata": {
    "application/vnd.databricks.v1+cell": {
     "cellMetadata": {
      "byteLimit": 2048000,
      "rowLimit": 10000
     },
     "inputWidgets": {},
     "nuid": "1dec13d7-b3a5-4b4e-8a65-a48bdac980de",
     "showTitle": false,
     "title": ""
    }
   },
   "outputs": [],
   "source": [
    "# Registrar o DataFrame como uma tabela temporária\n",
    "fato_medalhas.createOrReplaceTempView(\"fato_medalhas\")\n",
    "dim_atletas.createOrReplaceTempView(\"dim_atletas\")\n",
    "dim_sedes.createOrReplaceTempView(\"dim_sedes\")\n",
    "dim_populacao.createOrReplaceTempView(\"dim_populacao\")"
   ]
  },
  {
   "cell_type": "markdown",
   "metadata": {
    "application/vnd.databricks.v1+cell": {
     "cellMetadata": {
      "byteLimit": 2048000,
      "rowLimit": 10000
     },
     "inputWidgets": {},
     "nuid": "85d07efc-2826-4fcb-83cb-82896adc6f2b",
     "showTitle": false,
     "title": ""
    }
   },
   "source": [
    "**1) Qual a relação entre ser o país anfitrião e o número de medalhas conquistadas nas últimas 5 edições?**"
   ]
  },
  {
   "cell_type": "markdown",
   "metadata": {
    "application/vnd.databricks.v1+cell": {
     "cellMetadata": {
      "byteLimit": 2048000,
      "rowLimit": 10000
     },
     "inputWidgets": {},
     "nuid": "c48b6a93-2dfe-42b2-99cb-91998430e5ba",
     "showTitle": false,
     "title": ""
    }
   },
   "source": [
    "Para responder isso devemos analisar as tabelas 'fato_medalhas' e 'dim_sedes'."
   ]
  },
  {
   "cell_type": "code",
   "execution_count": 0,
   "metadata": {
    "application/vnd.databricks.v1+cell": {
     "cellMetadata": {
      "byteLimit": 2048000,
      "rowLimit": 10000
     },
     "inputWidgets": {},
     "nuid": "733d7386-9982-456a-863b-56aaef3ae6b9",
     "showTitle": false,
     "title": ""
    }
   },
   "outputs": [
    {
     "output_type": "stream",
     "name": "stdout",
     "output_type": "stream",
     "text": [
      "+------------+-------------+\n|   slug_game| country_name|\n+------------+-------------+\n|  tokyo-2020|        Japan|\n|    rio-2016|       Brazil|\n| london-2012|Great Britain|\n|beijing-2008|        China|\n| athens-2004|       Greece|\n+------------+-------------+\n\n"
     ]
    }
   ],
   "source": [
    "get_sedes = spark.sql(\"SELECT slug_game, country_name FROM dim_sedes WHERE game_year > 2000\")\n",
    "get_sedes.show()\n"
   ]
  },
  {
   "cell_type": "code",
   "execution_count": 0,
   "metadata": {
    "application/vnd.databricks.v1+cell": {
     "cellMetadata": {
      "byteLimit": 2048000,
      "rowLimit": 10000
     },
     "inputWidgets": {},
     "nuid": "91f05ddd-c913-46b2-8093-1878914061c1",
     "showTitle": false,
     "title": ""
    }
   },
   "outputs": [
    {
     "output_type": "stream",
     "name": "stdout",
     "output_type": "stream",
     "text": [
      "+----------+--------------------+------------+-------------+\n|medal_type|   athlete_full_name|   slug_game| country_name|\n+----------+--------------------+------------+-------------+\n|      GOLD|          Aaron WOLF|  tokyo-2020|        Japan|\n|    BRONZE|      Abner TEIXEIRA|  tokyo-2020|       Brazil|\n|      GOLD|          Adam PEATY|    rio-2016|Great Britain|\n|      GOLD|          Adam PEATY|  tokyo-2020|Great Britain|\n|    BRONZE|      Adriana ARAUJO| london-2012|       Brazil|\n|    SILVER|       Adriana BEHAR| athens-2004|       Brazil|\n|    SILVER|   Agatha BEDNARCZUK|    rio-2016|       Brazil|\n|      GOLD|          Ai SHIBATA| athens-2004|        Japan|\n|      GOLD|     Aimilia TSOULFA| athens-2004|       Greece|\n|      GOLD|          Akira SONE|  tokyo-2020|        Japan|\n|    BRONZE|       Akiyo NOGUCHI|  tokyo-2020|        Japan|\n|    BRONZE|       Alan CAMPBELL| london-2012|Great Britain|\n|    SILVER|            Alex YEE|  tokyo-2020|Great Britain|\n|    BRONZE|   Alexandra TSIAVOU| london-2012|       Greece|\n|    SILVER|Alexandros NIKOLA...|beijing-2008|       Greece|\n|    SILVER|Alexandros NIKOLA...| athens-2004|       Greece|\n|    SILVER|      Alison CERUTTI| london-2012|       Brazil|\n|      GOLD|      Alison CERUTTI|    rio-2016|       Brazil|\n|    BRONZE|   Alison DOS SANTOS|  tokyo-2020|       Brazil|\n|    BRONZE|   Alison WILLIAMSON| athens-2004|Great Britain|\n+----------+--------------------+------------+-------------+\nonly showing top 20 rows\n\n"
     ]
    }
   ],
   "source": [
    "consulta_dim_sedes = \"\"\"\n",
    "SELECT medal_type, athlete_full_name, slug_game, country_name\n",
    "FROM fato_medalhas\n",
    "WHERE slug_game IN ('athens-2004', 'beijing-2008', 'london-2012', 'rio-2016', 'tokyo-2020')\n",
    "  AND country_name IN ('Greece', 'China', 'Great Britain', 'Brazil', 'Japan')\n",
    "ORDER BY athlete_full_name;\n",
    "\"\"\"\n",
    "get_medalhas_sedes = spark.sql(consulta_dim_sedes)\n",
    "get_medalhas_sedes.show()"
   ]
  },
  {
   "cell_type": "markdown",
   "metadata": {
    "application/vnd.databricks.v1+cell": {
     "cellMetadata": {
      "byteLimit": 2048000,
      "rowLimit": 10000
     },
     "inputWidgets": {},
     "nuid": "a3b8615d-a9b6-4b84-ab83-34cd3f252739",
     "showTitle": false,
     "title": ""
    }
   },
   "source": [
    "**a) Japão**\n"
   ]
  },
  {
   "cell_type": "code",
   "execution_count": 0,
   "metadata": {
    "application/vnd.databricks.v1+cell": {
     "cellMetadata": {
      "byteLimit": 2048000,
      "rowLimit": 10000
     },
     "inputWidgets": {},
     "nuid": "dc737ba9-8cbb-4d77-9795-027640936150",
     "showTitle": false,
     "title": ""
    }
   },
   "outputs": [
    {
     "output_type": "stream",
     "name": "stdout",
     "output_type": "stream",
     "text": [
      "+------------+--------------+\n|   slug_game|total_medalhas|\n+------------+--------------+\n|  tokyo-2020|            51|\n|    rio-2016|            37|\n| athens-2004|            33|\n| london-2012|            31|\n|beijing-2008|            22|\n+------------+--------------+\n\n"
     ]
    }
   ],
   "source": [
    "consulta_dim_sedes_japao = \"\"\"\n",
    "SELECT slug_game, COUNT(*) AS total_medalhas\n",
    "FROM fato_medalhas\n",
    "WHERE slug_game IN ('athens-2004', 'beijing-2008', 'london-2012', 'rio-2016', 'tokyo-2020')\n",
    "  AND country_name = 'Japan'\n",
    "GROUP BY slug_game\n",
    "ORDER BY total_medalhas DESC;\n",
    "\"\"\"\n",
    "get_medalhas_sedes = spark.sql(consulta_dim_sedes_japao)\n",
    "get_medalhas_sedes.show()"
   ]
  },
  {
   "cell_type": "markdown",
   "metadata": {
    "application/vnd.databricks.v1+cell": {
     "cellMetadata": {
      "byteLimit": 2048000,
      "rowLimit": 10000
     },
     "inputWidgets": {},
     "nuid": "c7dfe564-94c4-453c-904b-841715292125",
     "showTitle": false,
     "title": ""
    }
   },
   "source": [
    "**b) Brasil**"
   ]
  },
  {
   "cell_type": "code",
   "execution_count": 0,
   "metadata": {
    "application/vnd.databricks.v1+cell": {
     "cellMetadata": {
      "byteLimit": 2048000,
      "rowLimit": 10000
     },
     "inputWidgets": {},
     "nuid": "978aa7d9-62a7-44d3-b405-27ddcfb0d732",
     "showTitle": false,
     "title": ""
    }
   },
   "outputs": [
    {
     "output_type": "stream",
     "name": "stdout",
     "output_type": "stream",
     "text": [
      "+------------+--------------+\n|   slug_game|total_medalhas|\n+------------+--------------+\n|    rio-2016|            21|\n|  tokyo-2020|            20|\n| london-2012|            15|\n|beijing-2008|            12|\n| athens-2004|             9|\n+------------+--------------+\n\n"
     ]
    }
   ],
   "source": [
    "consulta_dim_sedes_brasil = \"\"\"\n",
    "SELECT slug_game, COUNT(*) AS total_medalhas\n",
    "FROM fato_medalhas\n",
    "WHERE slug_game IN ('athens-2004', 'beijing-2008', 'london-2012', 'rio-2016', 'tokyo-2020')\n",
    "  AND country_name = 'Brazil'\n",
    "GROUP BY slug_game\n",
    "ORDER BY total_medalhas DESC;\n",
    "\"\"\"\n",
    "get_medalhas_sedes = spark.sql(consulta_dim_sedes_brasil)\n",
    "get_medalhas_sedes.show()"
   ]
  },
  {
   "cell_type": "markdown",
   "metadata": {
    "application/vnd.databricks.v1+cell": {
     "cellMetadata": {
      "byteLimit": 2048000,
      "rowLimit": 10000
     },
     "inputWidgets": {},
     "nuid": "20329bb2-35a6-4b1f-8497-c305769e3fd9",
     "showTitle": false,
     "title": ""
    }
   },
   "source": [
    "**c) Grã-Bretanha**"
   ]
  },
  {
   "cell_type": "code",
   "execution_count": 0,
   "metadata": {
    "application/vnd.databricks.v1+cell": {
     "cellMetadata": {
      "byteLimit": 2048000,
      "rowLimit": 10000
     },
     "inputWidgets": {},
     "nuid": "df9b4eb9-a6b0-41d1-8148-56652bbfa108",
     "showTitle": false,
     "title": ""
    }
   },
   "outputs": [
    {
     "output_type": "stream",
     "name": "stdout",
     "output_type": "stream",
     "text": [
      "+------------+--------------+\n|   slug_game|total_medalhas|\n+------------+--------------+\n| london-2012|            66|\n|    rio-2016|            62|\n|  tokyo-2020|            57|\n|beijing-2008|            46|\n| athens-2004|            31|\n+------------+--------------+\n\n"
     ]
    }
   ],
   "source": [
    "consulta_dim_sedes_grabretanha = \"\"\"\n",
    "SELECT slug_game, COUNT(*) AS total_medalhas\n",
    "FROM fato_medalhas\n",
    "WHERE slug_game IN ('athens-2004', 'beijing-2008', 'london-2012', 'rio-2016', 'tokyo-2020')\n",
    "  AND country_name = 'Great Britain'\n",
    "GROUP BY slug_game\n",
    "ORDER BY total_medalhas DESC;\n",
    "\"\"\"\n",
    "get_medalhas_sedes = spark.sql(consulta_dim_sedes_grabretanha)\n",
    "get_medalhas_sedes.show()"
   ]
  },
  {
   "cell_type": "markdown",
   "metadata": {
    "application/vnd.databricks.v1+cell": {
     "cellMetadata": {
      "byteLimit": 2048000,
      "rowLimit": 10000
     },
     "inputWidgets": {},
     "nuid": "00f32580-0d97-4377-a0ff-5741e250d9bb",
     "showTitle": false,
     "title": ""
    }
   },
   "source": [
    "**d) China**"
   ]
  },
  {
   "cell_type": "code",
   "execution_count": 0,
   "metadata": {
    "application/vnd.databricks.v1+cell": {
     "cellMetadata": {
      "byteLimit": 2048000,
      "rowLimit": 10000
     },
     "inputWidgets": {},
     "nuid": "0b7fed20-0a47-4c3b-8070-1bc186907746",
     "showTitle": false,
     "title": ""
    }
   },
   "outputs": [
    {
     "output_type": "stream",
     "name": "stdout",
     "output_type": "stream",
     "text": [
      "+------------+--------------+\n|   slug_game|total_medalhas|\n+------------+--------------+\n|beijing-2008|            97|\n|  tokyo-2020|            95|\n| london-2012|            95|\n|    rio-2016|            70|\n| athens-2004|            68|\n+------------+--------------+\n\n"
     ]
    }
   ],
   "source": [
    "consulta_dim_sedes_china = \"\"\"\n",
    "SELECT slug_game, COUNT(*) AS total_medalhas\n",
    "FROM fato_medalhas\n",
    "WHERE slug_game IN ('athens-2004', 'beijing-2008', 'london-2012', 'rio-2016', 'tokyo-2020')\n",
    "  AND country_name = \"People's Republic of China\"\n",
    "GROUP BY slug_game\n",
    "ORDER BY total_medalhas DESC;\n",
    "\"\"\"\n",
    "get_medalhas_sedes = spark.sql(consulta_dim_sedes_china)\n",
    "get_medalhas_sedes.show()"
   ]
  },
  {
   "cell_type": "markdown",
   "metadata": {
    "application/vnd.databricks.v1+cell": {
     "cellMetadata": {
      "byteLimit": 2048000,
      "rowLimit": 10000
     },
     "inputWidgets": {},
     "nuid": "db992049-f70c-4e24-9660-7a2c62a3f597",
     "showTitle": false,
     "title": ""
    }
   },
   "source": [
    "**e) Grécia**"
   ]
  },
  {
   "cell_type": "code",
   "execution_count": 0,
   "metadata": {
    "application/vnd.databricks.v1+cell": {
     "cellMetadata": {
      "byteLimit": 2048000,
      "rowLimit": 10000
     },
     "inputWidgets": {},
     "nuid": "06006087-3098-4909-9ed8-6a39a0119007",
     "showTitle": false,
     "title": ""
    }
   },
   "outputs": [
    {
     "output_type": "stream",
     "name": "stdout",
     "output_type": "stream",
     "text": [
      "+------------+--------------+\n|   slug_game|total_medalhas|\n+------------+--------------+\n| athens-2004|            17|\n|    rio-2016|             7|\n|  tokyo-2020|             3|\n| london-2012|             3|\n|beijing-2008|             2|\n+------------+--------------+\n\n"
     ]
    }
   ],
   "source": [
    "consulta_dim_sedes_grecia = \"\"\"\n",
    "SELECT slug_game, COUNT(*) AS total_medalhas\n",
    "FROM fato_medalhas\n",
    "WHERE slug_game IN ('athens-2004', 'beijing-2008', 'london-2012', 'rio-2016', 'tokyo-2020')\n",
    "  AND country_name = 'Greece'\n",
    "GROUP BY slug_game\n",
    "ORDER BY total_medalhas DESC;\n",
    "\"\"\"\n",
    "get_medalhas_sedes = spark.sql(consulta_dim_sedes_grecia)\n",
    "get_medalhas_sedes.show()"
   ]
  },
  {
   "cell_type": "markdown",
   "metadata": {
    "application/vnd.databricks.v1+cell": {
     "cellMetadata": {
      "byteLimit": 2048000,
      "rowLimit": 10000
     },
     "inputWidgets": {},
     "nuid": "ac4077e2-3fb1-4a99-90b7-c677106263a9",
     "showTitle": false,
     "title": ""
    }
   },
   "source": [
    "É notória a relação entre ser a sede e o número de medalhas, ou seja, sediar os Jogos representa uma oportunidade única para o país anfitrião brilhar no cenário esportivo mundial. "
   ]
  },
  {
   "cell_type": "markdown",
   "metadata": {
    "application/vnd.databricks.v1+cell": {
     "cellMetadata": {
      "byteLimit": 2048000,
      "rowLimit": 10000
     },
     "inputWidgets": {},
     "nuid": "5b0a4b7e-d501-444b-a30d-0a37c7ae306e",
     "showTitle": false,
     "title": ""
    }
   },
   "source": [
    "**2)Quais os três países que mais têm medalhas mesmo tendo uma população pequena e quais são os esportes que eles mais se destacam?**"
   ]
  },
  {
   "cell_type": "markdown",
   "metadata": {
    "application/vnd.databricks.v1+cell": {
     "cellMetadata": {
      "byteLimit": 2048000,
      "rowLimit": 10000
     },
     "inputWidgets": {},
     "nuid": "fe981321-92fb-4c44-836d-34a1b8545b4d",
     "showTitle": false,
     "title": ""
    }
   },
   "source": [
    "Para responder tal pergunta, iremos considerar países com uma população pequena como aqueles que possuem menos de 3 milhões de habitantes no ano de 2020. Com isso em mente, consultamos quais são os países na tabela dim_populacao."
   ]
  },
  {
   "cell_type": "code",
   "execution_count": 0,
   "metadata": {
    "application/vnd.databricks.v1+cell": {
     "cellMetadata": {
      "byteLimit": 2048000,
      "rowLimit": 10000
     },
     "inputWidgets": {},
     "nuid": "40e92312-f6ea-4dcc-811a-00417d1b4e8d",
     "showTitle": false,
     "title": ""
    }
   },
   "outputs": [
    {
     "output_type": "stream",
     "name": "stdout",
     "output_type": "stream",
     "text": [
      "+-------------------+------------+\n|       country_name|num_medalhas|\n+-------------------+------------+\n|            Jamaica|          62|\n|            Estonia|          33|\n|           Slovenia|          31|\n|          Lithuania|          26|\n|             Latvia|          21|\n|            Armenia|          17|\n|Trinidad and Tobago|          15|\n|              Qatar|           9|\n|            Namibia|           5|\n|         San Marino|           4|\n|            Bahrain|           4|\n|             Kosovo|           3|\n|            Grenada|           3|\n|            Iceland|           3|\n|    North Macedonia|           2|\n|            Bermuda|           2|\n|           Suriname|           2|\n|         Luxembourg|           2|\n|              Gabon|           1|\n|             Cyprus|           1|\n+-------------------+------------+\nonly showing top 20 rows\n\n"
     ]
    }
   ],
   "source": [
    "consulta_medalhas_paises_pequenos = \"\"\"\n",
    "SELECT f.country_name, COUNT(*) AS num_medalhas\n",
    "FROM fato_medalhas f\n",
    "JOIN dim_populacao d ON f.country_name = d.country_name\n",
    "WHERE d.ano_2020 < 3000000\n",
    "GROUP BY f.country_name\n",
    "ORDER BY num_medalhas DESC;\n",
    "\"\"\"\n",
    "get_medalhas_paises_pequenos = spark.sql(consulta_medalhas_paises_pequenos)\n",
    "get_medalhas_paises_pequenos.show()"
   ]
  },
  {
   "cell_type": "markdown",
   "metadata": {
    "application/vnd.databricks.v1+cell": {
     "cellMetadata": {
      "byteLimit": 2048000,
      "rowLimit": 10000
     },
     "inputWidgets": {},
     "nuid": "7b3cb641-2cd3-4df7-a895-9bbe0806c9eb",
     "showTitle": false,
     "title": ""
    }
   },
   "source": [
    "Após a consulta realizada, verificamos que Jamaica, Estônia e Eslovênia são as maiores potências de \"países pequenos\". Em seguida, checaremos em quais esportes os mesmos se destacam."
   ]
  },
  {
   "cell_type": "markdown",
   "metadata": {
    "application/vnd.databricks.v1+cell": {
     "cellMetadata": {
      "byteLimit": 2048000,
      "rowLimit": 10000
     },
     "inputWidgets": {},
     "nuid": "10e3d156-3a25-4a76-9b9d-5ecb1d4d614e",
     "showTitle": false,
     "title": ""
    }
   },
   "source": [
    "**a)Jamaica**"
   ]
  },
  {
   "cell_type": "code",
   "execution_count": 0,
   "metadata": {
    "application/vnd.databricks.v1+cell": {
     "cellMetadata": {
      "byteLimit": 2048000,
      "rowLimit": 10000
     },
     "inputWidgets": {},
     "nuid": "c4883f9b-b89c-4dcf-a0ae-733e807d09cd",
     "showTitle": false,
     "title": ""
    }
   },
   "outputs": [
    {
     "output_type": "stream",
     "name": "stdout",
     "output_type": "stream",
     "text": [
      "+----------------+------------+\n|discipline_title|num_medalhas|\n+----------------+------------+\n|       Athletics|          61|\n|   Cycling Track|           1|\n+----------------+------------+\n\n"
     ]
    }
   ],
   "source": [
    "consulta_medalhas_jamaica = \"\"\"\n",
    "SELECT discipline_title, COUNT(*) AS num_medalhas\n",
    "FROM fato_medalhas \n",
    "WHERE country_name == 'Jamaica'\n",
    "GROUP BY discipline_title\n",
    "ORDER BY num_medalhas DESC;\n",
    "\"\"\"\n",
    "get_medalhas_jamaica = spark.sql(consulta_medalhas_jamaica)\n",
    "get_medalhas_jamaica.show()"
   ]
  },
  {
   "cell_type": "markdown",
   "metadata": {
    "application/vnd.databricks.v1+cell": {
     "cellMetadata": {
      "byteLimit": 2048000,
      "rowLimit": 10000
     },
     "inputWidgets": {},
     "nuid": "73edfff2-2f4c-4f89-bdbb-3f0597080884",
     "showTitle": false,
     "title": ""
    }
   },
   "source": [
    "Conforme esperado pelo senso comum, a Jamaica, lar de atletas como Usain Bolt e Asafa Powell, é uma verdadeira potência no atletismo internacional e olímpico. "
   ]
  },
  {
   "cell_type": "markdown",
   "metadata": {
    "application/vnd.databricks.v1+cell": {
     "cellMetadata": {
      "byteLimit": 2048000,
      "rowLimit": 10000
     },
     "inputWidgets": {},
     "nuid": "bec5fb60-8e6a-4cdb-80e9-35afe808e764",
     "showTitle": false,
     "title": ""
    }
   },
   "source": [
    "**b)Estônia**"
   ]
  },
  {
   "cell_type": "code",
   "execution_count": 0,
   "metadata": {
    "application/vnd.databricks.v1+cell": {
     "cellMetadata": {
      "byteLimit": 2048000,
      "rowLimit": 10000
     },
     "inputWidgets": {},
     "nuid": "6b2fe75f-b63c-487e-9181-428f24666631",
     "showTitle": false,
     "title": ""
    }
   },
   "outputs": [
    {
     "output_type": "stream",
     "name": "stdout",
     "output_type": "stream",
     "text": [
      "+----------------+------------+\n|discipline_title|num_medalhas|\n+----------------+------------+\n|       Wrestling|          11|\n|   Weightlifting|           7|\n|       Athletics|           4|\n|          Rowing|           3|\n|            Judo|           3|\n|         Sailing|           2|\n|         Fencing|           1|\n|   Cycling Track|           1|\n|          Boxing|           1|\n+----------------+------------+\n\n"
     ]
    }
   ],
   "source": [
    "consulta_medalhas_estonia = \"\"\"\n",
    "SELECT discipline_title, COUNT(*) AS num_medalhas\n",
    "FROM fato_medalhas \n",
    "WHERE country_name == 'Estonia'\n",
    "GROUP BY discipline_title\n",
    "ORDER BY num_medalhas DESC;\n",
    "\"\"\"\n",
    "get_medalhas_estonia = spark.sql(consulta_medalhas_estonia)\n",
    "get_medalhas_estonia.show()"
   ]
  },
  {
   "cell_type": "markdown",
   "metadata": {
    "application/vnd.databricks.v1+cell": {
     "cellMetadata": {
      "byteLimit": 2048000,
      "rowLimit": 10000
     },
     "inputWidgets": {},
     "nuid": "e4108209-523e-43ef-9bc8-2579443b7237",
     "showTitle": false,
     "title": ""
    }
   },
   "source": [
    "Já a Estônia tem como principais esportes: a Luta Livre (Wrestling), o Levantamento de Peso (Weightlifting) e o Atletismo."
   ]
  },
  {
   "cell_type": "markdown",
   "metadata": {
    "application/vnd.databricks.v1+cell": {
     "cellMetadata": {
      "byteLimit": 2048000,
      "rowLimit": 10000
     },
     "inputWidgets": {},
     "nuid": "acb2b39f-9e50-4746-9a46-b8d6319b2a75",
     "showTitle": false,
     "title": ""
    }
   },
   "source": [
    "**c)Eslovênia**"
   ]
  },
  {
   "cell_type": "code",
   "execution_count": 0,
   "metadata": {
    "application/vnd.databricks.v1+cell": {
     "cellMetadata": {
      "byteLimit": 2048000,
      "rowLimit": 10000
     },
     "inputWidgets": {},
     "nuid": "6c1c4e74-0703-4280-b16e-71fb78dfc76f",
     "showTitle": false,
     "title": ""
    }
   },
   "outputs": [
    {
     "output_type": "stream",
     "name": "stdout",
     "output_type": "stream",
     "text": [
      "+----------------+------------+\n|discipline_title|num_medalhas|\n+----------------+------------+\n|          Rowing|           8|\n|            Judo|           6|\n|       Athletics|           4|\n|    Canoe Slalom|           3|\n|         Sailing|           3|\n|        Shooting|           3|\n|    Cycling Road|           2|\n|  Sport Climbing|           1|\n|        Swimming|           1|\n+----------------+------------+\n\n"
     ]
    }
   ],
   "source": [
    "consulta_medalhas_eslovenia = \"\"\"\n",
    "SELECT discipline_title, COUNT(*) AS num_medalhas\n",
    "FROM fato_medalhas \n",
    "WHERE country_name == 'Slovenia'\n",
    "GROUP BY discipline_title\n",
    "ORDER BY num_medalhas DESC;\n",
    "\"\"\"\n",
    "get_medalhas_eslovenia = spark.sql(consulta_medalhas_eslovenia)\n",
    "get_medalhas_eslovenia.show()"
   ]
  },
  {
   "cell_type": "markdown",
   "metadata": {
    "application/vnd.databricks.v1+cell": {
     "cellMetadata": {
      "byteLimit": 2048000,
      "rowLimit": 10000
     },
     "inputWidgets": {},
     "nuid": "db73e12b-a4b6-4e18-a909-3440fe998793",
     "showTitle": false,
     "title": ""
    }
   },
   "source": [
    "Por fim, a Eslovênia tem como principais esportes: o Remo, o Judo e o Atletismo."
   ]
  },
  {
   "cell_type": "markdown",
   "metadata": {
    "application/vnd.databricks.v1+cell": {
     "cellMetadata": {
      "byteLimit": 2048000,
      "rowLimit": 10000
     },
     "inputWidgets": {},
     "nuid": "0f1f5a39-ed90-4b51-8ca0-e73fb31130f8",
     "showTitle": false,
     "title": ""
    }
   },
   "source": [
    "**3)Como se dá a distribuição de medalhas do Brasil?**"
   ]
  },
  {
   "cell_type": "code",
   "execution_count": 0,
   "metadata": {
    "application/vnd.databricks.v1+cell": {
     "cellMetadata": {
      "byteLimit": 2048000,
      "rowLimit": 10000
     },
     "inputWidgets": {},
     "nuid": "ba45dfd7-feac-4b0f-89cf-e24f24ef6804",
     "showTitle": false,
     "title": ""
    }
   },
   "outputs": [
    {
     "output_type": "stream",
     "name": "stdout",
     "output_type": "stream",
     "text": [
      "+-------------------+------------+\n|   discipline_title|num_medalhas|\n+-------------------+------------+\n|            Sailing|          33|\n|               Judo|          24|\n|   Beach Volleyball|          15|\n|          Athletics|          14|\n|           Swimming|          12|\n|             Boxing|           8|\n|       Canoe Sprint|           5|\n|Gymnastics Artistic|           4|\n|      Skateboarding|           3|\n|           Shooting|           3|\n|             Tennis|           2|\n|  Marathon Swimming|           2|\n|Artistic Gymnastics|           2|\n|          Taekwondo|           2|\n|            Surfing|           1|\n|  Modern Pentathlon|           1|\n| Equestrian Jumping|           1|\n+-------------------+------------+\n\n"
     ]
    }
   ],
   "source": [
    "consulta_medalhas_brasil = \"\"\"\n",
    "SELECT discipline_title, COUNT(*) AS num_medalhas\n",
    "FROM fato_medalhas \n",
    "WHERE country_name == 'Brazil'\n",
    "GROUP BY discipline_title\n",
    "ORDER BY num_medalhas DESC;\n",
    "\"\"\"\n",
    "get_medalhas_brasil = spark.sql(consulta_medalhas_brasil)\n",
    "get_medalhas_brasil.show()"
   ]
  },
  {
   "cell_type": "markdown",
   "metadata": {
    "application/vnd.databricks.v1+cell": {
     "cellMetadata": {
      "byteLimit": 2048000,
      "rowLimit": 10000
     },
     "inputWidgets": {},
     "nuid": "24cabd22-f3bd-42b4-b2bc-6bc4a1db4db1",
     "showTitle": false,
     "title": ""
    }
   },
   "source": [
    "Ao longo da historia, o Brasil se destaca na Vela, no Judo, no Volei de Praia, no Atletismo e na Natação."
   ]
  },
  {
   "cell_type": "markdown",
   "metadata": {
    "application/vnd.databricks.v1+cell": {
     "cellMetadata": {
      "byteLimit": 2048000,
      "rowLimit": 10000
     },
     "inputWidgets": {},
     "nuid": "581e696f-3bf7-4a19-9352-1dc2bf0872a0",
     "showTitle": false,
     "title": ""
    }
   },
   "source": [
    "**4)Algum país que está em franca evolução a partir das olimpíadas de Sydney-2000?**"
   ]
  },
  {
   "cell_type": "markdown",
   "metadata": {
    "application/vnd.databricks.v1+cell": {
     "cellMetadata": {
      "byteLimit": 2048000,
      "rowLimit": 10000
     },
     "inputWidgets": {},
     "nuid": "0259c1c9-44e4-4519-97bc-037a174e62b2",
     "showTitle": false,
     "title": ""
    }
   },
   "source": [
    "Para analisar esse caso, devemos buscar o numero total de medalhas de cada páis ao longo das últimas 6 edições. O total de medalhas deve ser menor do que 20 e ordenado a partir de sydney-2000."
   ]
  },
  {
   "cell_type": "code",
   "execution_count": 0,
   "metadata": {
    "application/vnd.databricks.v1+cell": {
     "cellMetadata": {
      "byteLimit": 2048000,
      "rowLimit": 10000
     },
     "inputWidgets": {},
     "nuid": "7b263e31-9ca7-4ee6-85bd-d7374865c2a4",
     "showTitle": false,
     "title": ""
    }
   },
   "outputs": [
    {
     "output_type": "stream",
     "name": "stdout",
     "output_type": "stream",
     "text": [
      "+-----------------+-----------------+-----------------+-----------------+-----------------+-----------------+-----------------+\n|     country_name|num_medalhas_2000|num_medalhas_2004|num_medalhas_2008|num_medalhas_2012|num_medalhas_2016|num_medalhas_2020|\n+-----------------+-----------------+-----------------+-----------------+-----------------+-----------------+-----------------+\n|Republic of Korea|               19|               24|               25|               21|               17|               16|\n|          Hungary|               17|               15|               10|               18|               14|               17|\n|            Japan|               16|               33|               22|               31|               37|               51|\n|           Poland|               16|               12|                9|               13|               12|               12|\n|          Belarus|               14|                6|                6|                5|                3|                6|\n|           Canada|               14|               13|               19|               16|               18|               21|\n|           Sweden|               11|                8|                7|                8|               10|                8|\n|           Greece|               11|               17|                2|                3|                7|                3|\n|            Spain|               10|               21|               20|               16|               16|               15|\n|   Czech Republic|                9|                9|                8|               11|               11|               13|\n|         Bulgaria|                9|                7|                5|                3|                2|                5|\n|           Norway|                8|                6|                8|                3|                5|                8|\n|        Indonesia|                8|                4|                8|                3|                4|                6|\n|         Ethiopia|                8|                7|                7|                7|                8|                4|\n|           Brazil|                8|                9|               12|               15|               21|               20|\n|          Belgium|                7|                3|                1|                3|                5|                5|\n|      Switzerland|                7|                7|                7|                4|                7|               15|\n+-----------------+-----------------+-----------------+-----------------+-----------------+-----------------+-----------------+\n\n"
     ]
    }
   ],
   "source": [
    "consulta_ascensao = \"\"\"\n",
    "SELECT\n",
    "  fm.country_name,\n",
    "  COUNT(CASE WHEN ds.game_year = 2000 THEN fm.medal_id ELSE NULL END) AS num_medalhas_2000, --conta o número de medalhas de cada país na edição de 2000\n",
    "  COUNT(CASE WHEN ds.game_year = 2004 THEN fm.medal_id ELSE NULL END) AS num_medalhas_2004, --conta o número de medalhas de cada país na edição de 2004\n",
    "  COUNT(CASE WHEN ds.game_year = 2008 THEN fm.medal_id ELSE NULL END) AS num_medalhas_2008, --conta o número de medalhas de cada país na edição de 2008\n",
    "  COUNT(CASE WHEN ds.game_year = 2012 THEN fm.medal_id ELSE NULL END) AS num_medalhas_2012, --conta o número de medalhas de cada país na edição de 2012\n",
    "  COUNT(CASE WHEN ds.game_year = 2016 THEN fm.medal_id ELSE NULL END) AS num_medalhas_2016, --conta o número de medalhas de cada país na edição de 2016\n",
    "  COUNT(CASE WHEN ds.game_year = 2020 THEN fm.medal_id ELSE NULL END) AS num_medalhas_2020 --conta o número de medalhas de cada país na edição de 2020\n",
    "FROM fato_medalhas fm\n",
    "JOIN dim_sedes ds ON fm.slug_game = ds.slug_game\n",
    "GROUP BY fm.country_name\n",
    "HAVING num_medalhas_2000 < 20 --seleciona apenas os países que conquistaram menos de 20 medalhas nos Jogos Olímpicos de 2000\n",
    "ORDER BY num_medalhas_2000 DESC\n",
    "LIMIT 17;\n",
    "\"\"\"\n",
    "\n",
    "get_ascensao = spark.sql(consulta_ascensao)\n",
    "get_ascensao.show()"
   ]
  },
  {
   "cell_type": "markdown",
   "metadata": {
    "application/vnd.databricks.v1+cell": {
     "cellMetadata": {
      "byteLimit": 2048000,
      "rowLimit": 10000
     },
     "inputWidgets": {},
     "nuid": "a6bb5e3b-9569-4524-97ad-ba37cf9ee8c4",
     "showTitle": false,
     "title": ""
    }
   },
   "source": [
    "Três países podem ser considerados em evolução, sendo eles: Suíça, Brasil e, principalmente, o Japão."
   ]
  },
  {
   "cell_type": "markdown",
   "metadata": {
    "application/vnd.databricks.v1+cell": {
     "cellMetadata": {
      "byteLimit": 2048000,
      "rowLimit": 10000
     },
     "inputWidgets": {},
     "nuid": "86aa19ea-b31d-46a2-821f-2a4b6aae8f79",
     "showTitle": false,
     "title": ""
    }
   },
   "source": [
    "**5)Qual o maior detentetor de medalhas de ouro na história entre homens e entre mulheres?**"
   ]
  },
  {
   "cell_type": "code",
   "execution_count": 0,
   "metadata": {
    "application/vnd.databricks.v1+cell": {
     "cellMetadata": {
      "byteLimit": 2048000,
      "rowLimit": 10000
     },
     "inputWidgets": {},
     "nuid": "1481270f-c247-47c4-a2de-346f9c9474cf",
     "showTitle": false,
     "title": ""
    }
   },
   "outputs": [
    {
     "output_type": "stream",
     "name": "stdout",
     "output_type": "stream",
     "text": [
      "+-----------------+------------+-------------------+-----------------+--------------------+--------------------+----------------+\n|athlete_full_name|event_gender|   discipline_title|num_medalhas_ouro|numero_participacoes|        country_name|      first_game|\n+-----------------+------------+-------------------+-----------------+--------------------+--------------------+----------------+\n|   Michael PHELPS|         Men|           Swimming|               13|                   5|United States of ...|     Sydney 2000|\n|         Ray EWRY|         Men|          Athletics|                8|                   4|United States of ...|      Paris 1900|\n|       Carl LEWIS|         Men|          Athletics|                7|                   4|United States of ...|Los Angeles 1984|\n|   Vera CASLAVSKA|       Women|Gymnastics Artistic|                7|                   3|      Czechoslovakia|       Rome 1960|\n|       Usain BOLT|         Men|          Athletics|                6|                   4|             Jamaica|     Athens 2004|\n|   Boris SHAKHLIN|         Men|Gymnastics Artistic|                6|                   3|        Soviet Union|  Melbourne 1956|\n|    Katie LEDECKY|       Women|           Swimming|                6|                   3|United States of ...|     London 2012|\n|  Larisa LATYNINA|       Women|Gymnastics Artistic|                6|                   3|        Soviet Union|  Melbourne 1956|\n|Nikolay ANDRIANOV|         Men|Gymnastics Artistic|                6|                   3|        Soviet Union|     Munich 1972|\n|      Paavo NURMI|         Men|          Athletics|                6|                   3|             Finland|    Antwerp 1920|\n+-----------------+------------+-------------------+-----------------+--------------------+--------------------+----------------+\n\n"
     ]
    }
   ],
   "source": [
    "consulta_ranking_atletas = \"\"\"\n",
    "SELECT\n",
    "  da.athlete_full_name,\n",
    "  fm.event_gender,\n",
    "  fm.discipline_title,\n",
    "  COUNT(*) AS num_medalhas_ouro,\n",
    "  CAST(SUBSTRING(CONCAT(AVG(da.games_participations)), 0, LENGTH(AVG(da.games_participations)) - 2) AS INT) AS numero_participacoes,\n",
    "  fm.country_name,\n",
    "  da.first_game\n",
    "FROM dim_atletas da\n",
    "JOIN fato_medalhas fm ON da.athlete_url = fm.athlete_url\n",
    "WHERE fm.medal_type = \"GOLD\"  --filtro para apenas medalhas de ouro\n",
    "GROUP BY da.athlete_full_name, fm.event_gender, fm.discipline_title, fm.country_name, da.first_game  \n",
    "ORDER BY num_medalhas_ouro DESC, numero_participacoes DESC, da.athlete_full_name\n",
    "LIMIT 10;\n",
    "\n",
    "\"\"\"\n",
    "\n",
    "get_ranking_atletas = spark.sql(consulta_ranking_atletas)\n",
    "get_ranking_atletas.show()\n"
   ]
  },
  {
   "cell_type": "markdown",
   "metadata": {
    "application/vnd.databricks.v1+cell": {
     "cellMetadata": {
      "byteLimit": 2048000,
      "rowLimit": 10000
     },
     "inputWidgets": {},
     "nuid": "4f2a144a-df14-4989-8206-a96f86f4c953",
     "showTitle": false,
     "title": ""
    }
   },
   "source": [
    "Entre os homens, Michael Phelps é reconhecido como o atleta olímpico mais condecorado de todos os tempos, dominando as provas de natação por anos. Por outro lado, entre as mulheres, temos o destaque da ginasta Vera Caslavska.\n"
   ]
  },
  {
   "cell_type": "markdown",
   "metadata": {
    "application/vnd.databricks.v1+cell": {
     "cellMetadata": {
      "byteLimit": 2048000,
      "rowLimit": 10000
     },
     "inputWidgets": {},
     "nuid": "9c30f95c-ad2f-4810-89d1-ccfda17e8195",
     "showTitle": false,
     "title": ""
    }
   },
   "source": [
    "**6)Quais os maiores medalhistas de ouro e em geral do Brasil?**"
   ]
  },
  {
   "cell_type": "code",
   "execution_count": 0,
   "metadata": {
    "application/vnd.databricks.v1+cell": {
     "cellMetadata": {
      "byteLimit": 2048000,
      "rowLimit": 10000
     },
     "inputWidgets": {},
     "nuid": "591b0308-a765-4d23-b512-fec8cc7af405",
     "showTitle": false,
     "title": ""
    }
   },
   "outputs": [
    {
     "output_type": "stream",
     "name": "stdout",
     "output_type": "stream",
     "text": [
      "+--------------------+-------------------+-----------------+--------------------+----------------+\n|   athlete_full_name|   discipline_title|num_medalhas_ouro|numero_participacoes|      first_game|\n+--------------------+-------------------+-----------------+--------------------+----------------+\n|      Robert SCHEIDT|            Sailing|                2|                   7|    Atlanta 1996|\n|        Torben GRAEL|            Sailing|                2|                   6|Los Angeles 1984|\n|Adhemar FERREIRA ...|          Athletics|                2|                   4|     London 1948|\n|    Marcelo FERREIRA|            Sailing|                2|                   4|  Barcelona 1992|\n|        Kahena KUNZE|            Sailing|                2|                   2|        Rio 2016|\n|       Martine GRAEL|            Sailing|                2|                   2|        Rio 2016|\n|      Rodrigo PESSOA| Equestrian Jumping|                1|                   7|  Barcelona 1992|\n|     RICARDO RICARDO|   Beach Volleyball|                1|                   4|     Sydney 2000|\n|      Alison CERUTTI|   Beach Volleyball|                1|                   3|     London 2012|\n|   Ana Marcela CUNHA|  Marathon Swimming|                1|                   3|    Beijing 2008|\n|      Arthur ZANETTI|Gymnastics Artistic|                1|                   3|     London 2012|\n|Aurelio MIGUEL FE...|               Judo|                1|                   3|      Seoul 1988|\n|Jacqueline Cruz S...|   Beach Volleyball|                1|                   3|     Moscow 1980|\n|        Joaquim CRUZ|          Athletics|                1|                   3|Los Angeles 1984|\n|       Maurren MAGGI|          Athletics|                1|                   3|     Sydney 2000|\n+--------------------+-------------------+-----------------+--------------------+----------------+\n\n"
     ]
    }
   ],
   "source": [
    "consulta_ranking_brasileiros_ouro = \"\"\"\n",
    "SELECT\n",
    "  da.athlete_full_name,\n",
    "  fm.discipline_title,\n",
    "  COUNT(*) AS num_medalhas_ouro,\n",
    "  CAST(SUBSTRING(CONCAT(AVG(da.games_participations)), 0, LENGTH(AVG(da.games_participations)) - 2) AS INT) AS numero_participacoes,\n",
    "  da.first_game\n",
    "FROM dim_atletas da\n",
    "JOIN fato_medalhas fm ON da.athlete_url = fm.athlete_url\n",
    "WHERE fm.medal_type = \"GOLD\" AND fm.country_name = 'Brazil' --filtro para brasileiros com medalhas de ouro\n",
    "GROUP BY da.athlete_full_name, fm.discipline_title, da.first_game\n",
    "ORDER BY num_medalhas_ouro DESC, numero_participacoes DESC, da.athlete_full_name\n",
    "LIMIT 15;\n",
    "\n",
    "\"\"\"\n",
    "\n",
    "get_ranking_brasileiros_ouro = spark.sql(consulta_ranking_brasileiros_ouro)\n",
    "get_ranking_brasileiros_ouro.show()\n"
   ]
  },
  {
   "cell_type": "markdown",
   "metadata": {
    "application/vnd.databricks.v1+cell": {
     "cellMetadata": {
      "byteLimit": 2048000,
      "rowLimit": 10000
     },
     "inputWidgets": {},
     "nuid": "701ad62a-dd2a-4744-8c0e-881208bcf46b",
     "showTitle": false,
     "title": ""
    }
   },
   "source": [
    "Robert Scheidt, Torben Grael, Adhemar Ferreira, Marcelo Ferreira, Kahena Kunze e Martine Grael são os maiores nomes do Brasil no quesito medalhas de ouro."
   ]
  },
  {
   "cell_type": "code",
   "execution_count": 0,
   "metadata": {
    "application/vnd.databricks.v1+cell": {
     "cellMetadata": {
      "byteLimit": 2048000,
      "rowLimit": 10000
     },
     "inputWidgets": {},
     "nuid": "2c389268-6620-4aff-a7f3-36daace4737c",
     "showTitle": false,
     "title": ""
    }
   },
   "outputs": [
    {
     "output_type": "stream",
     "name": "stdout",
     "output_type": "stream",
     "text": [
      "+--------------------+-------------------+------------+--------------------+----------------+\n|   athlete_full_name|   discipline_title|num_medalhas|numero_participacoes|      first_game|\n+--------------------+-------------------+------------+--------------------+----------------+\n|      Robert SCHEIDT|            Sailing|           5|                   7|    Atlanta 1996|\n|        Torben GRAEL|            Sailing|           4|                   6|Los Angeles 1984|\n|Isaquias QUEIROZ ...|       Canoe Sprint|           4|                   2|        Rio 2016|\n|      Gustavo BORGES|           Swimming|           3|                   4|  Barcelona 1992|\n|    Marcelo FERREIRA|            Sailing|           3|                   4|  Barcelona 1992|\n|     RICARDO RICARDO|   Beach Volleyball|           3|                   4|     Sydney 2000|\n|   Cesar CIELO FILHO|           Swimming|           3|                   2|    Beijing 2008|\n|     Reinaldo CONRAD|            Sailing|           2|                   5|       Rome 1960|\n|Adhemar FERREIRA ...|          Athletics|           2|                   4|     London 1948|\n|          Lars GRAEL|            Sailing|           2|                   4|Los Angeles 1984|\n|        Tiago CAMILO|               Judo|           2|                   4|     Sydney 2000|\n|      Alison CERUTTI|   Beach Volleyball|           2|                   3|     London 2012|\n|      Arthur ZANETTI|Gymnastics Artistic|           2|                   3|     London 2012|\n|Aurelio MIGUEL FE...|               Judo|           2|                   3|      Seoul 1988|\n|        Joaquim CRUZ|          Athletics|           2|                   3|Los Angeles 1984|\n+--------------------+-------------------+------------+--------------------+----------------+\n\n"
     ]
    }
   ],
   "source": [
    "consulta_ranking_brasileiros = \"\"\"\n",
    "SELECT\n",
    "  da.athlete_full_name,\n",
    "  fm.discipline_title,\n",
    "  COUNT(*) AS num_medalhas,\n",
    "  CAST(SUBSTRING(CONCAT(AVG(da.games_participations)), 0, LENGTH(AVG(da.games_participations)) - 2) AS INT) AS numero_participacoes,\n",
    "  da.first_game\n",
    "FROM dim_atletas da\n",
    "JOIN fato_medalhas fm ON da.athlete_url = fm.athlete_url\n",
    "WHERE fm.country_name = 'Brazil'\n",
    "GROUP BY da.athlete_full_name, fm.discipline_title, da.first_game\n",
    "ORDER BY num_medalhas DESC, numero_participacoes DESC, da.athlete_full_name\n",
    "LIMIT 15;\n",
    "\n",
    "\"\"\"\n",
    "\n",
    "get_ranking_brasileiros = spark.sql(consulta_ranking_brasileiros)\n",
    "get_ranking_brasileiros.show()\n"
   ]
  },
  {
   "cell_type": "markdown",
   "metadata": {
    "application/vnd.databricks.v1+cell": {
     "cellMetadata": {
      "byteLimit": 2048000,
      "rowLimit": 10000
     },
     "inputWidgets": {},
     "nuid": "8d8aa052-f38f-4b78-b838-90800de823c4",
     "showTitle": false,
     "title": ""
    }
   },
   "source": [
    "Nesse novo cenário, outros nomes surgem além dos citados anteriormente, entre eles: Isaquias Queiroz, Gustavo Borges, Ricardo e Cesar Cielo."
   ]
  },
  {
   "cell_type": "markdown",
   "metadata": {
    "application/vnd.databricks.v1+cell": {
     "cellMetadata": {
      "byteLimit": 2048000,
      "rowLimit": 10000
     },
     "inputWidgets": {},
     "nuid": "a591add1-8a60-4945-b05a-7b17af1e0af8",
     "showTitle": false,
     "title": ""
    }
   },
   "source": [
    "# Conclusão/Autoavaliação"
   ]
  },
  {
   "cell_type": "markdown",
   "metadata": {
    "application/vnd.databricks.v1+cell": {
     "cellMetadata": {
      "byteLimit": 2048000,
      "rowLimit": 10000
     },
     "inputWidgets": {},
     "nuid": "f5237771-b011-455c-9ab0-f4541819d7b0",
     "showTitle": false,
     "title": ""
    }
   },
   "source": [
    "De modo geral, as perguntas formuladas no início do trabalho foram bem respondidas pelas consultas realizadas na parte final. As análises fornecidas permitiram uma visão clara e informativa sobre a distribuição de medalhas e o desempenho dos atletas ao longo das Olimpíadas. No entanto, os resultados não podem ser considerados 100% satisfatórios, pois houve uma limitação significativa na análise: os esportes coletivos foram desconsiderados. Essa exclusão ocorreu devido ao descarte das linhas da tabela que possuíam 'athlete_url' nulos, um problema comum nos registros de esportes coletivos.\n",
    "\n",
    "Essa limitação impactou diretamente no número de medalhas de atletas renomados como Michael Phelps. Embora ele tenha conquistado 23 medalhas, nossas consultas revelaram apenas 13, uma vez que suas medalhas obtidas em competições por equipe foram desconsideradas.\n",
    "\n",
    "Para que os resultados fossem mais satisfatórios e precisos, seria essencial que todas as linhas da coluna 'athlete_url' estivessem preenchidas, garantindo assim uma análise completa e abrangente de todas as modalidades esportivas e dos desempenhos individuais e coletivos dos atletas.\n",
    "\n",
    "Além disso, para trabalhos futuros, gostaria de integrar mais fontes de dados, como as olimpíadas de inverno e as competições parolímpicas, enriquecendo ainda mais a análise."
   ]
  },
  {
   "cell_type": "markdown",
   "metadata": {
    "application/vnd.databricks.v1+cell": {
     "cellMetadata": {
      "byteLimit": 2048000,
      "rowLimit": 10000
     },
     "inputWidgets": {},
     "nuid": "6014a0fe-ce12-493d-b6b1-2d0c1cf38519",
     "showTitle": false,
     "title": ""
    }
   },
   "source": []
  }
 ],
 "metadata": {
  "application/vnd.databricks.v1+notebook": {
   "dashboards": [],
   "environmentMetadata": null,
   "language": "python",
   "notebookMetadata": {
    "mostRecentlyExecutedCommandWithImplicitDF": {
     "commandId": 2545097940865813,
     "dataframes": [
      "_sqldf"
     ]
    },
    "pythonIndentUnit": 4
   },
   "notebookName": "MVP_Olimpiadas",
   "widgets": {}
  }
 },
 "nbformat": 4,
 "nbformat_minor": 0
}
